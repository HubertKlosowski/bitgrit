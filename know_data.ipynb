{
 "cells": [
  {
   "metadata": {},
   "cell_type": "markdown",
   "source": "### Engineers' Salary Prediction Challenge",
   "id": "d756036b727ceb02"
  },
  {
   "metadata": {
    "collapsed": true
   },
   "cell_type": "code",
   "source": [
    "import os\n",
    "\n",
    "import matplotlib.pyplot as plt\n",
    "import numpy as np\n",
    "import pandas as pd\n",
    "import seaborn as sns\n",
    "from scipy.stats import mannwhitneyu\n",
    "from sklearn.decomposition import PCA\n",
    "from sklearn.preprocessing import LabelEncoder, OneHotEncoder, StandardScaler"
   ],
   "id": "initial_id",
   "outputs": [],
   "execution_count": null
  },
  {
   "metadata": {},
   "cell_type": "markdown",
   "source": "#### Wczytanie danych",
   "id": "78450eff9e710013"
  },
  {
   "metadata": {},
   "cell_type": "code",
   "source": [
    "train = pd.read_csv(os.path.join('data', 'train.csv'))\n",
    "test = pd.read_csv(os.path.join('data', 'test.csv'))\n",
    "\n",
    "train.head()"
   ],
   "id": "eccc2589688b5764",
   "outputs": [],
   "execution_count": null
  },
  {
   "metadata": {},
   "cell_type": "code",
   "source": "train.info()",
   "id": "3aefc529f3eeb832",
   "outputs": [],
   "execution_count": null
  },
  {
   "metadata": {},
   "cell_type": "code",
   "source": "test.info()",
   "id": "76c5c5763b1eca0a",
   "outputs": [],
   "execution_count": null
  },
  {
   "metadata": {},
   "cell_type": "code",
   "source": [
    "def compare_train_test(column):\n",
    "    train_values = train[column].value_counts().reset_index(name='train_count')\n",
    "    test_values = test[column].value_counts().reset_index(name='test_count')\n",
    "    return pd.merge(test_values, train_values, how='outer', on=column)\n",
    "\n",
    "c_job_title = compare_train_test('job_title')\n",
    "c_job_state = compare_train_test('job_state')"
   ],
   "id": "9ca3988075751b2a",
   "outputs": [],
   "execution_count": null
  },
  {
   "metadata": {},
   "cell_type": "markdown",
   "source": "### <center>Braki w kolumnach</center>",
   "id": "f2030f3555c4a65c"
  },
  {
   "metadata": {},
   "cell_type": "code",
   "source": "train.isnull().sum().sort_values(ascending=False)",
   "id": "1d213c91edc81de0",
   "outputs": [],
   "execution_count": null
  },
  {
   "metadata": {},
   "cell_type": "code",
   "source": "test.isnull().sum().sort_values(ascending=False)",
   "id": "5db01d6ff27c72ea",
   "outputs": [],
   "execution_count": null
  },
  {
   "metadata": {},
   "cell_type": "markdown",
   "source": "### <center>Analiza kolumn job_desc</center>",
   "id": "412c6e06b6b61171"
  },
  {
   "metadata": {},
   "cell_type": "code",
   "source": [
    "job_desc_columns = [col for col in train.columns if col.startswith('job_desc_')]\n",
    "\n",
    "train['has_description'] = (train[job_desc_columns].sum(axis=1) != 0).astype(int)\n",
    "test['has_description'] = (test[job_desc_columns].sum(axis=1) != 0).astype(int)"
   ],
   "id": "662f77c22de16ac",
   "outputs": [],
   "execution_count": null
  },
  {
   "metadata": {},
   "cell_type": "markdown",
   "source": "#### PCA dla kolumn job_desc",
   "id": "12d862fc35b8008"
  },
  {
   "metadata": {},
   "cell_type": "code",
   "source": [
    "pca_n_components = 6\n",
    "pca_columns = [f'pca_job_desc_{i}' for i in range(pca_n_components)]\n",
    "\n",
    "standard_scaler = StandardScaler()\n",
    "train[job_desc_columns] = standard_scaler.fit_transform(train[job_desc_columns])\n",
    "test[job_desc_columns] = standard_scaler.transform(test[job_desc_columns])\n",
    "\n",
    "job_desc_pca = PCA(n_components=pca_n_components, random_state=42).fit(train[job_desc_columns])\n",
    "\n",
    "train_pca_decomposed = job_desc_pca.transform(train[job_desc_columns])\n",
    "test_pca_decomposed = job_desc_pca.transform(test[job_desc_columns])\n",
    "\n",
    "train.drop(columns=job_desc_columns, inplace=True)\n",
    "test.drop(columns=job_desc_columns, inplace=True)\n",
    "\n",
    "train = pd.concat([train, pd.DataFrame(data=train_pca_decomposed, columns=pca_columns)], axis=1)\n",
    "test = pd.concat([test, pd.DataFrame(data=test_pca_decomposed, columns=pca_columns)], axis=1)"
   ],
   "id": "1e395b774b4937d7",
   "outputs": [],
   "execution_count": null
  },
  {
   "metadata": {},
   "cell_type": "markdown",
   "source": "#### Ilość zachowanych informacji przez każdą składową główną PCA",
   "id": "205905f15d355d6f"
  },
  {
   "metadata": {},
   "cell_type": "code",
   "source": [
    "preserved_info = pd.DataFrame(data={\n",
    "    'components': pca_columns,\n",
    "    'variance': job_desc_pca.explained_variance_ratio_ * 100\n",
    "})\n",
    "\n",
    "plt.figure(figsize=(12, 7))\n",
    "sns.barplot(\n",
    "    data=preserved_info,\n",
    "    x='components',\n",
    "    y='variance',\n",
    "    color='skyblue',\n",
    "    edgecolor='black'\n",
    ")\n",
    "\n",
    "plt.xlabel('Składowe główne', fontsize=14)\n",
    "plt.ylabel('Procent zachowanych informacji [%]', fontsize=14)\n",
    "plt.title('Analiza PCA: Procent wariancji wyjaśnionej przez składowe główne', fontsize=16, pad=20)\n",
    "\n",
    "for i, v in enumerate(preserved_info['variance']):\n",
    "    plt.text(i, v + 0.5, f'{v:.1f}%', ha='center', fontsize=12)\n",
    "\n",
    "plt.grid(True, linestyle='--', alpha=0.7)\n",
    "plt.tight_layout()"
   ],
   "id": "c9d960b31cb8f84b",
   "outputs": [],
   "execution_count": null
  },
  {
   "metadata": {},
   "cell_type": "markdown",
   "source": "### <center>Miesiąc i rok</center>",
   "id": "95ca7c24f8b08686"
  },
  {
   "metadata": {},
   "cell_type": "code",
   "source": "(train['job_posted_date'].isna().sum(), test['job_posted_date'].isna().sum())",
   "id": "200fa65d93dc80bb",
   "outputs": [],
   "execution_count": null
  },
  {
   "metadata": {},
   "cell_type": "code",
   "source": [
    "train['job_posted_date'] = train['job_posted_date'].fillna(train['job_posted_date'].mode()[0])\n",
    "\n",
    "train['job_posted_date'] = pd.to_datetime(train['job_posted_date'], format='%Y/%m')\n",
    "train['month'] = train['job_posted_date'].dt.month\n",
    "train['year'] = train['job_posted_date'].dt.year\n",
    "train.drop(columns=['job_posted_date'], inplace=True)\n",
    "\n",
    "test['job_posted_date'] = pd.to_datetime(test['job_posted_date'], format='%Y/%m')\n",
    "test['month'] = test['job_posted_date'].dt.month\n",
    "test['year'] = test['job_posted_date'].dt.year\n",
    "test.drop(columns=['job_posted_date'], inplace=True)"
   ],
   "id": "dbc248b0a2642e5c",
   "outputs": [],
   "execution_count": null
  },
  {
   "metadata": {},
   "cell_type": "markdown",
   "source": [
    "### <center>Porównanie wybranych kolumn kategorycznych w train/test</center>\n",
    "\n",
    "#### <center>Stan w którym jest oferta pracy \"job_state\"</center>"
   ],
   "id": "8e09531f796f8849"
  },
  {
   "metadata": {},
   "cell_type": "code",
   "source": "c_job_state",
   "id": "7beba29828cf54b4",
   "outputs": [],
   "execution_count": null
  },
  {
   "metadata": {},
   "cell_type": "markdown",
   "source": "#### <center>WYKRES: Region USA, a wysokość pensji</center>",
   "id": "7f85552d28713ee0"
  },
  {
   "metadata": {},
   "cell_type": "code",
   "source": [
    "def plot_bar(column, width, xlabel, ylabel, title, main_ax=None, fontsize=16, show_legend=True, rotation=90):\n",
    "    salary_types = train['salary_category'].unique()\n",
    "    show_every_column = train.groupby([column, 'salary_category']).size().unstack(fill_value=0).reindex(columns=salary_types, fill_value=0).stack().reset_index(name='Count')\n",
    "\n",
    "    x_axis = np.arange(len(show_every_column[column].unique()))\n",
    "    my_xticks = [x_axis - width, x_axis, x_axis + width]\n",
    "    colors = ['gold', 'silver', 'brown']\n",
    "\n",
    "    if main_ax is None:\n",
    "        f, a = plt.subplots(figsize=(10, 8))\n",
    "    else:\n",
    "        a = main_ax\n",
    "\n",
    "    for i, salary in enumerate(salary_types):\n",
    "        a.bar(\n",
    "            x=my_xticks[i],\n",
    "            height=show_every_column.loc[(show_every_column['salary_category'] == salary), 'Count'],\n",
    "            width=width,\n",
    "            label=salary,\n",
    "            color=colors[i],\n",
    "            edgecolor='black',\n",
    "            alpha=1\n",
    "        )\n",
    "\n",
    "    a.grid(True)\n",
    "    a.set_xticks(x_axis)\n",
    "    a.set_xticklabels(show_every_column[column].unique(), rotation=rotation)\n",
    "    a.set_xlabel(xlabel, fontsize=fontsize)\n",
    "    a.set_ylabel(ylabel, fontsize=fontsize)\n",
    "    a.set_title(title, fontsize=fontsize)\n",
    "    if show_legend:\n",
    "        a.legend(title='Kategoria wynagrodzenia')\n",
    "\n",
    "\n",
    "plot_bar(\n",
    "    column='job_state',\n",
    "    width=0.2,\n",
    "    xlabel='Stan',\n",
    "    ylabel='Liczba ofert',\n",
    "    title='Kategoria zarobkowa w stanach'\n",
    ")"
   ],
   "id": "6742508d7e78c891",
   "outputs": [],
   "execution_count": null
  },
  {
   "metadata": {},
   "cell_type": "markdown",
   "source": "#### Zmiana stanów na regiony USA",
   "id": "67810476e946650f"
  },
  {
   "metadata": {},
   "cell_type": "code",
   "source": [
    "west_states = [\n",
    "    'AK', 'AZ', 'CA', 'CO', 'HI', 'ID',\n",
    "    'MT', 'NV', 'NM', 'OR', 'UT', 'WA', 'WY'\n",
    "]\n",
    "\n",
    "central_states = [\n",
    "    'AR', 'IA', 'IL', 'IN', 'KS', 'KY', 'LA',\n",
    "    'MI', 'MN', 'MO', 'ND', 'NE', 'OH',\n",
    "    'OK', 'SD', 'TX', 'WI'\n",
    "]\n",
    "\n",
    "east_states = [\n",
    "    'AL', 'CT', 'DE', 'FL', 'GA', 'MA', 'MD',\n",
    "    'ME', 'MS', 'NC', 'NH', 'NJ', 'NY', 'PA',\n",
    "    'RI', 'SC', 'TN', 'VA', 'VT', 'WV', 'DC'\n",
    "]\n",
    "\n",
    "def map_state_to_region(state):\n",
    "    if state in west_states:\n",
    "        return 'West'\n",
    "    elif state in central_states:\n",
    "        return 'Central'\n",
    "    elif state in east_states:\n",
    "        return 'East'\n",
    "    else:\n",
    "        return 'None'\n",
    "\n",
    "train['job_region'] = train['job_state'].apply(map_state_to_region)\n",
    "test['job_region'] = test['job_state'].apply(map_state_to_region)"
   ],
   "id": "7617a90cb32669af",
   "outputs": [],
   "execution_count": null
  },
  {
   "metadata": {},
   "cell_type": "markdown",
   "source": "#### <center>WYKRES: Region USA, a wysokość pensji</center>",
   "id": "44d970fb9678b087"
  },
  {
   "metadata": {},
   "cell_type": "code",
   "source": [
    "plot_bar(\n",
    "    column='job_region',\n",
    "    width=0.2,\n",
    "    xlabel='Region',\n",
    "    ylabel='Liczba ofert',\n",
    "    title='Kategoria zarobkowa w regionach'\n",
    ")"
   ],
   "id": "e0cd34341f9a41bc",
   "outputs": [],
   "execution_count": null
  },
  {
   "metadata": {},
   "cell_type": "markdown",
   "source": [
    "#### Co zrobić z job_state?\n",
    "\n",
    "Testowano:\n",
    "- usunięcie -> tak sobie\n",
    "- zmiana na \"job_region\" i kodowanie one-hot -> narazie najlepiej"
   ],
   "id": "e2890e07f11704f5"
  },
  {
   "metadata": {},
   "cell_type": "code",
   "source": [
    "job_region_one_hot = OneHotEncoder(sparse_output=False, dtype=int)\n",
    "job_region_one_hot.fit(train[['job_region']])\n",
    "\n",
    "train = pd.concat([train, pd.DataFrame(job_region_one_hot.transform(train[['job_region']]), columns=job_region_one_hot.categories_[0])], axis=1)\n",
    "test = pd.concat([test, pd.DataFrame(job_region_one_hot.transform(test[['job_region']]), columns=job_region_one_hot.categories_[0])], axis=1)\n",
    "\n",
    "train.drop(columns=['job_state', 'job_region'], inplace=True)\n",
    "test.drop(columns=['job_state', 'job_region'], inplace=True)"
   ],
   "id": "f95a00925d52b856",
   "outputs": [],
   "execution_count": null
  },
  {
   "metadata": {},
   "cell_type": "markdown",
   "source": "#### <center>Stanowisko pracy \"job_title\"</center>",
   "id": "ffe8bc56fdcd27d"
  },
  {
   "metadata": {},
   "cell_type": "code",
   "source": "c_job_title",
   "id": "23a55f462d89fe56",
   "outputs": [],
   "execution_count": null
  },
  {
   "metadata": {},
   "cell_type": "code",
   "source": "(train['job_title'].isna().sum(), test['job_title'].isna().sum())",
   "id": "2c666c2a1e64b96e",
   "outputs": [],
   "execution_count": null
  },
  {
   "metadata": {},
   "cell_type": "markdown",
   "source": "#### <center>WYKRES: Stanowisko pracy a wysokość pensji</center>",
   "id": "5a52f9f8e401deb8"
  },
  {
   "metadata": {},
   "cell_type": "code",
   "source": [
    "plot_bar(\n",
    "    column='job_title',\n",
    "    width=0.2,\n",
    "    xlabel='Stanowisko',\n",
    "    ylabel='Liczba ofert',\n",
    "    title='Kategorie zarobkowe dla każdej oferty pracy'\n",
    ")"
   ],
   "id": "1abf8b75194ad14d",
   "outputs": [],
   "execution_count": null
  },
  {
   "metadata": {},
   "cell_type": "markdown",
   "source": [
    "#### Co zrobić z job_title?\n",
    "\n",
    "Testowane:\n",
    "- kodowanie one-hot -> nie poprawia\n",
    "- usunięcie -> narazie najlepiej\n",
    "- pogrupować tak żeby była przewaga jakiś klas z 'salary_category'. Stworzenie 'job_title_earning' i kodowanie one-hot -> nie poprawia\n",
    "- zmiana na binary 'is_others_job_title' -> działa, ale zbadać wpływ na ostateczny wynik"
   ],
   "id": "d424430e0c7c1748"
  },
  {
   "metadata": {},
   "cell_type": "code",
   "source": [
    "train.loc[train['job_title'] == 'Others', 'is_others_job_title'] = 1\n",
    "test.loc[train['job_title'] == 'Others', 'is_others_job_title'] = 1\n",
    "\n",
    "train.loc[train['job_title'] != 'Others', 'is_others_job_title'] = 0\n",
    "test.loc[train['job_title'] != 'Others', 'is_others_job_title'] = 0\n",
    "\n",
    "train['is_others_job_title'] = train['is_others_job_title'].astype(int)\n",
    "\n",
    "train.drop(columns=['job_title'], inplace=True)\n",
    "test.drop(columns=['job_title'], inplace=True)"
   ],
   "id": "40866e60e62d936e",
   "outputs": [],
   "execution_count": null
  },
  {
   "metadata": {},
   "cell_type": "markdown",
   "source": "#### <center>WYKRES: Rodzaj stanowiska pracy a wysokość pensji</center>",
   "id": "e9f29fe73208c2ab"
  },
  {
   "metadata": {},
   "cell_type": "code",
   "source": [
    "plot_bar(\n",
    "    column='is_others_job_title',\n",
    "    width=0.2,\n",
    "    xlabel='is_others_job_title',\n",
    "    ylabel='Liczba ofert',\n",
    "    title='Kategorie zarobkowe dla typu oferty',\n",
    "    rotation=0\n",
    ")"
   ],
   "id": "2e722b4ab6280523",
   "outputs": [],
   "execution_count": null
  },
  {
   "metadata": {},
   "cell_type": "markdown",
   "source": "#### <center>Kolumny \"feature_\"</center>",
   "id": "a28f2b3439e910da"
  },
  {
   "metadata": {},
   "cell_type": "code",
   "source": [
    "feature_columns = [col for col in train.columns if col.startswith('feature_')]\n",
    "\n",
    "train[feature_columns].info()"
   ],
   "id": "39d7191a327bbe44",
   "outputs": [],
   "execution_count": null
  },
  {
   "metadata": {},
   "cell_type": "code",
   "source": "train.info()",
   "id": "1473b5f53f6fe901",
   "outputs": [],
   "execution_count": null
  },
  {
   "metadata": {},
   "cell_type": "markdown",
   "source": "#### <center>WYKRES: Podział wartości kolumn feature według wysokość pensji</center>",
   "id": "806da4cbc78712a8"
  },
  {
   "metadata": {},
   "cell_type": "code",
   "source": [
    "exclude_float = train[feature_columns].select_dtypes(exclude=np.float64).columns\n",
    "fig, ax = plt.subplots(nrows=5, ncols=2, figsize=(12, 20))\n",
    "\n",
    "for i, col in enumerate(exclude_float):\n",
    "    x, y = divmod(i, 2)\n",
    "    plot_bar(\n",
    "        column=col,\n",
    "        width=0.2,\n",
    "        xlabel=col,\n",
    "        ylabel='Liczba ofert',\n",
    "        title='',\n",
    "        main_ax=ax[x, y],\n",
    "        fontsize=12,\n",
    "        show_legend=True,\n",
    "        rotation=0\n",
    "    )"
   ],
   "id": "eb21361ccb02525c",
   "outputs": [],
   "execution_count": null
  },
  {
   "metadata": {},
   "cell_type": "markdown",
   "source": "#### feature_1",
   "id": "ae03cd0de24047ca"
  },
  {
   "metadata": {},
   "cell_type": "code",
   "source": [
    "grouped_feature_1 = train.groupby(['salary_category', 'feature_1']).size().unstack(fill_value=0)\n",
    "\n",
    "feature_1_encoder = LabelEncoder().fit(train['feature_1'])\n",
    "train['feature_1'] = feature_1_encoder.transform(train['feature_1'])\n",
    "test['feature_1'] = feature_1_encoder.transform(test['feature_1'])\n",
    "\n",
    "grouped_feature_1"
   ],
   "id": "662fb1b6a79d9d3",
   "outputs": [],
   "execution_count": null
  },
  {
   "metadata": {},
   "cell_type": "markdown",
   "source": "#### Korelacja kolumn feature",
   "id": "e3513adf1ea46dc6"
  },
  {
   "metadata": {},
   "cell_type": "code",
   "source": [
    "plt.figure(figsize=(10, 6))\n",
    "sns.heatmap(\n",
    "    train.loc[train['feature_10'].notna(), feature_columns].corr(),\n",
    "    annot=True,\n",
    "    fmt='.2f',\n",
    "    cmap='viridis',\n",
    "    linewidths=0.5,\n",
    "    linecolor='black',\n",
    "    square=True,\n",
    "    cbar=True\n",
    ")"
   ],
   "id": "66eb7bf323bd8342",
   "outputs": [],
   "execution_count": null
  },
  {
   "metadata": {},
   "cell_type": "markdown",
   "source": "#### feature_2 (bo jest najwyżej w importance dla xgb, lgb i rf)",
   "id": "23bfc98173b675af"
  },
  {
   "metadata": {},
   "cell_type": "code",
   "source": [
    "plt.figure(figsize=(10, 6))\n",
    "sns.histplot(\n",
    "    data=train,\n",
    "    x='feature_2',\n",
    "    hue='salary_category',\n",
    "    kde=True,\n",
    "    palette='Set2',\n",
    "    multiple='stack',\n",
    "    bins=100,\n",
    ")\n",
    "\n",
    "plt.title('Rozkład feature_2 według kategorii wynagrodzenia', fontsize=14)\n",
    "plt.xlabel('feature_2', fontsize=12)\n",
    "plt.ylabel('Liczba przypadków', fontsize=12)\n",
    "plt.grid(True, linestyle='--', alpha=0.5)\n",
    "\n",
    "plt.tight_layout()\n",
    "plt.show()"
   ],
   "id": "cd7b7d5bc2d9ab10",
   "outputs": [],
   "execution_count": null
  },
  {
   "metadata": {},
   "cell_type": "markdown",
   "source": [
    "#### feature_10 (bo jest najwięcej NaN)\n",
    "\n",
    "W feature_10 okres 06-08/2024 ma najwięcej brakujących wartości dla zbioru treningowego.\n",
    "\n",
    "Tak samo jest w zbiorze testowym."
   ],
   "id": "ef7f747e9ce38118"
  },
  {
   "metadata": {},
   "cell_type": "code",
   "source": [
    "train_grouped_feature_10 = train.loc[train['feature_10'].isna(), ['month', 'year']]\n",
    "\n",
    "train_grouped_feature_10.groupby(['year', 'month']).size().sort_values(ascending=False).head(n=3)"
   ],
   "id": "fdffb02ef19b7768",
   "outputs": [],
   "execution_count": null
  },
  {
   "metadata": {},
   "cell_type": "code",
   "source": [
    "test_grouped_feature_10 = test.loc[test['feature_10'].isna(), ['month', 'year']]\n",
    "\n",
    "test_grouped_feature_10.groupby(['year', 'month']).size().sort_values(ascending=False).head(n=3)"
   ],
   "id": "c75c648c2a2e716f",
   "outputs": [],
   "execution_count": null
  },
  {
   "metadata": {},
   "cell_type": "markdown",
   "source": "#### Kodowanie LabelEncoder na salary_category",
   "id": "48f1734da6e78e2c"
  },
  {
   "metadata": {},
   "cell_type": "code",
   "source": [
    "salary_category = train['salary_category']\n",
    "salary_category_encoder = LabelEncoder().fit(salary_category)\n",
    "train['salary_category'] = salary_category_encoder.transform(train['salary_category'])"
   ],
   "id": "b9e381287f075e5e",
   "outputs": [],
   "execution_count": null
  },
  {
   "metadata": {},
   "cell_type": "markdown",
   "source": "#### Korelacja dla całego zbioru",
   "id": "3241d93431a7534d"
  },
  {
   "metadata": {},
   "cell_type": "code",
   "source": [
    "plt.figure(figsize=(10, 6))\n",
    "sns.heatmap(\n",
    "    train.corr(),\n",
    "    annot=True,\n",
    "    fmt='.2f',\n",
    "    cmap='viridis',\n",
    "    linewidths=0.5,\n",
    "    linecolor='black',\n",
    "    square=True,\n",
    "    cbar=True\n",
    ")"
   ],
   "id": "a28f62eb62547a30",
   "outputs": [],
   "execution_count": null
  },
  {
   "metadata": {},
   "cell_type": "markdown",
   "source": [
    "#### Wartości korelacji dla kolumny salary_category\n",
    "\n",
    "Usunięcie kolumn mało informatywnych.\n",
    "\n",
    "Usuń kolumny wysoko skorelowane."
   ],
   "id": "256e8e7545b92e27"
  },
  {
   "metadata": {},
   "cell_type": "code",
   "source": [
    "test_obs = test['obs']\n",
    "train.drop(columns=['obs'], inplace=True)\n",
    "test.drop(columns=['obs'], inplace=True)\n",
    "\n",
    "corr = train.corr()[['salary_category']]\n",
    "\n",
    "columns_to_drop = corr.loc[(corr['salary_category'] < 0.02) & (corr['salary_category'] > -0.02), :].index.values\n",
    "\n",
    "train['salary_category'] = salary_category_encoder.inverse_transform(train['salary_category'])\n",
    "train.drop(columns=columns_to_drop, inplace=True)\n",
    "test.drop(columns=columns_to_drop, inplace=True)\n",
    "\n",
    "test = pd.concat([test_obs, test], axis=1)\n",
    "\n",
    "columns_to_drop"
   ],
   "id": "5fba005c3df2af11",
   "outputs": [],
   "execution_count": null
  },
  {
   "metadata": {},
   "cell_type": "code",
   "source": [
    "def drop_high_correlated_columns():\n",
    "    matrix = train.corr(numeric_only=True).abs()\n",
    "    upper_t = matrix.where(np.triu(np.ones_like(matrix, dtype=np.bool_), k=1))\n",
    "    return [col for col in upper_t.columns if any(upper_t[col] > 0.9)]\n",
    "\n",
    "\n",
    "high_correlated_columns = drop_high_correlated_columns()\n",
    "train.drop(columns=high_correlated_columns, inplace=True)\n",
    "test.drop(columns=high_correlated_columns, inplace=True)\n",
    "\n",
    "high_correlated_columns"
   ],
   "id": "88eedcca1eb58d73",
   "outputs": [],
   "execution_count": null
  },
  {
   "metadata": {},
   "cell_type": "code",
   "source": "train.head()",
   "id": "8d85574fb8c3e1b4",
   "outputs": [],
   "execution_count": null
  },
  {
   "metadata": {},
   "cell_type": "code",
   "source": "test.head()",
   "id": "d504217195bf89cc",
   "outputs": [],
   "execution_count": null
  },
  {
   "metadata": {},
   "cell_type": "markdown",
   "source": [
    "## Przybliżenie train do test\n",
    "\n",
    "- ucięcie przedziałów na train aby zgadzały się z test na podstawie wyniku testu U Manna Whitneya -> nie poprawia\n",
    "- usunięcie tych kolumn -> nie testowano"
   ],
   "id": "1f87e0d89e77ba42"
  },
  {
   "metadata": {},
   "cell_type": "code",
   "source": [
    "statistical_tests = pd.DataFrame(\n",
    "    data={\n",
    "        'columns': train.columns[1:],\n",
    "        'umann_pvalue': [mannwhitneyu(train[column], test[column], nan_policy='omit', use_continuity=False, method='asymptotic', alternative='two-sided').pvalue for column in train.columns if column != 'salary_category']\n",
    "    }\n",
    ")\n",
    "\n",
    "check_for_diff = statistical_tests.loc[statistical_tests['umann_pvalue'] <= 0.05, :].sort_values(by='umann_pvalue')"
   ],
   "id": "74771a614bae8d0",
   "outputs": [],
   "execution_count": null
  },
  {
   "metadata": {},
   "cell_type": "code",
   "source": "check_for_diff",
   "id": "1ec241789d111a2",
   "outputs": [],
   "execution_count": null
  },
  {
   "metadata": {},
   "cell_type": "code",
   "source": [
    "# def cut_ranges(column):\n",
    "#     test_min, test_max = test[column].min(), test[column].max()\n",
    "#     return train[(train[column] >= test_min) & (train[column] <= test_max)].reset_index(drop=True)\n",
    "#\n",
    "# for column in check_for_diff['columns']:\n",
    "#     train = cut_ranges(column)\n",
    "#\n",
    "# train.info()\n",
    "\n",
    "train.drop(columns=check_for_diff['columns'], inplace=True)\n",
    "test.drop(columns=check_for_diff['columns'], inplace=True)"
   ],
   "id": "2caff7248dedd50f",
   "outputs": [],
   "execution_count": null
  },
  {
   "metadata": {},
   "cell_type": "markdown",
   "source": "#### Zapisz przygotowane dane",
   "id": "3fa8e6aba9283d92"
  },
  {
   "metadata": {},
   "cell_type": "code",
   "source": [
    "if 'prepared' not in os.listdir(os.getcwd()):\n",
    "    os.mkdir('prepared')\n",
    "\n",
    "train.to_csv(os.path.join('prepared', 'train.csv'), index=False)\n",
    "test.to_csv(os.path.join('prepared', 'test.csv'), index=False)"
   ],
   "id": "675141af3c1fa0ce",
   "outputs": [],
   "execution_count": null
  }
 ],
 "metadata": {
  "kernelspec": {
   "display_name": "Python 3",
   "language": "python",
   "name": "python3"
  },
  "language_info": {
   "codemirror_mode": {
    "name": "ipython",
    "version": 2
   },
   "file_extension": ".py",
   "mimetype": "text/x-python",
   "name": "python",
   "nbconvert_exporter": "python",
   "pygments_lexer": "ipython2",
   "version": "2.7.6"
  }
 },
 "nbformat": 4,
 "nbformat_minor": 5
}
