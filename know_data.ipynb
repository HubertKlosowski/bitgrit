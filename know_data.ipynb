{
 "cells": [
  {
   "metadata": {},
   "cell_type": "markdown",
   "source": "### Engineers' Salary Prediction Challenge",
   "id": "d756036b727ceb02"
  },
  {
   "metadata": {
    "collapsed": true
   },
   "cell_type": "code",
   "source": [
    "import os.path\n",
    "from datetime import datetime\n",
    "import matplotlib.pyplot as plt\n",
    "import numpy as np\n",
    "import pandas as pd\n",
    "import optuna\n",
    "from sklearn.preprocessing import LabelEncoder, OneHotEncoder\n",
    "from sklearn.model_selection import train_test_split, cross_val_score, StratifiedKFold\n",
    "import lightgbm as lgb\n",
    "from sklearn.metrics import classification_report\n",
    "from sklearn.ensemble import RandomForestClassifier"
   ],
   "id": "initial_id",
   "outputs": [],
   "execution_count": null
  },
  {
   "metadata": {},
   "cell_type": "markdown",
   "source": "#### Wczytanie danych",
   "id": "78450eff9e710013"
  },
  {
   "metadata": {},
   "cell_type": "code",
   "source": [
    "train = pd.read_csv(os.path.join('data', 'train.csv'))\n",
    "test = pd.read_csv(os.path.join('data', 'test.csv'))\n",
    "\n",
    "train.head()"
   ],
   "id": "eccc2589688b5764",
   "outputs": [],
   "execution_count": null
  },
  {
   "metadata": {},
   "cell_type": "code",
   "source": "train.info()",
   "id": "3aefc529f3eeb832",
   "outputs": [],
   "execution_count": null
  },
  {
   "metadata": {},
   "cell_type": "code",
   "source": "test.info()",
   "id": "76c5c5763b1eca0a",
   "outputs": [],
   "execution_count": null
  },
  {
   "metadata": {},
   "cell_type": "code",
   "source": [
    "def compare_train_test(column):\n",
    "    train_values = train[column].value_counts().reset_index(name='train_count')\n",
    "    test_values = test[column].value_counts().reset_index(name='test_count')\n",
    "    return pd.merge(test_values, train_values, how='outer', on=column)\n",
    "\n",
    "c_job_title = compare_train_test('job_title')\n",
    "c_job_state = compare_train_test('job_state')"
   ],
   "id": "9ca3988075751b2a",
   "outputs": [],
   "execution_count": null
  },
  {
   "metadata": {},
   "cell_type": "markdown",
   "source": "### <center>Braki w kolumnach</center>",
   "id": "f2030f3555c4a65c"
  },
  {
   "metadata": {},
   "cell_type": "code",
   "source": "train.isnull().sum().sort_values(ascending=False)",
   "id": "1d213c91edc81de0",
   "outputs": [],
   "execution_count": null
  },
  {
   "metadata": {},
   "cell_type": "code",
   "source": "test.isnull().sum().sort_values(ascending=False)",
   "id": "5db01d6ff27c72ea",
   "outputs": [],
   "execution_count": null
  },
  {
   "metadata": {},
   "cell_type": "markdown",
   "source": "### <center>Analiza kolumn job_desc</center>",
   "id": "412c6e06b6b61171"
  },
  {
   "metadata": {},
   "cell_type": "code",
   "source": [
    "job_desc_cols = [col for col in train.columns if col.startswith('job_desc_')]\n",
    "\n",
    "train['is_description'] = (train[job_desc_cols].sum(axis=1) != 0).astype(int)\n",
    "test['is_description'] = (test[job_desc_cols].sum(axis=1) != 0).astype(int)"
   ],
   "id": "662f77c22de16ac",
   "outputs": [],
   "execution_count": null
  },
  {
   "metadata": {},
   "cell_type": "markdown",
   "source": "### <center>Miesiąc i rok</center>",
   "id": "95ca7c24f8b08686"
  },
  {
   "metadata": {},
   "cell_type": "code",
   "source": [
    "train['job_posted_date'] = pd.to_datetime(train['job_posted_date'], format='%Y/%m')\n",
    "train['month'] = train['job_posted_date'].dt.month\n",
    "train['year'] = train['job_posted_date'].dt.year\n",
    "train.drop(columns=['job_posted_date'], inplace=True)\n",
    "\n",
    "test['job_posted_date'] = pd.to_datetime(test['job_posted_date'], format='%Y/%m')\n",
    "test['month'] = test['job_posted_date'].dt.month\n",
    "test['year'] = test['job_posted_date'].dt.year\n",
    "test.drop(columns=['job_posted_date'], inplace=True)"
   ],
   "id": "dbc248b0a2642e5c",
   "outputs": [],
   "execution_count": null
  },
  {
   "metadata": {},
   "cell_type": "markdown",
   "source": [
    "### <center>Porównanie wybranych kolumn kategorycznych w train/test</center>\n",
    "\n",
    "#### <center>Stan w którym jest oferta pracy \"job_state\"</center>"
   ],
   "id": "8e09531f796f8849"
  },
  {
   "metadata": {},
   "cell_type": "code",
   "source": "c_job_state",
   "id": "7beba29828cf54b4",
   "outputs": [],
   "execution_count": null
  },
  {
   "metadata": {},
   "cell_type": "markdown",
   "source": "#### Zmiana stanów na regiony USA",
   "id": "67810476e946650f"
  },
  {
   "metadata": {},
   "cell_type": "code",
   "source": [
    "west_states = [\n",
    "    'AK', 'AZ', 'CA', 'CO', 'HI', 'ID',\n",
    "    'MT', 'NV', 'NM', 'OR', 'UT', 'WA', 'WY'\n",
    "]\n",
    "\n",
    "central_states = [\n",
    "    'AR', 'IA', 'IL', 'IN', 'KS', 'KY', 'LA',\n",
    "    'MI', 'MN', 'MO', 'ND', 'NE', 'OH',\n",
    "    'OK', 'SD', 'TX', 'WI'\n",
    "]\n",
    "\n",
    "east_states = [\n",
    "    'AL', 'CT', 'DE', 'FL', 'GA', 'MA', 'MD',\n",
    "    'ME', 'MS', 'NC', 'NH', 'NJ', 'NY', 'PA',\n",
    "    'RI', 'SC', 'TN', 'VA', 'VT', 'WV', 'DC'\n",
    "]\n",
    "\n",
    "def map_state_to_region(state):\n",
    "    if state in west_states:\n",
    "        return 'West'\n",
    "    elif state in central_states:\n",
    "        return 'Central'\n",
    "    elif state in east_states:\n",
    "        return 'East'\n",
    "    else:\n",
    "        return 'Other'\n",
    "\n",
    "train['job_region'] = train['job_state'].apply(map_state_to_region)\n",
    "test['job_region'] = test['job_state'].apply(map_state_to_region)"
   ],
   "id": "7617a90cb32669af",
   "outputs": [],
   "execution_count": null
  },
  {
   "metadata": {},
   "cell_type": "markdown",
   "source": "#### <center>WYKRES: Stan USA, a wysokość pensji</center>",
   "id": "44d970fb9678b087"
  },
  {
   "metadata": {},
   "cell_type": "code",
   "source": [
    "salary_types = train['salary_category'].unique()\n",
    "\n",
    "show_every_region = train.groupby(['job_region', 'salary_category']).size().unstack(fill_value=0).reindex(columns=salary_types, fill_value=0).stack().reset_index(name='Count')\n",
    "\n",
    "width = 0.2\n",
    "x = np.arange(len(show_every_region['job_region'].unique()))\n",
    "my_xticks = [x - width, x, x + width]\n",
    "colors = ['gold', 'silver', 'brown']\n",
    "\n",
    "fig, ax = plt.subplots(figsize=(16, 12))\n",
    "\n",
    "for i, salary in enumerate(salary_types):\n",
    "    ax.bar(\n",
    "        x=my_xticks[i],\n",
    "        height=show_every_region.loc[(show_every_region['salary_category'] == salary), 'Count'],\n",
    "        width=width,\n",
    "        label=salary,\n",
    "        color=colors[i],\n",
    "        edgecolor='black',\n",
    "        alpha=1,\n",
    "    )\n",
    "\n",
    "ax.grid(True)\n",
    "ax.set_xticks(x + width)\n",
    "ax.set_xticklabels(show_every_region['job_region'].unique(), rotation=90)\n",
    "ax.set_xlabel('Region')\n",
    "ax.set_ylabel('Liczba ofert')\n",
    "ax.set_title('Kategoria zarobkowa w stanach')\n",
    "ax.legend(title='Kategoria wynagrodzenia')"
   ],
   "id": "e0cd34341f9a41bc",
   "outputs": [],
   "execution_count": null
  },
  {
   "metadata": {},
   "cell_type": "markdown",
   "source": "#### Kodowanie one-hot \"job_region\"",
   "id": "e2890e07f11704f5"
  },
  {
   "metadata": {},
   "cell_type": "code",
   "source": [
    "job_region_one_hot = OneHotEncoder(sparse_output=False)\n",
    "job_region_one_hot.fit(train[['job_region']])\n",
    "\n",
    "train = pd.concat([train, pd.DataFrame(job_region_one_hot.transform(train[['job_region']]), columns=job_region_one_hot.categories_[0])], axis=1)\n",
    "test = pd.concat([test, pd.DataFrame(job_region_one_hot.transform(test[['job_region']]), columns=job_region_one_hot.categories_[0])], axis=1)\n",
    "\n",
    "train.drop(columns=['job_state', 'job_region'], inplace=True)\n",
    "test.drop(columns=['job_state', 'job_region'], inplace=True)"
   ],
   "id": "f95a00925d52b856",
   "outputs": [],
   "execution_count": null
  },
  {
   "metadata": {},
   "cell_type": "markdown",
   "source": "#### <center>Stanowisko pracy \"job_title\"</center>",
   "id": "ffe8bc56fdcd27d"
  },
  {
   "metadata": {},
   "cell_type": "code",
   "source": "c_job_title",
   "id": "23a55f462d89fe56",
   "outputs": [],
   "execution_count": null
  },
  {
   "metadata": {},
   "cell_type": "markdown",
   "source": "#### <center>WYKRES: Stanowisko pracy a wysokość pensji</center>",
   "id": "5a52f9f8e401deb8"
  },
  {
   "metadata": {},
   "cell_type": "code",
   "source": [
    "salary_types = train['salary_category'].unique()\n",
    "\n",
    "show_every_state = train.groupby(['job_title', 'salary_category']).size().unstack(fill_value=0).reindex(columns=salary_types, fill_value=0).stack().reset_index(name='Count')\n",
    "\n",
    "width = 0.2\n",
    "x = np.arange(len(show_every_state['job_title'].unique()))\n",
    "my_xticks = [x - width, x, x + width]\n",
    "colors = ['gold', 'silver', 'brown']\n",
    "\n",
    "fig, ax = plt.subplots(figsize=(16, 12))\n",
    "\n",
    "for i, salary in enumerate(salary_types):\n",
    "    ax.bar(\n",
    "        x=my_xticks[i],\n",
    "        height=show_every_state.loc[(show_every_state['salary_category'] == salary), 'Count'],\n",
    "        width=width,\n",
    "        label=salary,\n",
    "        color=colors[i],\n",
    "        edgecolor='black',\n",
    "        alpha=1,\n",
    "    )\n",
    "\n",
    "ax.grid(True)\n",
    "ax.set_xticks(x + width)\n",
    "ax.set_xticklabels(show_every_state['job_title'].unique(), rotation=90)\n",
    "ax.set_xlabel('Stan')\n",
    "ax.set_ylabel('Liczba ofert')\n",
    "ax.set_title('Kategorie zarobkowe dla każdej oferty pracy')\n",
    "ax.legend(title='Kategoria wynagrodzenia')"
   ],
   "id": "1abf8b75194ad14d",
   "outputs": [],
   "execution_count": null
  },
  {
   "metadata": {},
   "cell_type": "markdown",
   "source": "#### Kodowanie one-hot \"job_title\"",
   "id": "d424430e0c7c1748"
  },
  {
   "metadata": {},
   "cell_type": "code",
   "source": [
    "# job_title_one_hot = OneHotEncoder(sparse_output=False)\n",
    "# job_title_one_hot.fit(train[['job_title']])\n",
    "#\n",
    "# train = pd.concat([train, pd.DataFrame(job_title_one_hot.transform(train[['job_title']]), columns=job_title_one_hot.categories_[0])], axis=1)\n",
    "# test = pd.concat([test, pd.DataFrame(job_title_one_hot.transform(test[['job_title']]), columns=job_title_one_hot.categories_[0])], axis=1)\n",
    "\n",
    "train.drop(columns=['job_title'], inplace=True)\n",
    "test.drop(columns=['job_title'], inplace=True)"
   ],
   "id": "5c9cd664bb58ab7f",
   "outputs": [],
   "execution_count": null
  },
  {
   "metadata": {},
   "cell_type": "markdown",
   "source": "#### <center>Kolumny \"feature_\"</center>",
   "id": "a28f2b3439e910da"
  },
  {
   "metadata": {},
   "cell_type": "code",
   "source": [
    "feature_columns = [col for col in train.columns if col.startswith('feature_')]\n",
    "\n",
    "train[feature_columns].info()"
   ],
   "id": "39d7191a327bbe44",
   "outputs": [],
   "execution_count": null
  },
  {
   "metadata": {},
   "cell_type": "code",
   "source": [
    "grouped_feature_1 = train.groupby(['salary_category', 'feature_1']).size().unstack(fill_value=0)\n",
    "\n",
    "feature_1_encoder = LabelEncoder().fit(train['feature_1'])\n",
    "train['feature_1'] = feature_1_encoder.transform(train['feature_1'])\n",
    "test['feature_1'] = feature_1_encoder.transform(test['feature_1'])\n",
    "\n",
    "grouped_feature_1"
   ],
   "id": "662fb1b6a79d9d3",
   "outputs": [],
   "execution_count": null
  },
  {
   "metadata": {},
   "cell_type": "markdown",
   "source": [
    "W feature_10 okres 06-08/2024 ma najwięcej brakujących wartości dla zbioru treningowego.\n",
    "\n",
    "Tak samo jest w zbiorze testowym."
   ],
   "id": "ef7f747e9ce38118"
  },
  {
   "metadata": {},
   "cell_type": "code",
   "source": [
    "train_grouped_feature_10 = train.loc[train['feature_10'].isna(), ['month', 'year']]\n",
    "\n",
    "train_grouped_feature_10.groupby(['year', 'month']).size().sort_values(ascending=False).head(n=3)"
   ],
   "id": "fdffb02ef19b7768",
   "outputs": [],
   "execution_count": null
  },
  {
   "metadata": {},
   "cell_type": "code",
   "source": [
    "test_grouped_feature_10 = test.loc[test['feature_10'].isna(), ['month', 'year']]\n",
    "\n",
    "test_grouped_feature_10.groupby(['year', 'month']).size().sort_values(ascending=False).head(n=3)"
   ],
   "id": "c75c648c2a2e716f",
   "outputs": [],
   "execution_count": null
  },
  {
   "metadata": {},
   "cell_type": "markdown",
   "source": "#### Kodowanie LabelEncoder na salary_category",
   "id": "48f1734da6e78e2c"
  },
  {
   "metadata": {},
   "cell_type": "code",
   "source": [
    "salary_category = train['salary_category']\n",
    "salary_category_encoder = LabelEncoder().fit(salary_category)\n",
    "train['salary_category'] = salary_category_encoder.transform(train['salary_category'])"
   ],
   "id": "b9e381287f075e5e",
   "outputs": [],
   "execution_count": null
  },
  {
   "metadata": {},
   "cell_type": "markdown",
   "source": "#### Wartości korelacji dla kolumny salary_category",
   "id": "256e8e7545b92e27"
  },
  {
   "metadata": {},
   "cell_type": "code",
   "source": [
    "train.drop(columns=['obs'], inplace=True)\n",
    "test_obs = test['obs']\n",
    "test.drop(columns=['obs'], inplace=True)\n",
    "\n",
    "corr = train.corr()[['salary_category']]\n",
    "\n",
    "columns_to_drop = corr.loc[(corr['salary_category'] < 0.02) & (corr['salary_category'] > -0.02), :].index.values\n",
    "\n",
    "train.drop(columns=columns_to_drop, inplace=True)\n",
    "test.drop(columns=columns_to_drop, inplace=True)"
   ],
   "id": "5fba005c3df2af11",
   "outputs": [],
   "execution_count": null
  },
  {
   "metadata": {},
   "cell_type": "code",
   "source": "train.info()",
   "id": "8d85574fb8c3e1b4",
   "outputs": [],
   "execution_count": null
  },
  {
   "metadata": {},
   "cell_type": "markdown",
   "source": [
    "### <center>Proces nauki, walidacji, testowania</center>\n",
    "\n",
    "#### LightGBM"
   ],
   "id": "7fea6e6b14dbc694"
  },
  {
   "metadata": {},
   "cell_type": "code",
   "source": [
    "X = train.drop(columns=['salary_category'])\n",
    "y = salary_category_encoder.transform(salary_category)\n",
    "\n",
    "X_train, X_test, y_train, y_test = train_test_split(X, y, test_size=0.2, random_state=42, stratify=y)\n",
    "X_train = pd.DataFrame(X_train, columns=X.columns)\n",
    "X_test = pd.DataFrame(X_test, columns=X.columns)"
   ],
   "id": "84c0443ebb7b3bda",
   "outputs": [],
   "execution_count": null
  },
  {
   "metadata": {},
   "cell_type": "markdown",
   "source": "#### Szukanie optymalnych hiperparametrów",
   "id": "fb5d304d02ecfeed"
  },
  {
   "metadata": {},
   "cell_type": "code",
   "source": [
    "# def define_lightgbm(trial):\n",
    "#     params = {\n",
    "#         'objective': 'multiclass',\n",
    "#         'num_class': len(np.unique(y_train)),\n",
    "#         'learning_rate': trial.suggest_float('learning_rate', 1e-3, 1, log=True),\n",
    "#         'n_estimators': trial.suggest_int('n_estimators', 10, 150),\n",
    "#         'max_depth': trial.suggest_int('max_depth', 2, 20),\n",
    "#         'min_child_samples': trial.suggest_int('min_child_samples', 1, 100),\n",
    "#         'subsample': trial.suggest_float('subsample', 0.1, 1.0),\n",
    "#         'colsample_bytree': trial.suggest_float('colsample_bytree', 0.1, 1.0)\n",
    "#     }\n",
    "#     return lgb.LGBMClassifier(**params)\n",
    "#\n",
    "# def objective_random_forest(trial):\n",
    "#     lgb_model = define_lightgbm(trial)\n",
    "#     skf = StratifiedKFold(n_splits=5, shuffle=True, random_state=42)\n",
    "#     scores = cross_val_score(lgb_model, X_train, y_train, cv=skf, n_jobs=-1, scoring='accuracy')\n",
    "#     return scores.mean()\n",
    "#\n",
    "# study_lgb = optuna.create_study(direction='maximize', study_name='EngineerSalaryLightGBM', sampler=optuna.samplers.TPESampler())\n",
    "# study_lgb.optimize(objective_random_forest, n_trials=100)"
   ],
   "id": "f3d1d04e99761ac",
   "outputs": [],
   "execution_count": null
  },
  {
   "metadata": {},
   "cell_type": "code",
   "source": [
    "lightgbm = lgb.LGBMClassifier().fit(X_train, y_train)\n",
    "\n",
    "print(classification_report(y_test, lightgbm.predict(X_test), target_names=salary_category_encoder.inverse_transform(np.unique(y_train))))"
   ],
   "id": "50bf74308f7adde",
   "outputs": [],
   "execution_count": null
  },
  {
   "metadata": {},
   "cell_type": "code",
   "source": [
    "# lightgbm = define_lightgbm(study_lgb.best_trial).fit(X_train, y_train)\n",
    "# \n",
    "# print(classification_report(y_test, lightgbm.predict(X_test), target_names=salary_category_encoder.inverse_transform(np.unique(y_train))))"
   ],
   "id": "a8cd1d4302d16cdf",
   "outputs": [],
   "execution_count": null
  },
  {
   "metadata": {},
   "cell_type": "markdown",
   "source": "#### Istotność cech dla LightGBM",
   "id": "f94eff3cf477fbd0"
  },
  {
   "metadata": {},
   "cell_type": "code",
   "source": [
    "importance = pd.DataFrame(data={'names': lightgbm.feature_name_, 'importance': lightgbm.feature_importances_}).sort_values(by='importance', ascending=False)\n",
    "\n",
    "importance"
   ],
   "id": "15fc2bc5adf16add",
   "outputs": [],
   "execution_count": null
  },
  {
   "metadata": {},
   "cell_type": "markdown",
   "source": "#### Las losowy",
   "id": "463978ebfa291cf3"
  },
  {
   "metadata": {},
   "cell_type": "code",
   "source": [
    "random_forest = RandomForestClassifier().fit(X_train, y_train)\n",
    "\n",
    "print(classification_report(y_test, random_forest.predict(X_test), target_names=salary_category_encoder.inverse_transform(np.unique(y_train))))"
   ],
   "id": "ad229cd887af15dd",
   "outputs": [],
   "execution_count": null
  },
  {
   "metadata": {},
   "cell_type": "markdown",
   "source": "#### Istotność cech dla lasu losowego",
   "id": "7f6ba5b781270fb3"
  },
  {
   "metadata": {},
   "cell_type": "code",
   "source": [
    "random_forest_importance = pd.DataFrame(data={'feature': random_forest.feature_names_in_, 'importance': random_forest.feature_importances_}).sort_values(by='importance', ascending=False)\n",
    "\n",
    "random_forest_importance"
   ],
   "id": "2ba4b6fe5758324e",
   "outputs": [],
   "execution_count": null
  },
  {
   "metadata": {},
   "cell_type": "markdown",
   "source": "#### Przygotowanie submission",
   "id": "a31842216d3e86a9"
  },
  {
   "metadata": {},
   "cell_type": "code",
   "source": [
    "rf_pred_proba = random_forest.predict_proba(X_test)\n",
    "lgb_pred_proba = lightgbm.predict_proba(X_test)\n",
    "\n",
    "avg = (rf_pred_proba + lgb_pred_proba) / 2\n",
    "\n",
    "print(classification_report(y_test, np.argmax(avg, axis=1), target_names=salary_category_encoder.inverse_transform(np.unique(y_train))))"
   ],
   "id": "d6226eb7df9ad8d0",
   "outputs": [],
   "execution_count": null
  },
  {
   "metadata": {},
   "cell_type": "markdown",
   "source": "#### Fit na X, y",
   "id": "748d0feb3781c0d6"
  },
  {
   "metadata": {},
   "cell_type": "code",
   "source": [
    "lightgbm.fit(X, y)\n",
    "random_forest.fit(X, y)"
   ],
   "id": "e459a97de5df2c01",
   "outputs": [],
   "execution_count": null
  },
  {
   "metadata": {},
   "cell_type": "markdown",
   "source": "### <center>Ostateczne predykcje</center>",
   "id": "d52ff8f274d73de4"
  },
  {
   "metadata": {},
   "cell_type": "code",
   "source": [
    "final_rf_pred = random_forest.predict(test)\n",
    "final_lgb_pred = lightgbm.predict(test)\n",
    "final_rf_pred_proba = random_forest.predict_proba(test)\n",
    "final_lgb_pred_proba = lightgbm.predict_proba(test)\n",
    "\n",
    "final_avg = (final_rf_pred_proba + final_lgb_pred_proba) / 2\n",
    "\n",
    "final_avg"
   ],
   "id": "59ad1b4f4d839a2e",
   "outputs": [],
   "execution_count": null
  },
  {
   "metadata": {},
   "cell_type": "code",
   "source": [
    "def prepare_submission(predictions, name):\n",
    "    submission = pd.DataFrame(data={'obs': test_obs, 'salary_category': salary_category_encoder.inverse_transform(predictions)})\n",
    "    submission.to_csv(os.path.join('submissions', f'{name}.csv'), index=False)\n",
    "\n",
    "prepare_submission(final_rf_pred, 'random_forest')\n",
    "prepare_submission(final_lgb_pred, 'lgb')\n",
    "prepare_submission(np.argmax(final_avg, axis=1), 'average_lgb_random_forest')"
   ],
   "id": "7d111d3601182fb0",
   "outputs": [],
   "execution_count": null
  },
  {
   "metadata": {},
   "cell_type": "markdown",
   "source": "### Informacje o modelach",
   "id": "f3216e4a08c55b5e"
  },
  {
   "metadata": {},
   "cell_type": "code",
   "source": [
    "timestamp = datetime.now().strftime(\"%Y-%m-%d_%H-%M-%S\")\n",
    "with open(os.path.join('models', f'model_info_{timestamp}.txt'), 'w') as f:\n",
    "    f.write(f\"Test size:\\n{0.2}\\n\\n\")\n",
    "\n",
    "    f.write(\"Random Forest Parameters:\\n\")\n",
    "    for key, value in random_forest.get_params().items():\n",
    "        f.write(f\"{key}: {value}\\n\")\n",
    "\n",
    "    f.write(\"\\nLightGBM Parameters:\\n\")\n",
    "    for key, value in lightgbm.get_params().items():\n",
    "        f.write(f\"{key}: {value}\\n\")"
   ],
   "id": "8974805dfd79ca6e",
   "outputs": [],
   "execution_count": null
  }
 ],
 "metadata": {
  "kernelspec": {
   "display_name": "Python 3",
   "language": "python",
   "name": "python3"
  },
  "language_info": {
   "codemirror_mode": {
    "name": "ipython",
    "version": 2
   },
   "file_extension": ".py",
   "mimetype": "text/x-python",
   "name": "python",
   "nbconvert_exporter": "python",
   "pygments_lexer": "ipython2",
   "version": "2.7.6"
  }
 },
 "nbformat": 4,
 "nbformat_minor": 5
}
