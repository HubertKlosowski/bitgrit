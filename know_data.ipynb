{
 "cells": [
  {
   "metadata": {},
   "cell_type": "markdown",
   "source": "### Engineers' Salary Prediction Challenge",
   "id": "d756036b727ceb02"
  },
  {
   "metadata": {
    "collapsed": true
   },
   "cell_type": "code",
   "source": [
    "import os.path\n",
    "import seaborn as sns\n",
    "import matplotlib.pyplot as plt\n",
    "import numpy as np\n",
    "import pandas as pd\n",
    "from sklearn.preprocessing import LabelEncoder\n",
    "from sklearn.model_selection import train_test_split\n",
    "import lightgbm as lgb\n",
    "from sklearn.metrics import classification_report, accuracy_score"
   ],
   "id": "initial_id",
   "outputs": [],
   "execution_count": null
  },
  {
   "metadata": {},
   "cell_type": "markdown",
   "source": "#### Wczytanie danych",
   "id": "78450eff9e710013"
  },
  {
   "metadata": {},
   "cell_type": "code",
   "source": [
    "train = pd.read_csv(os.path.join('data', 'train.csv'))\n",
    "test = pd.read_csv(os.path.join('data', 'test.csv'))\n",
    "\n",
    "train.head()"
   ],
   "id": "eccc2589688b5764",
   "outputs": [],
   "execution_count": null
  },
  {
   "metadata": {},
   "cell_type": "code",
   "source": "train.info()",
   "id": "3aefc529f3eeb832",
   "outputs": [],
   "execution_count": null
  },
  {
   "metadata": {},
   "cell_type": "code",
   "source": "test.info()",
   "id": "76c5c5763b1eca0a",
   "outputs": [],
   "execution_count": null
  },
  {
   "metadata": {},
   "cell_type": "code",
   "source": [
    "def compare_train_test(column):\n",
    "    train_values = train[column].value_counts().reset_index(name='train_count')\n",
    "    test_values = test[column].value_counts().reset_index(name='test_count')\n",
    "    return pd.merge(test_values, train_values, how='outer', on=column)\n",
    "\n",
    "c_job_title = compare_train_test('job_title')\n",
    "c_job_state = compare_train_test('job_state')"
   ],
   "id": "9ca3988075751b2a",
   "outputs": [],
   "execution_count": null
  },
  {
   "metadata": {},
   "cell_type": "markdown",
   "source": "### <center>Braki w kolumnach</center>",
   "id": "f2030f3555c4a65c"
  },
  {
   "metadata": {},
   "cell_type": "code",
   "source": "train.isnull().sum()",
   "id": "1d213c91edc81de0",
   "outputs": [],
   "execution_count": null
  },
  {
   "metadata": {},
   "cell_type": "code",
   "source": "test.isnull().sum()",
   "id": "5db01d6ff27c72ea",
   "outputs": [],
   "execution_count": null
  },
  {
   "metadata": {},
   "cell_type": "markdown",
   "source": "### <center>Analiza kolumn job_desc</center>",
   "id": "412c6e06b6b61171"
  },
  {
   "metadata": {},
   "cell_type": "code",
   "source": [
    "job_desc_cols = [col for col in train.columns if col.startswith('job_desc_')]\n",
    "\n",
    "train['is_description'] = (train[job_desc_cols].sum(axis=1) != 0).astype(int)\n",
    "test['is_description'] = (test[job_desc_cols].sum(axis=1) != 0).astype(int)\n",
    "\n",
    "train.drop(columns=job_desc_cols, inplace=True)\n",
    "test.drop(columns=job_desc_cols, inplace=True)"
   ],
   "id": "662f77c22de16ac",
   "outputs": [],
   "execution_count": null
  },
  {
   "metadata": {},
   "cell_type": "markdown",
   "source": "### <center>Miesiąc i rok</center>",
   "id": "95ca7c24f8b08686"
  },
  {
   "metadata": {},
   "cell_type": "code",
   "source": [
    "train['job_posted_date'] = pd.to_datetime(train['job_posted_date'], format='%Y/%m')\n",
    "train['month'] = train['job_posted_date'].dt.month\n",
    "train['year'] = train['job_posted_date'].dt.year\n",
    "train.drop(columns=['job_posted_date'], inplace=True)\n",
    "\n",
    "test['job_posted_date'] = pd.to_datetime(test['job_posted_date'], format='%Y/%m')\n",
    "test['month'] = test['job_posted_date'].dt.month\n",
    "test['year'] = test['job_posted_date'].dt.year\n",
    "test.drop(columns=['job_posted_date'], inplace=True)"
   ],
   "id": "dbc248b0a2642e5c",
   "outputs": [],
   "execution_count": null
  },
  {
   "metadata": {},
   "cell_type": "markdown",
   "source": "### <center>Porównanie wybranych kolumn kategorycznych w train/test</center>",
   "id": "8e09531f796f8849"
  },
  {
   "metadata": {},
   "cell_type": "code",
   "source": "c_job_state",
   "id": "7617a90cb32669af",
   "outputs": [],
   "execution_count": null
  },
  {
   "metadata": {},
   "cell_type": "code",
   "source": "c_job_title",
   "id": "23a55f462d89fe56",
   "outputs": [],
   "execution_count": null
  },
  {
   "metadata": {},
   "cell_type": "markdown",
   "source": "### <center>Liczebność każdej kategorii zarobkowej w każdym stanie</center>",
   "id": "89cd2eb43880ca65"
  },
  {
   "metadata": {},
   "cell_type": "code",
   "source": [
    "salary_types = train['salary_category'].unique()\n",
    "\n",
    "show_every_state = train.groupby(['job_state', 'salary_category']).size().unstack(fill_value=0).reindex(columns=salary_types, fill_value=0).stack().reset_index(name='Count')\n",
    "\n",
    "width = 0.2\n",
    "x = np.arange(len(show_every_state['job_state'].unique()))\n",
    "my_xticks = [x - width, x, x + width]\n",
    "colors = ['gold', 'silver', 'brown']\n",
    "\n",
    "fig, ax = plt.subplots(figsize=(16, 12))\n",
    "\n",
    "for i, salary in enumerate(salary_types):\n",
    "    ax.bar(\n",
    "        x=my_xticks[i],\n",
    "        height=show_every_state.loc[(show_every_state['salary_category'] == salary), 'Count'],\n",
    "        width=width,\n",
    "        label=salary,\n",
    "        color=colors[i],\n",
    "        edgecolor='black',\n",
    "        alpha=1,\n",
    "    )\n",
    "\n",
    "ax.grid(True)\n",
    "ax.set_xticks(x + width)\n",
    "ax.set_xticklabels(show_every_state['job_state'].unique(), rotation=90)\n",
    "ax.set_xlabel('Stan')\n",
    "ax.set_ylabel('Liczba ofert')\n",
    "ax.set_title('Kategoria zarobkowa w stanach')\n",
    "ax.legend(title='Kategoria wynagrodzenia')"
   ],
   "id": "e3591085c03d131",
   "outputs": [],
   "execution_count": null
  },
  {
   "metadata": {},
   "cell_type": "markdown",
   "source": "### <center>Liczebność każdej kategorii zarobkowej dla każdej pracy</center>",
   "id": "5a52f9f8e401deb8"
  },
  {
   "metadata": {},
   "cell_type": "code",
   "source": [
    "salary_types = train['salary_category'].unique()\n",
    "\n",
    "show_every_state = train.groupby(['job_title', 'salary_category']).size().unstack(fill_value=0).reindex(columns=salary_types, fill_value=0).stack().reset_index(name='Count')\n",
    "\n",
    "width = 0.2\n",
    "x = np.arange(len(show_every_state['job_title'].unique()))\n",
    "my_xticks = [x - width, x, x + width]\n",
    "colors = ['gold', 'silver', 'brown']\n",
    "\n",
    "fig, ax = plt.subplots(figsize=(16, 12))\n",
    "\n",
    "for i, salary in enumerate(salary_types):\n",
    "    ax.bar(\n",
    "        x=my_xticks[i],\n",
    "        height=show_every_state.loc[(show_every_state['salary_category'] == salary), 'Count'],\n",
    "        width=width,\n",
    "        label=salary,\n",
    "        color=colors[i],\n",
    "        edgecolor='black',\n",
    "        alpha=1,\n",
    "    )\n",
    "\n",
    "ax.grid(True)\n",
    "ax.set_xticks(x + width)\n",
    "ax.set_xticklabels(show_every_state['job_title'].unique(), rotation=90)\n",
    "ax.set_xlabel('Stan')\n",
    "ax.set_ylabel('Liczba ofert')\n",
    "ax.set_title('Kategorie zarobkowe dla każdej oferty pracy')\n",
    "ax.legend(title='Kategoria wynagrodzenia')"
   ],
   "id": "1abf8b75194ad14d",
   "outputs": [],
   "execution_count": null
  },
  {
   "metadata": {},
   "cell_type": "markdown",
   "source": "#### Podział kategorii zarobkowych względem kolumn feature",
   "id": "a28f2b3439e910da"
  },
  {
   "metadata": {},
   "cell_type": "code",
   "source": [
    "feature_columns = [col for col in train.columns if col.startswith('feature_')]\n",
    "\n",
    "train[feature_columns].info()"
   ],
   "id": "39d7191a327bbe44",
   "outputs": [],
   "execution_count": null
  },
  {
   "metadata": {},
   "cell_type": "code",
   "source": [
    "grouped = train.groupby(['salary_category', 'feature_1']).size().unstack(fill_value=0)\n",
    "\n",
    "feature_1_encoder = LabelEncoder().fit(train['feature_1'])\n",
    "train['feature_1'] = feature_1_encoder.transform(train['feature_1'])\n",
    "\n",
    "grouped"
   ],
   "id": "662fb1b6a79d9d3",
   "outputs": [],
   "execution_count": null
  },
  {
   "metadata": {},
   "cell_type": "markdown",
   "source": "#### Macierz korelacji feature z salary_category",
   "id": "256e8e7545b92e27"
  },
  {
   "metadata": {},
   "cell_type": "code",
   "source": [
    "salary_category = train['salary_category']\n",
    "salary_category_encoder = LabelEncoder().fit(salary_category)\n",
    "train['salary_category'] = salary_category_encoder.transform(train['salary_category'])\n",
    "\n",
    "feature_columns.append('salary_category')\n",
    "plt.figure(figsize=(16, 12))\n",
    "sns.heatmap(data=train[feature_columns].corr(), annot=True, cmap='YlGnBu', fmt='.2f')\n",
    "feature_columns.remove('salary_category')"
   ],
   "id": "5fba005c3df2af11",
   "outputs": [],
   "execution_count": null
  },
  {
   "metadata": {},
   "cell_type": "code",
   "source": [
    "object_columns = train.select_dtypes(include=['object']).columns\n",
    "\n",
    "for i, column in enumerate(object_columns):\n",
    "    train[column] = LabelEncoder().fit_transform(train[column])\n",
    "    test[column] = LabelEncoder().fit_transform(test[column])"
   ],
   "id": "dd1750440a3debbe",
   "outputs": [],
   "execution_count": null
  },
  {
   "metadata": {},
   "cell_type": "markdown",
   "source": "### <center>Proces nauki, walidacji, testowania</center>",
   "id": "7fea6e6b14dbc694"
  },
  {
   "metadata": {},
   "cell_type": "code",
   "source": [
    "train.drop(columns=['obs'], inplace=True)\n",
    "test.drop(columns=['obs'], inplace=True)\n",
    "\n",
    "X = train.drop(columns=['salary_category'])\n",
    "y = salary_category_encoder.transform(salary_category)\n",
    "\n",
    "X_train, X_test, y_train, y_test = train_test_split(X, y, test_size=0.3, random_state=42)\n",
    "X_train = pd.DataFrame(X_train, columns=X.columns)\n",
    "X_test = pd.DataFrame(X_test, columns=test.columns)"
   ],
   "id": "84c0443ebb7b3bda",
   "outputs": [],
   "execution_count": null
  },
  {
   "metadata": {},
   "cell_type": "code",
   "source": [
    "lgb_model = lgb.LGBMClassifier().fit(X_train, y_train)\n",
    "\n",
    "print(classification_report(y_test, lgb_model.predict(X_test), target_names=salary_category_encoder.inverse_transform(np.unique(y_train))))"
   ],
   "id": "50bf74308f7adde",
   "outputs": [],
   "execution_count": null
  },
  {
   "metadata": {},
   "cell_type": "code",
   "source": [
    "importance = pd.DataFrame(data={'names': lgb_model.feature_name_, 'importance': lgb_model.feature_importances_}).sort_values(by='importance', ascending=False)\n",
    "\n",
    "importance"
   ],
   "id": "15fc2bc5adf16add",
   "outputs": [],
   "execution_count": null
  }
 ],
 "metadata": {
  "kernelspec": {
   "display_name": "Python 3",
   "language": "python",
   "name": "python3"
  },
  "language_info": {
   "codemirror_mode": {
    "name": "ipython",
    "version": 2
   },
   "file_extension": ".py",
   "mimetype": "text/x-python",
   "name": "python",
   "nbconvert_exporter": "python",
   "pygments_lexer": "ipython2",
   "version": "2.7.6"
  }
 },
 "nbformat": 4,
 "nbformat_minor": 5
}
