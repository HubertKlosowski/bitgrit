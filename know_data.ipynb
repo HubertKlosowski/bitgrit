{
 "cells": [
  {
   "metadata": {},
   "cell_type": "markdown",
   "source": "### Engineers' Salary Prediction Challenge",
   "id": "d756036b727ceb02"
  },
  {
   "metadata": {
    "collapsed": true,
    "ExecuteTime": {
     "end_time": "2025-04-16T19:35:13.190265Z",
     "start_time": "2025-04-16T19:35:12.044859Z"
    }
   },
   "cell_type": "code",
   "source": [
    "import os.path\n",
    "import matplotlib.pyplot as plt\n",
    "import numpy as np\n",
    "import pandas as pd\n",
    "from sklearn.preprocessing import LabelEncoder, OneHotEncoder\n",
    "from sklearn.model_selection import train_test_split\n",
    "import lightgbm as lgb\n",
    "from sklearn.metrics import classification_report\n",
    "from sklearn.ensemble import RandomForestClassifier"
   ],
   "id": "initial_id",
   "outputs": [],
   "execution_count": 1
  },
  {
   "metadata": {},
   "cell_type": "markdown",
   "source": "#### Wczytanie danych",
   "id": "78450eff9e710013"
  },
  {
   "metadata": {
    "ExecuteTime": {
     "end_time": "2025-04-16T19:35:13.611374Z",
     "start_time": "2025-04-16T19:35:13.473739Z"
    }
   },
   "cell_type": "code",
   "source": [
    "train = pd.read_csv(os.path.join('data', 'train.csv'))\n",
    "test = pd.read_csv(os.path.join('data', 'test.csv'))\n",
    "\n",
    "train.head()"
   ],
   "id": "eccc2589688b5764",
   "outputs": [
    {
     "data": {
      "text/plain": [
       "   obs    job_title job_posted_date salary_category job_state feature_1  \\\n",
       "0    1       Others         2024/07            High        NY         A   \n",
       "1    2  Job_Title_1         2024/07             Low        CA         A   \n",
       "2    3       Others         2024/07             Low        CA         A   \n",
       "3    4       Others         2024/07             Low        CA         A   \n",
       "4    5       Others         2024/07             Low        CA         A   \n",
       "\n",
       "   feature_2  feature_3  feature_4  feature_5  ...  job_desc_291  \\\n",
       "0     0.6429      False      False       True  ...     -0.362079   \n",
       "1     0.4678      False      False      False  ...     -0.300989   \n",
       "2     0.4610      False      False      False  ...      0.000000   \n",
       "3     0.5064      False      False      False  ...      0.000000   \n",
       "4     0.4640      False      False      False  ...     -0.406159   \n",
       "\n",
       "   job_desc_292  job_desc_293  job_desc_294  job_desc_295  job_desc_296  \\\n",
       "0     -0.499308     -0.367894     -0.214881      0.014870     -0.271177   \n",
       "1     -0.415411     -0.341824     -0.319064      0.042322     -0.124755   \n",
       "2      0.000000      0.000000      0.000000      0.000000      0.000000   \n",
       "3      0.000000      0.000000      0.000000      0.000000      0.000000   \n",
       "4     -0.654657     -0.074398     -0.464479      0.081037     -0.136992   \n",
       "\n",
       "   job_desc_297  job_desc_298  job_desc_299  job_desc_300  \n",
       "0     -0.113347     -0.587955     -0.919095     -0.207340  \n",
       "1      0.023489     -0.893224     -0.823024      0.112364  \n",
       "2      0.000000      0.000000      0.000000      0.000000  \n",
       "3      0.000000      0.000000      0.000000      0.000000  \n",
       "4     -0.276270     -0.696853     -0.601466      0.089939  \n",
       "\n",
       "[5 rows x 317 columns]"
      ],
      "text/html": [
       "<div>\n",
       "<style scoped>\n",
       "    .dataframe tbody tr th:only-of-type {\n",
       "        vertical-align: middle;\n",
       "    }\n",
       "\n",
       "    .dataframe tbody tr th {\n",
       "        vertical-align: top;\n",
       "    }\n",
       "\n",
       "    .dataframe thead th {\n",
       "        text-align: right;\n",
       "    }\n",
       "</style>\n",
       "<table border=\"1\" class=\"dataframe\">\n",
       "  <thead>\n",
       "    <tr style=\"text-align: right;\">\n",
       "      <th></th>\n",
       "      <th>obs</th>\n",
       "      <th>job_title</th>\n",
       "      <th>job_posted_date</th>\n",
       "      <th>salary_category</th>\n",
       "      <th>job_state</th>\n",
       "      <th>feature_1</th>\n",
       "      <th>feature_2</th>\n",
       "      <th>feature_3</th>\n",
       "      <th>feature_4</th>\n",
       "      <th>feature_5</th>\n",
       "      <th>...</th>\n",
       "      <th>job_desc_291</th>\n",
       "      <th>job_desc_292</th>\n",
       "      <th>job_desc_293</th>\n",
       "      <th>job_desc_294</th>\n",
       "      <th>job_desc_295</th>\n",
       "      <th>job_desc_296</th>\n",
       "      <th>job_desc_297</th>\n",
       "      <th>job_desc_298</th>\n",
       "      <th>job_desc_299</th>\n",
       "      <th>job_desc_300</th>\n",
       "    </tr>\n",
       "  </thead>\n",
       "  <tbody>\n",
       "    <tr>\n",
       "      <th>0</th>\n",
       "      <td>1</td>\n",
       "      <td>Others</td>\n",
       "      <td>2024/07</td>\n",
       "      <td>High</td>\n",
       "      <td>NY</td>\n",
       "      <td>A</td>\n",
       "      <td>0.6429</td>\n",
       "      <td>False</td>\n",
       "      <td>False</td>\n",
       "      <td>True</td>\n",
       "      <td>...</td>\n",
       "      <td>-0.362079</td>\n",
       "      <td>-0.499308</td>\n",
       "      <td>-0.367894</td>\n",
       "      <td>-0.214881</td>\n",
       "      <td>0.014870</td>\n",
       "      <td>-0.271177</td>\n",
       "      <td>-0.113347</td>\n",
       "      <td>-0.587955</td>\n",
       "      <td>-0.919095</td>\n",
       "      <td>-0.207340</td>\n",
       "    </tr>\n",
       "    <tr>\n",
       "      <th>1</th>\n",
       "      <td>2</td>\n",
       "      <td>Job_Title_1</td>\n",
       "      <td>2024/07</td>\n",
       "      <td>Low</td>\n",
       "      <td>CA</td>\n",
       "      <td>A</td>\n",
       "      <td>0.4678</td>\n",
       "      <td>False</td>\n",
       "      <td>False</td>\n",
       "      <td>False</td>\n",
       "      <td>...</td>\n",
       "      <td>-0.300989</td>\n",
       "      <td>-0.415411</td>\n",
       "      <td>-0.341824</td>\n",
       "      <td>-0.319064</td>\n",
       "      <td>0.042322</td>\n",
       "      <td>-0.124755</td>\n",
       "      <td>0.023489</td>\n",
       "      <td>-0.893224</td>\n",
       "      <td>-0.823024</td>\n",
       "      <td>0.112364</td>\n",
       "    </tr>\n",
       "    <tr>\n",
       "      <th>2</th>\n",
       "      <td>3</td>\n",
       "      <td>Others</td>\n",
       "      <td>2024/07</td>\n",
       "      <td>Low</td>\n",
       "      <td>CA</td>\n",
       "      <td>A</td>\n",
       "      <td>0.4610</td>\n",
       "      <td>False</td>\n",
       "      <td>False</td>\n",
       "      <td>False</td>\n",
       "      <td>...</td>\n",
       "      <td>0.000000</td>\n",
       "      <td>0.000000</td>\n",
       "      <td>0.000000</td>\n",
       "      <td>0.000000</td>\n",
       "      <td>0.000000</td>\n",
       "      <td>0.000000</td>\n",
       "      <td>0.000000</td>\n",
       "      <td>0.000000</td>\n",
       "      <td>0.000000</td>\n",
       "      <td>0.000000</td>\n",
       "    </tr>\n",
       "    <tr>\n",
       "      <th>3</th>\n",
       "      <td>4</td>\n",
       "      <td>Others</td>\n",
       "      <td>2024/07</td>\n",
       "      <td>Low</td>\n",
       "      <td>CA</td>\n",
       "      <td>A</td>\n",
       "      <td>0.5064</td>\n",
       "      <td>False</td>\n",
       "      <td>False</td>\n",
       "      <td>False</td>\n",
       "      <td>...</td>\n",
       "      <td>0.000000</td>\n",
       "      <td>0.000000</td>\n",
       "      <td>0.000000</td>\n",
       "      <td>0.000000</td>\n",
       "      <td>0.000000</td>\n",
       "      <td>0.000000</td>\n",
       "      <td>0.000000</td>\n",
       "      <td>0.000000</td>\n",
       "      <td>0.000000</td>\n",
       "      <td>0.000000</td>\n",
       "    </tr>\n",
       "    <tr>\n",
       "      <th>4</th>\n",
       "      <td>5</td>\n",
       "      <td>Others</td>\n",
       "      <td>2024/07</td>\n",
       "      <td>Low</td>\n",
       "      <td>CA</td>\n",
       "      <td>A</td>\n",
       "      <td>0.4640</td>\n",
       "      <td>False</td>\n",
       "      <td>False</td>\n",
       "      <td>False</td>\n",
       "      <td>...</td>\n",
       "      <td>-0.406159</td>\n",
       "      <td>-0.654657</td>\n",
       "      <td>-0.074398</td>\n",
       "      <td>-0.464479</td>\n",
       "      <td>0.081037</td>\n",
       "      <td>-0.136992</td>\n",
       "      <td>-0.276270</td>\n",
       "      <td>-0.696853</td>\n",
       "      <td>-0.601466</td>\n",
       "      <td>0.089939</td>\n",
       "    </tr>\n",
       "  </tbody>\n",
       "</table>\n",
       "<p>5 rows × 317 columns</p>\n",
       "</div>"
      ]
     },
     "execution_count": 2,
     "metadata": {},
     "output_type": "execute_result"
    }
   ],
   "execution_count": 2
  },
  {
   "metadata": {
    "ExecuteTime": {
     "end_time": "2025-04-16T19:35:13.762007Z",
     "start_time": "2025-04-16T19:35:13.749057Z"
    }
   },
   "cell_type": "code",
   "source": "train.info()",
   "id": "3aefc529f3eeb832",
   "outputs": [
    {
     "name": "stdout",
     "output_type": "stream",
     "text": [
      "<class 'pandas.core.frame.DataFrame'>\n",
      "RangeIndex: 1280 entries, 0 to 1279\n",
      "Columns: 317 entries, obs to job_desc_300\n",
      "dtypes: bool(9), float64(302), int64(1), object(5)\n",
      "memory usage: 3.0+ MB\n"
     ]
    }
   ],
   "execution_count": 3
  },
  {
   "metadata": {
    "ExecuteTime": {
     "end_time": "2025-04-16T19:35:13.864220Z",
     "start_time": "2025-04-16T19:35:13.854709Z"
    }
   },
   "cell_type": "code",
   "source": "test.info()",
   "id": "76c5c5763b1eca0a",
   "outputs": [
    {
     "name": "stdout",
     "output_type": "stream",
     "text": [
      "<class 'pandas.core.frame.DataFrame'>\n",
      "RangeIndex: 854 entries, 0 to 853\n",
      "Columns: 316 entries, obs to job_desc_300\n",
      "dtypes: bool(9), float64(302), int64(1), object(4)\n",
      "memory usage: 2.0+ MB\n"
     ]
    }
   ],
   "execution_count": 4
  },
  {
   "metadata": {
    "ExecuteTime": {
     "end_time": "2025-04-16T19:35:14.502052Z",
     "start_time": "2025-04-16T19:35:14.494336Z"
    }
   },
   "cell_type": "code",
   "source": [
    "def compare_train_test(column):\n",
    "    train_values = train[column].value_counts().reset_index(name='train_count')\n",
    "    test_values = test[column].value_counts().reset_index(name='test_count')\n",
    "    return pd.merge(test_values, train_values, how='outer', on=column)\n",
    "\n",
    "c_job_title = compare_train_test('job_title')\n",
    "c_job_state = compare_train_test('job_state')"
   ],
   "id": "9ca3988075751b2a",
   "outputs": [],
   "execution_count": 5
  },
  {
   "metadata": {},
   "cell_type": "markdown",
   "source": "### <center>Braki w kolumnach</center>",
   "id": "f2030f3555c4a65c"
  },
  {
   "metadata": {
    "ExecuteTime": {
     "end_time": "2025-04-16T19:35:14.571319Z",
     "start_time": "2025-04-16T19:35:14.566416Z"
    }
   },
   "cell_type": "code",
   "source": "train.isnull().sum().sort_values(ascending=False)",
   "id": "1d213c91edc81de0",
   "outputs": [
    {
     "data": {
      "text/plain": [
       "feature_10         446\n",
       "job_state           27\n",
       "job_posted_date      1\n",
       "obs                  0\n",
       "job_desc_193         0\n",
       "                  ... \n",
       "job_desc_091         0\n",
       "job_desc_090         0\n",
       "job_desc_089         0\n",
       "job_desc_088         0\n",
       "job_desc_300         0\n",
       "Length: 317, dtype: int64"
      ]
     },
     "execution_count": 6,
     "metadata": {},
     "output_type": "execute_result"
    }
   ],
   "execution_count": 6
  },
  {
   "metadata": {
    "ExecuteTime": {
     "end_time": "2025-04-16T19:35:14.627259Z",
     "start_time": "2025-04-16T19:35:14.621940Z"
    }
   },
   "cell_type": "code",
   "source": "test.isnull().sum().sort_values(ascending=False)",
   "id": "5db01d6ff27c72ea",
   "outputs": [
    {
     "data": {
      "text/plain": [
       "feature_10      314\n",
       "job_state        13\n",
       "obs               0\n",
       "job_desc_193      0\n",
       "job_desc_200      0\n",
       "               ... \n",
       "job_desc_091      0\n",
       "job_desc_090      0\n",
       "job_desc_089      0\n",
       "job_desc_088      0\n",
       "job_desc_300      0\n",
       "Length: 316, dtype: int64"
      ]
     },
     "execution_count": 7,
     "metadata": {},
     "output_type": "execute_result"
    }
   ],
   "execution_count": 7
  },
  {
   "metadata": {},
   "cell_type": "markdown",
   "source": "### <center>Analiza kolumn job_desc</center>",
   "id": "412c6e06b6b61171"
  },
  {
   "metadata": {
    "ExecuteTime": {
     "end_time": "2025-04-16T19:35:14.740556Z",
     "start_time": "2025-04-16T19:35:14.732044Z"
    }
   },
   "cell_type": "code",
   "source": [
    "job_desc_cols = [col for col in train.columns if col.startswith('job_desc_')]\n",
    "\n",
    "train['is_description'] = (train[job_desc_cols].sum(axis=1) != 0).astype(int)\n",
    "test['is_description'] = (test[job_desc_cols].sum(axis=1) != 0).astype(int)"
   ],
   "id": "662f77c22de16ac",
   "outputs": [],
   "execution_count": 8
  },
  {
   "metadata": {},
   "cell_type": "markdown",
   "source": "### <center>Miesiąc i rok</center>",
   "id": "95ca7c24f8b08686"
  },
  {
   "metadata": {
    "ExecuteTime": {
     "end_time": "2025-04-16T19:35:14.826013Z",
     "start_time": "2025-04-16T19:35:14.816331Z"
    }
   },
   "cell_type": "code",
   "source": [
    "train['job_posted_date'] = pd.to_datetime(train['job_posted_date'], format='%Y/%m')\n",
    "train['month'] = train['job_posted_date'].dt.month\n",
    "train['year'] = train['job_posted_date'].dt.year\n",
    "train.drop(columns=['job_posted_date'], inplace=True)\n",
    "\n",
    "test['job_posted_date'] = pd.to_datetime(test['job_posted_date'], format='%Y/%m')\n",
    "test['month'] = test['job_posted_date'].dt.month\n",
    "test['year'] = test['job_posted_date'].dt.year\n",
    "test.drop(columns=['job_posted_date'], inplace=True)"
   ],
   "id": "dbc248b0a2642e5c",
   "outputs": [],
   "execution_count": 9
  },
  {
   "metadata": {},
   "cell_type": "markdown",
   "source": [
    "### <center>Porównanie wybranych kolumn kategorycznych w train/test</center>\n",
    "\n",
    "#### <center>Stan w którym jest oferta pracy \"job_state\"</center>"
   ],
   "id": "8e09531f796f8849"
  },
  {
   "metadata": {
    "ExecuteTime": {
     "end_time": "2025-04-16T19:35:14.869519Z",
     "start_time": "2025-04-16T19:35:14.861016Z"
    }
   },
   "cell_type": "code",
   "source": "c_job_state",
   "id": "7beba29828cf54b4",
   "outputs": [
    {
     "data": {
      "text/plain": [
       "   job_state  test_count  train_count\n",
       "0         AK         NaN          1.0\n",
       "1         AL         1.0          1.0\n",
       "2         AR         1.0          1.0\n",
       "3         AZ         2.0          2.0\n",
       "4         CA       391.0        559.0\n",
       "5         CO         4.0          8.0\n",
       "6         CT         8.0          2.0\n",
       "7         DC         4.0          8.0\n",
       "8         FL         1.0          6.0\n",
       "9         GA         4.0         10.0\n",
       "10        IA         1.0          1.0\n",
       "11        IL         7.0         15.0\n",
       "12        IN         3.0          2.0\n",
       "13        KS         1.0          NaN\n",
       "14        KY         1.0          1.0\n",
       "15        LA         NaN          1.0\n",
       "16        MA         5.0         14.0\n",
       "17        MD         5.0          5.0\n",
       "18        MI         5.0          2.0\n",
       "19        MN         3.0          7.0\n",
       "20        MO         3.0          1.0\n",
       "21        NC         2.0          5.0\n",
       "22        NJ        15.0         20.0\n",
       "23        NM         NaN          2.0\n",
       "24        NV         1.0          1.0\n",
       "25        NY       310.0        501.0\n",
       "26        OH         3.0          4.0\n",
       "27        OK         NaN          2.0\n",
       "28        OR         2.0          4.0\n",
       "29        PA         8.0          4.0\n",
       "30        RI         1.0          NaN\n",
       "31        SC         2.0          3.0\n",
       "32        SD         NaN          1.0\n",
       "33        TN         1.0          1.0\n",
       "34        TX        17.0         25.0\n",
       "35        UT         4.0          1.0\n",
       "36        VA        14.0         19.0\n",
       "37        WA        10.0         13.0\n",
       "38        WY         1.0          NaN"
      ],
      "text/html": [
       "<div>\n",
       "<style scoped>\n",
       "    .dataframe tbody tr th:only-of-type {\n",
       "        vertical-align: middle;\n",
       "    }\n",
       "\n",
       "    .dataframe tbody tr th {\n",
       "        vertical-align: top;\n",
       "    }\n",
       "\n",
       "    .dataframe thead th {\n",
       "        text-align: right;\n",
       "    }\n",
       "</style>\n",
       "<table border=\"1\" class=\"dataframe\">\n",
       "  <thead>\n",
       "    <tr style=\"text-align: right;\">\n",
       "      <th></th>\n",
       "      <th>job_state</th>\n",
       "      <th>test_count</th>\n",
       "      <th>train_count</th>\n",
       "    </tr>\n",
       "  </thead>\n",
       "  <tbody>\n",
       "    <tr>\n",
       "      <th>0</th>\n",
       "      <td>AK</td>\n",
       "      <td>NaN</td>\n",
       "      <td>1.0</td>\n",
       "    </tr>\n",
       "    <tr>\n",
       "      <th>1</th>\n",
       "      <td>AL</td>\n",
       "      <td>1.0</td>\n",
       "      <td>1.0</td>\n",
       "    </tr>\n",
       "    <tr>\n",
       "      <th>2</th>\n",
       "      <td>AR</td>\n",
       "      <td>1.0</td>\n",
       "      <td>1.0</td>\n",
       "    </tr>\n",
       "    <tr>\n",
       "      <th>3</th>\n",
       "      <td>AZ</td>\n",
       "      <td>2.0</td>\n",
       "      <td>2.0</td>\n",
       "    </tr>\n",
       "    <tr>\n",
       "      <th>4</th>\n",
       "      <td>CA</td>\n",
       "      <td>391.0</td>\n",
       "      <td>559.0</td>\n",
       "    </tr>\n",
       "    <tr>\n",
       "      <th>5</th>\n",
       "      <td>CO</td>\n",
       "      <td>4.0</td>\n",
       "      <td>8.0</td>\n",
       "    </tr>\n",
       "    <tr>\n",
       "      <th>6</th>\n",
       "      <td>CT</td>\n",
       "      <td>8.0</td>\n",
       "      <td>2.0</td>\n",
       "    </tr>\n",
       "    <tr>\n",
       "      <th>7</th>\n",
       "      <td>DC</td>\n",
       "      <td>4.0</td>\n",
       "      <td>8.0</td>\n",
       "    </tr>\n",
       "    <tr>\n",
       "      <th>8</th>\n",
       "      <td>FL</td>\n",
       "      <td>1.0</td>\n",
       "      <td>6.0</td>\n",
       "    </tr>\n",
       "    <tr>\n",
       "      <th>9</th>\n",
       "      <td>GA</td>\n",
       "      <td>4.0</td>\n",
       "      <td>10.0</td>\n",
       "    </tr>\n",
       "    <tr>\n",
       "      <th>10</th>\n",
       "      <td>IA</td>\n",
       "      <td>1.0</td>\n",
       "      <td>1.0</td>\n",
       "    </tr>\n",
       "    <tr>\n",
       "      <th>11</th>\n",
       "      <td>IL</td>\n",
       "      <td>7.0</td>\n",
       "      <td>15.0</td>\n",
       "    </tr>\n",
       "    <tr>\n",
       "      <th>12</th>\n",
       "      <td>IN</td>\n",
       "      <td>3.0</td>\n",
       "      <td>2.0</td>\n",
       "    </tr>\n",
       "    <tr>\n",
       "      <th>13</th>\n",
       "      <td>KS</td>\n",
       "      <td>1.0</td>\n",
       "      <td>NaN</td>\n",
       "    </tr>\n",
       "    <tr>\n",
       "      <th>14</th>\n",
       "      <td>KY</td>\n",
       "      <td>1.0</td>\n",
       "      <td>1.0</td>\n",
       "    </tr>\n",
       "    <tr>\n",
       "      <th>15</th>\n",
       "      <td>LA</td>\n",
       "      <td>NaN</td>\n",
       "      <td>1.0</td>\n",
       "    </tr>\n",
       "    <tr>\n",
       "      <th>16</th>\n",
       "      <td>MA</td>\n",
       "      <td>5.0</td>\n",
       "      <td>14.0</td>\n",
       "    </tr>\n",
       "    <tr>\n",
       "      <th>17</th>\n",
       "      <td>MD</td>\n",
       "      <td>5.0</td>\n",
       "      <td>5.0</td>\n",
       "    </tr>\n",
       "    <tr>\n",
       "      <th>18</th>\n",
       "      <td>MI</td>\n",
       "      <td>5.0</td>\n",
       "      <td>2.0</td>\n",
       "    </tr>\n",
       "    <tr>\n",
       "      <th>19</th>\n",
       "      <td>MN</td>\n",
       "      <td>3.0</td>\n",
       "      <td>7.0</td>\n",
       "    </tr>\n",
       "    <tr>\n",
       "      <th>20</th>\n",
       "      <td>MO</td>\n",
       "      <td>3.0</td>\n",
       "      <td>1.0</td>\n",
       "    </tr>\n",
       "    <tr>\n",
       "      <th>21</th>\n",
       "      <td>NC</td>\n",
       "      <td>2.0</td>\n",
       "      <td>5.0</td>\n",
       "    </tr>\n",
       "    <tr>\n",
       "      <th>22</th>\n",
       "      <td>NJ</td>\n",
       "      <td>15.0</td>\n",
       "      <td>20.0</td>\n",
       "    </tr>\n",
       "    <tr>\n",
       "      <th>23</th>\n",
       "      <td>NM</td>\n",
       "      <td>NaN</td>\n",
       "      <td>2.0</td>\n",
       "    </tr>\n",
       "    <tr>\n",
       "      <th>24</th>\n",
       "      <td>NV</td>\n",
       "      <td>1.0</td>\n",
       "      <td>1.0</td>\n",
       "    </tr>\n",
       "    <tr>\n",
       "      <th>25</th>\n",
       "      <td>NY</td>\n",
       "      <td>310.0</td>\n",
       "      <td>501.0</td>\n",
       "    </tr>\n",
       "    <tr>\n",
       "      <th>26</th>\n",
       "      <td>OH</td>\n",
       "      <td>3.0</td>\n",
       "      <td>4.0</td>\n",
       "    </tr>\n",
       "    <tr>\n",
       "      <th>27</th>\n",
       "      <td>OK</td>\n",
       "      <td>NaN</td>\n",
       "      <td>2.0</td>\n",
       "    </tr>\n",
       "    <tr>\n",
       "      <th>28</th>\n",
       "      <td>OR</td>\n",
       "      <td>2.0</td>\n",
       "      <td>4.0</td>\n",
       "    </tr>\n",
       "    <tr>\n",
       "      <th>29</th>\n",
       "      <td>PA</td>\n",
       "      <td>8.0</td>\n",
       "      <td>4.0</td>\n",
       "    </tr>\n",
       "    <tr>\n",
       "      <th>30</th>\n",
       "      <td>RI</td>\n",
       "      <td>1.0</td>\n",
       "      <td>NaN</td>\n",
       "    </tr>\n",
       "    <tr>\n",
       "      <th>31</th>\n",
       "      <td>SC</td>\n",
       "      <td>2.0</td>\n",
       "      <td>3.0</td>\n",
       "    </tr>\n",
       "    <tr>\n",
       "      <th>32</th>\n",
       "      <td>SD</td>\n",
       "      <td>NaN</td>\n",
       "      <td>1.0</td>\n",
       "    </tr>\n",
       "    <tr>\n",
       "      <th>33</th>\n",
       "      <td>TN</td>\n",
       "      <td>1.0</td>\n",
       "      <td>1.0</td>\n",
       "    </tr>\n",
       "    <tr>\n",
       "      <th>34</th>\n",
       "      <td>TX</td>\n",
       "      <td>17.0</td>\n",
       "      <td>25.0</td>\n",
       "    </tr>\n",
       "    <tr>\n",
       "      <th>35</th>\n",
       "      <td>UT</td>\n",
       "      <td>4.0</td>\n",
       "      <td>1.0</td>\n",
       "    </tr>\n",
       "    <tr>\n",
       "      <th>36</th>\n",
       "      <td>VA</td>\n",
       "      <td>14.0</td>\n",
       "      <td>19.0</td>\n",
       "    </tr>\n",
       "    <tr>\n",
       "      <th>37</th>\n",
       "      <td>WA</td>\n",
       "      <td>10.0</td>\n",
       "      <td>13.0</td>\n",
       "    </tr>\n",
       "    <tr>\n",
       "      <th>38</th>\n",
       "      <td>WY</td>\n",
       "      <td>1.0</td>\n",
       "      <td>NaN</td>\n",
       "    </tr>\n",
       "  </tbody>\n",
       "</table>\n",
       "</div>"
      ]
     },
     "execution_count": 10,
     "metadata": {},
     "output_type": "execute_result"
    }
   ],
   "execution_count": 10
  },
  {
   "metadata": {},
   "cell_type": "markdown",
   "source": "#### Zmiana stanów na regiony USA",
   "id": "67810476e946650f"
  },
  {
   "metadata": {
    "ExecuteTime": {
     "end_time": "2025-04-16T19:35:14.962899Z",
     "start_time": "2025-04-16T19:35:14.957369Z"
    }
   },
   "cell_type": "code",
   "source": [
    "west_states = [\n",
    "    'AK', 'AZ', 'CA', 'CO', 'HI', 'ID',\n",
    "    'MT', 'NV', 'NM', 'OR', 'UT', 'WA', 'WY'\n",
    "]\n",
    "\n",
    "central_states = [\n",
    "    'AR', 'IA', 'IL', 'IN', 'KS', 'KY', 'LA',\n",
    "    'MI', 'MN', 'MO', 'ND', 'NE', 'OH',\n",
    "    'OK', 'SD', 'TX', 'WI'\n",
    "]\n",
    "\n",
    "east_states = [\n",
    "    'AL', 'CT', 'DE', 'FL', 'GA', 'MA', 'MD',\n",
    "    'ME', 'MS', 'NC', 'NH', 'NJ', 'NY', 'PA',\n",
    "    'RI', 'SC', 'TN', 'VA', 'VT', 'WV', 'DC'\n",
    "]\n",
    "\n",
    "def map_state_to_region(state):\n",
    "    if state in west_states:\n",
    "        return 'West'\n",
    "    elif state in central_states:\n",
    "        return 'Central'\n",
    "    elif state in east_states:\n",
    "        return 'East'\n",
    "    else:\n",
    "        return 'Other'\n",
    "\n",
    "train['job_region'] = train['job_state'].apply(map_state_to_region)\n",
    "test['job_region'] = test['job_state'].apply(map_state_to_region)"
   ],
   "id": "7617a90cb32669af",
   "outputs": [],
   "execution_count": 11
  },
  {
   "metadata": {},
   "cell_type": "markdown",
   "source": "#### <center>WYKRES: Stan USA, a wysokość pensji</center>",
   "id": "44d970fb9678b087"
  },
  {
   "metadata": {
    "ExecuteTime": {
     "end_time": "2025-04-16T19:35:15.268605Z",
     "start_time": "2025-04-16T19:35:15.076797Z"
    }
   },
   "cell_type": "code",
   "source": [
    "salary_types = train['salary_category'].unique()\n",
    "\n",
    "show_every_region = train.groupby(['job_region', 'salary_category']).size().unstack(fill_value=0).reindex(columns=salary_types, fill_value=0).stack().reset_index(name='Count')\n",
    "\n",
    "width = 0.2\n",
    "x = np.arange(len(show_every_region['job_region'].unique()))\n",
    "my_xticks = [x - width, x, x + width]\n",
    "colors = ['gold', 'silver', 'brown']\n",
    "\n",
    "fig, ax = plt.subplots(figsize=(16, 12))\n",
    "\n",
    "for i, salary in enumerate(salary_types):\n",
    "    ax.bar(\n",
    "        x=my_xticks[i],\n",
    "        height=show_every_region.loc[(show_every_region['salary_category'] == salary), 'Count'],\n",
    "        width=width,\n",
    "        label=salary,\n",
    "        color=colors[i],\n",
    "        edgecolor='black',\n",
    "        alpha=1,\n",
    "    )\n",
    "\n",
    "ax.grid(True)\n",
    "ax.set_xticks(x + width)\n",
    "ax.set_xticklabels(show_every_region['job_region'].unique(), rotation=90)\n",
    "ax.set_xlabel('Region')\n",
    "ax.set_ylabel('Liczba ofert')\n",
    "ax.set_title('Kategoria zarobkowa w stanach')\n",
    "ax.legend(title='Kategoria wynagrodzenia')"
   ],
   "id": "e0cd34341f9a41bc",
   "outputs": [
    {
     "data": {
      "text/plain": [
       "<matplotlib.legend.Legend at 0x252398aa150>"
      ]
     },
     "execution_count": 12,
     "metadata": {},
     "output_type": "execute_result"
    },
    {
     "data": {
      "text/plain": [
       "<Figure size 1600x1200 with 1 Axes>"
      ],
      "image/png": "[encoded data removed]"
     },
     "metadata": {},
     "output_type": "display_data"
    }
   ],
   "execution_count": 12
  },
  {
   "metadata": {},
   "cell_type": "markdown",
   "source": "#### Kodowanie one-hot \"job_region\"",
   "id": "e2890e07f11704f5"
  },
  {
   "metadata": {
    "ExecuteTime": {
     "end_time": "2025-04-16T19:35:15.316149Z",
     "start_time": "2025-04-16T19:35:15.303288Z"
    }
   },
   "cell_type": "code",
   "source": [
    "job_region_one_hot = OneHotEncoder(sparse_output=False)\n",
    "job_region_one_hot.fit(train[['job_region']])\n",
    "\n",
    "train = pd.concat([train, pd.DataFrame(job_region_one_hot.transform(train[['job_region']]), columns=job_region_one_hot.categories_[0])], axis=1)\n",
    "test = pd.concat([test, pd.DataFrame(job_region_one_hot.transform(test[['job_region']]), columns=job_region_one_hot.categories_[0])], axis=1)\n",
    "\n",
    "train.drop(columns=['job_state', 'job_region'], inplace=True)\n",
    "test.drop(columns=['job_state', 'job_region'], inplace=True)"
   ],
   "id": "f95a00925d52b856",
   "outputs": [],
   "execution_count": 13
  },
  {
   "metadata": {},
   "cell_type": "markdown",
   "source": "#### <center>Stanowisko pracy \"job_title\"</center>",
   "id": "ffe8bc56fdcd27d"
  },
  {
   "metadata": {
    "ExecuteTime": {
     "end_time": "2025-04-16T19:35:15.359257Z",
     "start_time": "2025-04-16T19:35:15.353749Z"
    }
   },
   "cell_type": "code",
   "source": "c_job_title",
   "id": "23a55f462d89fe56",
   "outputs": [
    {
     "data": {
      "text/plain": [
       "       job_title  test_count  train_count\n",
       "0    Job_Title_1          13           27\n",
       "1   Job_Title_10          46           53\n",
       "2   Job_Title_11           1            9\n",
       "3   Job_Title_12           7            7\n",
       "4   Job_Title_13          13           11\n",
       "5   Job_Title_14           2            3\n",
       "6   Job_Title_15           2            4\n",
       "7   Job_Title_16           3            6\n",
       "8   Job_Title_17           3            4\n",
       "9   Job_Title_18           1            4\n",
       "10  Job_Title_19           8            7\n",
       "11   Job_Title_2          18           32\n",
       "12  Job_Title_20           2            6\n",
       "13  Job_Title_21           3            4\n",
       "14  Job_Title_22           2            3\n",
       "15  Job_Title_23           7           10\n",
       "16  Job_Title_24           2            3\n",
       "17  Job_Title_25           1            4\n",
       "18  Job_Title_26           1            4\n",
       "19  Job_Title_27           4            1\n",
       "20   Job_Title_3          48           46\n",
       "21   Job_Title_4           1            5\n",
       "22   Job_Title_5          38           51\n",
       "23   Job_Title_6           4            5\n",
       "24   Job_Title_7          27           38\n",
       "25   Job_Title_8          16           40\n",
       "26   Job_Title_9           1            4\n",
       "27        Others         580          889"
      ],
      "text/html": [
       "<div>\n",
       "<style scoped>\n",
       "    .dataframe tbody tr th:only-of-type {\n",
       "        vertical-align: middle;\n",
       "    }\n",
       "\n",
       "    .dataframe tbody tr th {\n",
       "        vertical-align: top;\n",
       "    }\n",
       "\n",
       "    .dataframe thead th {\n",
       "        text-align: right;\n",
       "    }\n",
       "</style>\n",
       "<table border=\"1\" class=\"dataframe\">\n",
       "  <thead>\n",
       "    <tr style=\"text-align: right;\">\n",
       "      <th></th>\n",
       "      <th>job_title</th>\n",
       "      <th>test_count</th>\n",
       "      <th>train_count</th>\n",
       "    </tr>\n",
       "  </thead>\n",
       "  <tbody>\n",
       "    <tr>\n",
       "      <th>0</th>\n",
       "      <td>Job_Title_1</td>\n",
       "      <td>13</td>\n",
       "      <td>27</td>\n",
       "    </tr>\n",
       "    <tr>\n",
       "      <th>1</th>\n",
       "      <td>Job_Title_10</td>\n",
       "      <td>46</td>\n",
       "      <td>53</td>\n",
       "    </tr>\n",
       "    <tr>\n",
       "      <th>2</th>\n",
       "      <td>Job_Title_11</td>\n",
       "      <td>1</td>\n",
       "      <td>9</td>\n",
       "    </tr>\n",
       "    <tr>\n",
       "      <th>3</th>\n",
       "      <td>Job_Title_12</td>\n",
       "      <td>7</td>\n",
       "      <td>7</td>\n",
       "    </tr>\n",
       "    <tr>\n",
       "      <th>4</th>\n",
       "      <td>Job_Title_13</td>\n",
       "      <td>13</td>\n",
       "      <td>11</td>\n",
       "    </tr>\n",
       "    <tr>\n",
       "      <th>5</th>\n",
       "      <td>Job_Title_14</td>\n",
       "      <td>2</td>\n",
       "      <td>3</td>\n",
       "    </tr>\n",
       "    <tr>\n",
       "      <th>6</th>\n",
       "      <td>Job_Title_15</td>\n",
       "      <td>2</td>\n",
       "      <td>4</td>\n",
       "    </tr>\n",
       "    <tr>\n",
       "      <th>7</th>\n",
       "      <td>Job_Title_16</td>\n",
       "      <td>3</td>\n",
       "      <td>6</td>\n",
       "    </tr>\n",
       "    <tr>\n",
       "      <th>8</th>\n",
       "      <td>Job_Title_17</td>\n",
       "      <td>3</td>\n",
       "      <td>4</td>\n",
       "    </tr>\n",
       "    <tr>\n",
       "      <th>9</th>\n",
       "      <td>Job_Title_18</td>\n",
       "      <td>1</td>\n",
       "      <td>4</td>\n",
       "    </tr>\n",
       "    <tr>\n",
       "      <th>10</th>\n",
       "      <td>Job_Title_19</td>\n",
       "      <td>8</td>\n",
       "      <td>7</td>\n",
       "    </tr>\n",
       "    <tr>\n",
       "      <th>11</th>\n",
       "      <td>Job_Title_2</td>\n",
       "      <td>18</td>\n",
       "      <td>32</td>\n",
       "    </tr>\n",
       "    <tr>\n",
       "      <th>12</th>\n",
       "      <td>Job_Title_20</td>\n",
       "      <td>2</td>\n",
       "      <td>6</td>\n",
       "    </tr>\n",
       "    <tr>\n",
       "      <th>13</th>\n",
       "      <td>Job_Title_21</td>\n",
       "      <td>3</td>\n",
       "      <td>4</td>\n",
       "    </tr>\n",
       "    <tr>\n",
       "      <th>14</th>\n",
       "      <td>Job_Title_22</td>\n",
       "      <td>2</td>\n",
       "      <td>3</td>\n",
       "    </tr>\n",
       "    <tr>\n",
       "      <th>15</th>\n",
       "      <td>Job_Title_23</td>\n",
       "      <td>7</td>\n",
       "      <td>10</td>\n",
       "    </tr>\n",
       "    <tr>\n",
       "      <th>16</th>\n",
       "      <td>Job_Title_24</td>\n",
       "      <td>2</td>\n",
       "      <td>3</td>\n",
       "    </tr>\n",
       "    <tr>\n",
       "      <th>17</th>\n",
       "      <td>Job_Title_25</td>\n",
       "      <td>1</td>\n",
       "      <td>4</td>\n",
       "    </tr>\n",
       "    <tr>\n",
       "      <th>18</th>\n",
       "      <td>Job_Title_26</td>\n",
       "      <td>1</td>\n",
       "      <td>4</td>\n",
       "    </tr>\n",
       "    <tr>\n",
       "      <th>19</th>\n",
       "      <td>Job_Title_27</td>\n",
       "      <td>4</td>\n",
       "      <td>1</td>\n",
       "    </tr>\n",
       "    <tr>\n",
       "      <th>20</th>\n",
       "      <td>Job_Title_3</td>\n",
       "      <td>48</td>\n",
       "      <td>46</td>\n",
       "    </tr>\n",
       "    <tr>\n",
       "      <th>21</th>\n",
       "      <td>Job_Title_4</td>\n",
       "      <td>1</td>\n",
       "      <td>5</td>\n",
       "    </tr>\n",
       "    <tr>\n",
       "      <th>22</th>\n",
       "      <td>Job_Title_5</td>\n",
       "      <td>38</td>\n",
       "      <td>51</td>\n",
       "    </tr>\n",
       "    <tr>\n",
       "      <th>23</th>\n",
       "      <td>Job_Title_6</td>\n",
       "      <td>4</td>\n",
       "      <td>5</td>\n",
       "    </tr>\n",
       "    <tr>\n",
       "      <th>24</th>\n",
       "      <td>Job_Title_7</td>\n",
       "      <td>27</td>\n",
       "      <td>38</td>\n",
       "    </tr>\n",
       "    <tr>\n",
       "      <th>25</th>\n",
       "      <td>Job_Title_8</td>\n",
       "      <td>16</td>\n",
       "      <td>40</td>\n",
       "    </tr>\n",
       "    <tr>\n",
       "      <th>26</th>\n",
       "      <td>Job_Title_9</td>\n",
       "      <td>1</td>\n",
       "      <td>4</td>\n",
       "    </tr>\n",
       "    <tr>\n",
       "      <th>27</th>\n",
       "      <td>Others</td>\n",
       "      <td>580</td>\n",
       "      <td>889</td>\n",
       "    </tr>\n",
       "  </tbody>\n",
       "</table>\n",
       "</div>"
      ]
     },
     "execution_count": 14,
     "metadata": {},
     "output_type": "execute_result"
    }
   ],
   "execution_count": 14
  },
  {
   "metadata": {},
   "cell_type": "markdown",
   "source": "#### <center>WYKRES: Stanowisko pracy a wysokość pensji</center>",
   "id": "5a52f9f8e401deb8"
  },
  {
   "metadata": {
    "ExecuteTime": {
     "end_time": "2025-04-16T19:35:15.818714Z",
     "start_time": "2025-04-16T19:35:15.412651Z"
    }
   },
   "cell_type": "code",
   "source": [
    "salary_types = train['salary_category'].unique()\n",
    "\n",
    "show_every_state = train.groupby(['job_title', 'salary_category']).size().unstack(fill_value=0).reindex(columns=salary_types, fill_value=0).stack().reset_index(name='Count')\n",
    "\n",
    "width = 0.2\n",
    "x = np.arange(len(show_every_state['job_title'].unique()))\n",
    "my_xticks = [x - width, x, x + width]\n",
    "colors = ['gold', 'silver', 'brown']\n",
    "\n",
    "fig, ax = plt.subplots(figsize=(16, 12))\n",
    "\n",
    "for i, salary in enumerate(salary_types):\n",
    "    ax.bar(\n",
    "        x=my_xticks[i],\n",
    "        height=show_every_state.loc[(show_every_state['salary_category'] == salary), 'Count'],\n",
    "        width=width,\n",
    "        label=salary,\n",
    "        color=colors[i],\n",
    "        edgecolor='black',\n",
    "        alpha=1,\n",
    "    )\n",
    "\n",
    "ax.grid(True)\n",
    "ax.set_xticks(x + width)\n",
    "ax.set_xticklabels(show_every_state['job_title'].unique(), rotation=90)\n",
    "ax.set_xlabel('Stan')\n",
    "ax.set_ylabel('Liczba ofert')\n",
    "ax.set_title('Kategorie zarobkowe dla każdej oferty pracy')\n",
    "ax.legend(title='Kategoria wynagrodzenia')"
   ],
   "id": "1abf8b75194ad14d",
   "outputs": [
    {
     "data": {
      "text/plain": [
       "<matplotlib.legend.Legend at 0x25239be4290>"
      ]
     },
     "execution_count": 15,
     "metadata": {},
     "output_type": "execute_result"
    },
    {
     "data": {
      "text/plain": [
       "<Figure size 1600x1200 with 1 Axes>"
      ],
      "image/png": "[encoded data removed]"
     },
     "metadata": {},
     "output_type": "display_data"
    }
   ],
   "execution_count": 15
  },
  {
   "metadata": {},
   "cell_type": "markdown",
   "source": "#### Kodowanie one-hot \"job_title\"",
   "id": "d424430e0c7c1748"
  },
  {
   "metadata": {
    "ExecuteTime": {
     "end_time": "2025-04-16T19:35:15.878624Z",
     "start_time": "2025-04-16T19:35:15.864105Z"
    }
   },
   "cell_type": "code",
   "source": [
    "job_title_one_hot = OneHotEncoder(sparse_output=False)\n",
    "job_title_one_hot.fit(train[['job_title']])\n",
    "\n",
    "train = pd.concat([train, pd.DataFrame(job_title_one_hot.transform(train[['job_title']]), columns=job_title_one_hot.categories_[0])], axis=1)\n",
    "test = pd.concat([test, pd.DataFrame(job_title_one_hot.transform(test[['job_title']]), columns=job_title_one_hot.categories_[0])], axis=1)\n",
    "\n",
    "train.drop(columns=['job_title'], inplace=True)\n",
    "test.drop(columns=['job_title'], inplace=True)"
   ],
   "id": "5c9cd664bb58ab7f",
   "outputs": [],
   "execution_count": 16
  },
  {
   "metadata": {},
   "cell_type": "markdown",
   "source": "#### <center>Kolumny \"feature_\"</center>",
   "id": "a28f2b3439e910da"
  },
  {
   "metadata": {
    "ExecuteTime": {
     "end_time": "2025-04-16T19:35:15.956360Z",
     "start_time": "2025-04-16T19:35:15.949301Z"
    }
   },
   "cell_type": "code",
   "source": [
    "feature_columns = [col for col in train.columns if col.startswith('feature_')]\n",
    "\n",
    "train[feature_columns].info()"
   ],
   "id": "39d7191a327bbe44",
   "outputs": [
    {
     "name": "stdout",
     "output_type": "stream",
     "text": [
      "<class 'pandas.core.frame.DataFrame'>\n",
      "RangeIndex: 1280 entries, 0 to 1279\n",
      "Data columns (total 12 columns):\n",
      " #   Column      Non-Null Count  Dtype  \n",
      "---  ------      --------------  -----  \n",
      " 0   feature_1   1280 non-null   object \n",
      " 1   feature_2   1280 non-null   float64\n",
      " 2   feature_3   1280 non-null   bool   \n",
      " 3   feature_4   1280 non-null   bool   \n",
      " 4   feature_5   1280 non-null   bool   \n",
      " 5   feature_6   1280 non-null   bool   \n",
      " 6   feature_7   1280 non-null   bool   \n",
      " 7   feature_8   1280 non-null   bool   \n",
      " 8   feature_9   1280 non-null   bool   \n",
      " 9   feature_10  834 non-null    float64\n",
      " 10  feature_11  1280 non-null   bool   \n",
      " 11  feature_12  1280 non-null   bool   \n",
      "dtypes: bool(9), float64(2), object(1)\n",
      "memory usage: 41.4+ KB\n"
     ]
    }
   ],
   "execution_count": 17
  },
  {
   "metadata": {
    "ExecuteTime": {
     "end_time": "2025-04-16T19:35:16.005856Z",
     "start_time": "2025-04-16T19:35:15.996948Z"
    }
   },
   "cell_type": "code",
   "source": [
    "grouped_feature_1 = train.groupby(['salary_category', 'feature_1']).size().unstack(fill_value=0)\n",
    "\n",
    "feature_1_encoder = LabelEncoder().fit(train['feature_1'])\n",
    "train['feature_1'] = feature_1_encoder.transform(train['feature_1'])\n",
    "test['feature_1'] = feature_1_encoder.transform(test['feature_1'])\n",
    "\n",
    "grouped_feature_1"
   ],
   "id": "662fb1b6a79d9d3",
   "outputs": [
    {
     "data": {
      "text/plain": [
       "feature_1          A   B  C  D  E\n",
       "salary_category                  \n",
       "High             500   0  0  1  0\n",
       "Low              373  36  6  3  1\n",
       "Medium           359   0  0  1  0"
      ],
      "text/html": [
       "<div>\n",
       "<style scoped>\n",
       "    .dataframe tbody tr th:only-of-type {\n",
       "        vertical-align: middle;\n",
       "    }\n",
       "\n",
       "    .dataframe tbody tr th {\n",
       "        vertical-align: top;\n",
       "    }\n",
       "\n",
       "    .dataframe thead th {\n",
       "        text-align: right;\n",
       "    }\n",
       "</style>\n",
       "<table border=\"1\" class=\"dataframe\">\n",
       "  <thead>\n",
       "    <tr style=\"text-align: right;\">\n",
       "      <th>feature_1</th>\n",
       "      <th>A</th>\n",
       "      <th>B</th>\n",
       "      <th>C</th>\n",
       "      <th>D</th>\n",
       "      <th>E</th>\n",
       "    </tr>\n",
       "    <tr>\n",
       "      <th>salary_category</th>\n",
       "      <th></th>\n",
       "      <th></th>\n",
       "      <th></th>\n",
       "      <th></th>\n",
       "      <th></th>\n",
       "    </tr>\n",
       "  </thead>\n",
       "  <tbody>\n",
       "    <tr>\n",
       "      <th>High</th>\n",
       "      <td>500</td>\n",
       "      <td>0</td>\n",
       "      <td>0</td>\n",
       "      <td>1</td>\n",
       "      <td>0</td>\n",
       "    </tr>\n",
       "    <tr>\n",
       "      <th>Low</th>\n",
       "      <td>373</td>\n",
       "      <td>36</td>\n",
       "      <td>6</td>\n",
       "      <td>3</td>\n",
       "      <td>1</td>\n",
       "    </tr>\n",
       "    <tr>\n",
       "      <th>Medium</th>\n",
       "      <td>359</td>\n",
       "      <td>0</td>\n",
       "      <td>0</td>\n",
       "      <td>1</td>\n",
       "      <td>0</td>\n",
       "    </tr>\n",
       "  </tbody>\n",
       "</table>\n",
       "</div>"
      ]
     },
     "execution_count": 18,
     "metadata": {},
     "output_type": "execute_result"
    }
   ],
   "execution_count": 18
  },
  {
   "metadata": {},
   "cell_type": "markdown",
   "source": [
    "W feature_10 okres 06-08/2024 ma najwięcej brakujących wartości dla zbioru treningowego.\n",
    "\n",
    "Tak samo jest w zbiorze testowym."
   ],
   "id": "ef7f747e9ce38118"
  },
  {
   "metadata": {
    "ExecuteTime": {
     "end_time": "2025-04-16T19:35:16.066918Z",
     "start_time": "2025-04-16T19:35:16.059978Z"
    }
   },
   "cell_type": "code",
   "source": [
    "train_grouped_feature_10 = train.loc[train['feature_10'].isna(), ['month', 'year']]\n",
    "\n",
    "train_grouped_feature_10.groupby(['year', 'month']).size().sort_values(ascending=False).head(n=3)"
   ],
   "id": "fdffb02ef19b7768",
   "outputs": [
    {
     "data": {
      "text/plain": [
       "year    month\n",
       "2024.0  7.0      184\n",
       "        8.0       60\n",
       "        6.0       29\n",
       "dtype: int64"
      ]
     },
     "execution_count": 19,
     "metadata": {},
     "output_type": "execute_result"
    }
   ],
   "execution_count": 19
  },
  {
   "metadata": {
    "ExecuteTime": {
     "end_time": "2025-04-16T19:35:16.174092Z",
     "start_time": "2025-04-16T19:35:16.167674Z"
    }
   },
   "cell_type": "code",
   "source": [
    "test_grouped_feature_10 = test.loc[test['feature_10'].isna(), ['month', 'year']]\n",
    "\n",
    "test_grouped_feature_10.groupby(['year', 'month']).size().sort_values(ascending=False).head(n=3)"
   ],
   "id": "c75c648c2a2e716f",
   "outputs": [
    {
     "data": {
      "text/plain": [
       "year  month\n",
       "2024  7        136\n",
       "      8         28\n",
       "      6         28\n",
       "dtype: int64"
      ]
     },
     "execution_count": 20,
     "metadata": {},
     "output_type": "execute_result"
    }
   ],
   "execution_count": 20
  },
  {
   "metadata": {},
   "cell_type": "markdown",
   "source": "#### Kodowanie LabelEncoder na salary_category",
   "id": "48f1734da6e78e2c"
  },
  {
   "metadata": {
    "ExecuteTime": {
     "end_time": "2025-04-16T19:35:16.339419Z",
     "start_time": "2025-04-16T19:35:16.336405Z"
    }
   },
   "cell_type": "code",
   "source": [
    "salary_category = train['salary_category']\n",
    "salary_category_encoder = LabelEncoder().fit(salary_category)\n",
    "train['salary_category'] = salary_category_encoder.transform(train['salary_category'])"
   ],
   "id": "b9e381287f075e5e",
   "outputs": [],
   "execution_count": 21
  },
  {
   "metadata": {},
   "cell_type": "markdown",
   "source": "#### Wartości korelacji dla kolumny salary_category",
   "id": "256e8e7545b92e27"
  },
  {
   "metadata": {
    "ExecuteTime": {
     "end_time": "2025-04-16T19:35:16.667907Z",
     "start_time": "2025-04-16T19:35:16.393083Z"
    }
   },
   "cell_type": "code",
   "source": [
    "train.drop(columns=['obs'], inplace=True)\n",
    "test_obs = test['obs']\n",
    "test.drop(columns=['obs'], inplace=True)\n",
    "\n",
    "corr = train.corr()[['salary_category']]\n",
    "\n",
    "columns_to_drop = corr.loc[(corr['salary_category'] < 0.02) & (corr['salary_category'] > -0.02), :].index.values\n",
    "\n",
    "train.drop(columns=columns_to_drop, inplace=True)\n",
    "test.drop(columns=columns_to_drop, inplace=True)"
   ],
   "id": "5fba005c3df2af11",
   "outputs": [],
   "execution_count": 22
  },
  {
   "metadata": {
    "ExecuteTime": {
     "end_time": "2025-04-16T19:35:16.709659Z",
     "start_time": "2025-04-16T19:35:16.700147Z"
    }
   },
   "cell_type": "code",
   "source": "train.info()",
   "id": "8d85574fb8c3e1b4",
   "outputs": [
    {
     "name": "stdout",
     "output_type": "stream",
     "text": [
      "<class 'pandas.core.frame.DataFrame'>\n",
      "RangeIndex: 1280 entries, 0 to 1279\n",
      "Columns: 294 entries, salary_category to Others\n",
      "dtypes: bool(8), float64(283), int32(3)\n",
      "memory usage: 2.8 MB\n"
     ]
    }
   ],
   "execution_count": 23
  },
  {
   "metadata": {},
   "cell_type": "markdown",
   "source": [
    "### <center>Proces nauki, walidacji, testowania</center>\n",
    "\n",
    "#### LightGBM"
   ],
   "id": "7fea6e6b14dbc694"
  },
  {
   "metadata": {
    "ExecuteTime": {
     "end_time": "2025-04-16T19:35:16.726752Z",
     "start_time": "2025-04-16T19:35:16.719749Z"
    }
   },
   "cell_type": "code",
   "source": [
    "X = train.drop(columns=['salary_category'])\n",
    "y = salary_category_encoder.transform(salary_category)\n",
    "\n",
    "X_train, X_test, y_train, y_test = train_test_split(X, y, test_size=0.2, random_state=42)\n",
    "X_train = pd.DataFrame(X_train, columns=X.columns)\n",
    "X_test = pd.DataFrame(X_test, columns=X.columns)"
   ],
   "id": "84c0443ebb7b3bda",
   "outputs": [],
   "execution_count": 24
  },
  {
   "metadata": {
    "ExecuteTime": {
     "end_time": "2025-04-16T19:35:17.982968Z",
     "start_time": "2025-04-16T19:35:16.802691Z"
    }
   },
   "cell_type": "code",
   "source": [
    "lgb_model = lgb.LGBMClassifier().fit(X, y)\n",
    "\n",
    "print(classification_report(y_test, lgb_model.predict(X_test), target_names=salary_category_encoder.inverse_transform(np.unique(y_train))))"
   ],
   "id": "50bf74308f7adde",
   "outputs": [
    {
     "name": "stdout",
     "output_type": "stream",
     "text": [
      "[LightGBM] [Info] Auto-choosing col-wise multi-threading, the overhead of testing was 0.003476 seconds.\n",
      "You can set `force_col_wise=true` to remove the overhead.\n",
      "[LightGBM] [Info] Total Bins 65094\n",
      "[LightGBM] [Info] Number of data points in the train set: 1280, number of used features: 276\n",
      "[LightGBM] [Info] Start training from score -0.938009\n",
      "[LightGBM] [Info] Start training from score -1.116744\n",
      "[LightGBM] [Info] Start training from score -1.268511\n",
      "[LightGBM] [Warning] No further splits with positive gain, best gain: -inf\n",
      "              precision    recall  f1-score   support\n",
      "\n",
      "        High       1.00      1.00      1.00        94\n",
      "         Low       1.00      1.00      1.00        85\n",
      "      Medium       1.00      1.00      1.00        77\n",
      "\n",
      "    accuracy                           1.00       256\n",
      "   macro avg       1.00      1.00      1.00       256\n",
      "weighted avg       1.00      1.00      1.00       256\n",
      "\n"
     ]
    }
   ],
   "execution_count": 25
  },
  {
   "metadata": {},
   "cell_type": "markdown",
   "source": "#### Istotność cech dla LightGBM",
   "id": "f94eff3cf477fbd0"
  },
  {
   "metadata": {
    "ExecuteTime": {
     "end_time": "2025-04-16T19:35:18.037657Z",
     "start_time": "2025-04-16T19:35:18.030652Z"
    }
   },
   "cell_type": "code",
   "source": [
    "importance = pd.DataFrame(data={'names': lgb_model.feature_name_, 'importance': lgb_model.feature_importances_}).sort_values(by='importance', ascending=False)\n",
    "\n",
    "importance"
   ],
   "id": "15fc2bc5adf16add",
   "outputs": [
    {
     "data": {
      "text/plain": [
       "            names  importance\n",
       "1       feature_2         993\n",
       "266         month         375\n",
       "8      feature_10         356\n",
       "292        Others         150\n",
       "0       feature_1          94\n",
       "..            ...         ...\n",
       "276  Job_Title_14           0\n",
       "275  Job_Title_13           0\n",
       "274  Job_Title_12           0\n",
       "273  Job_Title_11           0\n",
       "278  Job_Title_17           0\n",
       "\n",
       "[293 rows x 2 columns]"
      ],
      "text/html": [
       "<div>\n",
       "<style scoped>\n",
       "    .dataframe tbody tr th:only-of-type {\n",
       "        vertical-align: middle;\n",
       "    }\n",
       "\n",
       "    .dataframe tbody tr th {\n",
       "        vertical-align: top;\n",
       "    }\n",
       "\n",
       "    .dataframe thead th {\n",
       "        text-align: right;\n",
       "    }\n",
       "</style>\n",
       "<table border=\"1\" class=\"dataframe\">\n",
       "  <thead>\n",
       "    <tr style=\"text-align: right;\">\n",
       "      <th></th>\n",
       "      <th>names</th>\n",
       "      <th>importance</th>\n",
       "    </tr>\n",
       "  </thead>\n",
       "  <tbody>\n",
       "    <tr>\n",
       "      <th>1</th>\n",
       "      <td>feature_2</td>\n",
       "      <td>993</td>\n",
       "    </tr>\n",
       "    <tr>\n",
       "      <th>266</th>\n",
       "      <td>month</td>\n",
       "      <td>375</td>\n",
       "    </tr>\n",
       "    <tr>\n",
       "      <th>8</th>\n",
       "      <td>feature_10</td>\n",
       "      <td>356</td>\n",
       "    </tr>\n",
       "    <tr>\n",
       "      <th>292</th>\n",
       "      <td>Others</td>\n",
       "      <td>150</td>\n",
       "    </tr>\n",
       "    <tr>\n",
       "      <th>0</th>\n",
       "      <td>feature_1</td>\n",
       "      <td>94</td>\n",
       "    </tr>\n",
       "    <tr>\n",
       "      <th>...</th>\n",
       "      <td>...</td>\n",
       "      <td>...</td>\n",
       "    </tr>\n",
       "    <tr>\n",
       "      <th>276</th>\n",
       "      <td>Job_Title_14</td>\n",
       "      <td>0</td>\n",
       "    </tr>\n",
       "    <tr>\n",
       "      <th>275</th>\n",
       "      <td>Job_Title_13</td>\n",
       "      <td>0</td>\n",
       "    </tr>\n",
       "    <tr>\n",
       "      <th>274</th>\n",
       "      <td>Job_Title_12</td>\n",
       "      <td>0</td>\n",
       "    </tr>\n",
       "    <tr>\n",
       "      <th>273</th>\n",
       "      <td>Job_Title_11</td>\n",
       "      <td>0</td>\n",
       "    </tr>\n",
       "    <tr>\n",
       "      <th>278</th>\n",
       "      <td>Job_Title_17</td>\n",
       "      <td>0</td>\n",
       "    </tr>\n",
       "  </tbody>\n",
       "</table>\n",
       "<p>293 rows × 2 columns</p>\n",
       "</div>"
      ]
     },
     "execution_count": 26,
     "metadata": {},
     "output_type": "execute_result"
    }
   ],
   "execution_count": 26
  },
  {
   "metadata": {},
   "cell_type": "markdown",
   "source": "#### Las losowy",
   "id": "463978ebfa291cf3"
  },
  {
   "metadata": {
    "ExecuteTime": {
     "end_time": "2025-04-16T19:35:19.258356Z",
     "start_time": "2025-04-16T19:35:18.135094Z"
    }
   },
   "cell_type": "code",
   "source": [
    "random_forest = RandomForestClassifier().fit(X, y)\n",
    "\n",
    "print(classification_report(y_test, random_forest.predict(X_test), target_names=salary_category_encoder.inverse_transform(np.unique(y_train))))"
   ],
   "id": "ad229cd887af15dd",
   "outputs": [
    {
     "name": "stdout",
     "output_type": "stream",
     "text": [
      "              precision    recall  f1-score   support\n",
      "\n",
      "        High       1.00      1.00      1.00        94\n",
      "         Low       1.00      1.00      1.00        85\n",
      "      Medium       1.00      1.00      1.00        77\n",
      "\n",
      "    accuracy                           1.00       256\n",
      "   macro avg       1.00      1.00      1.00       256\n",
      "weighted avg       1.00      1.00      1.00       256\n",
      "\n"
     ]
    }
   ],
   "execution_count": 27
  },
  {
   "metadata": {},
   "cell_type": "markdown",
   "source": "#### Istotność cech dla lasu losowego",
   "id": "7f6ba5b781270fb3"
  },
  {
   "metadata": {
    "ExecuteTime": {
     "end_time": "2025-04-16T19:35:19.368499Z",
     "start_time": "2025-04-16T19:35:19.357482Z"
    }
   },
   "cell_type": "code",
   "source": [
    "random_forest_importance = pd.DataFrame(data={'feature': random_forest.feature_names_in_, 'importance': random_forest.feature_importances_}).sort_values(by='importance', ascending=False)\n",
    "\n",
    "random_forest_importance"
   ],
   "id": "2ba4b6fe5758324e",
   "outputs": [
    {
     "data": {
      "text/plain": [
       "          feature  importance\n",
       "1       feature_2    0.076221\n",
       "266         month    0.019045\n",
       "8      feature_10    0.016223\n",
       "6       feature_8    0.012298\n",
       "243  job_desc_275    0.010017\n",
       "..            ...         ...\n",
       "281  Job_Title_21    0.000000\n",
       "279  Job_Title_19    0.000000\n",
       "278  Job_Title_17    0.000000\n",
       "291   Job_Title_9    0.000000\n",
       "277  Job_Title_15    0.000000\n",
       "\n",
       "[293 rows x 2 columns]"
      ],
      "text/html": [
       "<div>\n",
       "<style scoped>\n",
       "    .dataframe tbody tr th:only-of-type {\n",
       "        vertical-align: middle;\n",
       "    }\n",
       "\n",
       "    .dataframe tbody tr th {\n",
       "        vertical-align: top;\n",
       "    }\n",
       "\n",
       "    .dataframe thead th {\n",
       "        text-align: right;\n",
       "    }\n",
       "</style>\n",
       "<table border=\"1\" class=\"dataframe\">\n",
       "  <thead>\n",
       "    <tr style=\"text-align: right;\">\n",
       "      <th></th>\n",
       "      <th>feature</th>\n",
       "      <th>importance</th>\n",
       "    </tr>\n",
       "  </thead>\n",
       "  <tbody>\n",
       "    <tr>\n",
       "      <th>1</th>\n",
       "      <td>feature_2</td>\n",
       "      <td>0.076221</td>\n",
       "    </tr>\n",
       "    <tr>\n",
       "      <th>266</th>\n",
       "      <td>month</td>\n",
       "      <td>0.019045</td>\n",
       "    </tr>\n",
       "    <tr>\n",
       "      <th>8</th>\n",
       "      <td>feature_10</td>\n",
       "      <td>0.016223</td>\n",
       "    </tr>\n",
       "    <tr>\n",
       "      <th>6</th>\n",
       "      <td>feature_8</td>\n",
       "      <td>0.012298</td>\n",
       "    </tr>\n",
       "    <tr>\n",
       "      <th>243</th>\n",
       "      <td>job_desc_275</td>\n",
       "      <td>0.010017</td>\n",
       "    </tr>\n",
       "    <tr>\n",
       "      <th>...</th>\n",
       "      <td>...</td>\n",
       "      <td>...</td>\n",
       "    </tr>\n",
       "    <tr>\n",
       "      <th>281</th>\n",
       "      <td>Job_Title_21</td>\n",
       "      <td>0.000000</td>\n",
       "    </tr>\n",
       "    <tr>\n",
       "      <th>279</th>\n",
       "      <td>Job_Title_19</td>\n",
       "      <td>0.000000</td>\n",
       "    </tr>\n",
       "    <tr>\n",
       "      <th>278</th>\n",
       "      <td>Job_Title_17</td>\n",
       "      <td>0.000000</td>\n",
       "    </tr>\n",
       "    <tr>\n",
       "      <th>291</th>\n",
       "      <td>Job_Title_9</td>\n",
       "      <td>0.000000</td>\n",
       "    </tr>\n",
       "    <tr>\n",
       "      <th>277</th>\n",
       "      <td>Job_Title_15</td>\n",
       "      <td>0.000000</td>\n",
       "    </tr>\n",
       "  </tbody>\n",
       "</table>\n",
       "<p>293 rows × 2 columns</p>\n",
       "</div>"
      ]
     },
     "execution_count": 28,
     "metadata": {},
     "output_type": "execute_result"
    }
   ],
   "execution_count": 28
  },
  {
   "metadata": {},
   "cell_type": "markdown",
   "source": "#### Przygotowanie submission",
   "id": "a31842216d3e86a9"
  },
  {
   "metadata": {
    "ExecuteTime": {
     "end_time": "2025-04-16T19:35:19.520774Z",
     "start_time": "2025-04-16T19:35:19.501883Z"
    }
   },
   "cell_type": "code",
   "source": [
    "rf_pred_proba = random_forest.predict_proba(X_test)\n",
    "lgb_pred_proba = lgb_model.predict_proba(X_test)\n",
    "\n",
    "avg = (rf_pred_proba + lgb_pred_proba) / 2\n",
    "\n",
    "print(classification_report(y_test, np.argmax(avg, axis=1), target_names=salary_category_encoder.inverse_transform(np.unique(y_train))))"
   ],
   "id": "d6226eb7df9ad8d0",
   "outputs": [
    {
     "name": "stdout",
     "output_type": "stream",
     "text": [
      "              precision    recall  f1-score   support\n",
      "\n",
      "        High       1.00      1.00      1.00        94\n",
      "         Low       1.00      1.00      1.00        85\n",
      "      Medium       1.00      1.00      1.00        77\n",
      "\n",
      "    accuracy                           1.00       256\n",
      "   macro avg       1.00      1.00      1.00       256\n",
      "weighted avg       1.00      1.00      1.00       256\n",
      "\n"
     ]
    }
   ],
   "execution_count": 29
  },
  {
   "metadata": {
    "ExecuteTime": {
     "end_time": "2025-04-16T19:35:19.681578Z",
     "start_time": "2025-04-16T19:35:19.632918Z"
    }
   },
   "cell_type": "code",
   "source": [
    "final_rf_pred = random_forest.predict(test)\n",
    "final_lgb_pred = lgb_model.predict(test)\n",
    "final_rf_pred_proba = random_forest.predict_proba(test)\n",
    "final_lgb_pred_proba = lgb_model.predict_proba(test)\n",
    "\n",
    "final_avg = (final_rf_pred_proba + final_lgb_pred_proba) / 2\n",
    "\n",
    "final_avg"
   ],
   "id": "59ad1b4f4d839a2e",
   "outputs": [
    {
     "data": {
      "text/plain": [
       "array([[0.97431765, 0.0101199 , 0.01556245],\n",
       "       [0.63241473, 0.15138915, 0.21619613],\n",
       "       [0.70419052, 0.17263661, 0.12317287],\n",
       "       ...,\n",
       "       [0.37424322, 0.35229995, 0.27345683],\n",
       "       [0.08687777, 0.74521724, 0.16790499],\n",
       "       [0.33061362, 0.17150188, 0.49788449]])"
      ]
     },
     "execution_count": 30,
     "metadata": {},
     "output_type": "execute_result"
    }
   ],
   "execution_count": 30
  },
  {
   "metadata": {
    "ExecuteTime": {
     "end_time": "2025-04-16T19:35:19.869675Z",
     "start_time": "2025-04-16T19:35:19.859038Z"
    }
   },
   "cell_type": "code",
   "source": [
    "def prepare_submission(predictions, name):\n",
    "    submission = pd.DataFrame(data={'obs': test_obs, 'salary_category': salary_category_encoder.inverse_transform(predictions)})\n",
    "    submission.to_csv(os.path.join('submissions', f'{name}.csv'), index=False)\n",
    "\n",
    "prepare_submission(final_rf_pred, 'random_forest')\n",
    "prepare_submission(final_lgb_pred, 'lgb')\n",
    "prepare_submission(np.argmax(final_avg, axis=1), 'average_lgb_random_forest')"
   ],
   "id": "7d111d3601182fb0",
   "outputs": [],
   "execution_count": 31
  },
  {
   "metadata": {},
   "cell_type": "markdown",
   "source": "### Informacje o modelach",
   "id": "f3216e4a08c55b5e"
  },
  {
   "metadata": {
    "ExecuteTime": {
     "end_time": "2025-04-16T19:41:39.638805Z",
     "start_time": "2025-04-16T19:41:39.634284Z"
    }
   },
   "cell_type": "code",
   "source": [
    "with open(os.path.join('models', 'model_info.txt'), 'w') as f:\n",
    "    f.write(f\"Test size:\\n{0.2}\\n\\n\")\n",
    "\n",
    "    f.write(\"Random Forest Parameters:\\n\")\n",
    "    for key, value in random_forest.get_params().items():\n",
    "        f.write(f\"{key}: {value}\\n\")\n",
    "\n",
    "    f.write(\"\\nLightGBM Parameters:\\n\")\n",
    "    for key, value in lgb_model.get_params().items():\n",
    "        f.write(f\"{key}: {value}\\n\")\n"
   ],
   "id": "8974805dfd79ca6e",
   "outputs": [],
   "execution_count": 39
  }
 ],
 "metadata": {
  "kernelspec": {
   "display_name": "Python 3",
   "language": "python",
   "name": "python3"
  },
  "language_info": {
   "codemirror_mode": {
    "name": "ipython",
    "version": 2
   },
   "file_extension": ".py",
   "mimetype": "text/x-python",
   "name": "python",
   "nbconvert_exporter": "python",
   "pygments_lexer": "ipython2",
   "version": "2.7.6"
  }
 },
 "nbformat": 4,
 "nbformat_minor": 5
}
