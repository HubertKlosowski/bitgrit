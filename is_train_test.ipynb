{
 "cells": [
  {
   "cell_type": "code",
   "id": "initial_id",
   "metadata": {
    "collapsed": true
   },
   "source": [
    "import os\n",
    "\n",
    "import lightgbm as lgb\n",
    "import matplotlib.pyplot as plt\n",
    "import numpy as np\n",
    "import optuna\n",
    "import pandas as pd\n",
    "import seaborn as sns\n",
    "from scipy.stats import mannwhitneyu\n",
    "from sklearn.metrics import classification_report\n",
    "from sklearn.metrics import confusion_matrix\n",
    "from sklearn.model_selection import LearningCurveDisplay\n",
    "from sklearn.model_selection import cross_val_score, StratifiedKFold\n",
    "from sklearn.model_selection import train_test_split"
   ],
   "outputs": [],
   "execution_count": null
  },
  {
   "metadata": {},
   "cell_type": "code",
   "source": [
    "train = pd.read_csv(os.path.join('prepared', 'train.csv'))\n",
    "test = pd.read_csv(os.path.join('prepared', 'test.csv'))\n",
    "\n",
    "test_to_drop = ['obs']\n",
    "train_to_drop = ['salary_category']\n",
    "\n",
    "test.drop(columns=test_to_drop, inplace=True)\n",
    "train.drop(columns=train_to_drop, inplace=True)"
   ],
   "id": "6ee68f63b7ca3279",
   "outputs": [],
   "execution_count": null
  },
  {
   "metadata": {},
   "cell_type": "markdown",
   "source": [
    "#### Wstępne połączenie zbiorów\n",
    "\n",
    "bo niżej jest ucinanie zakresu dla zbioru train"
   ],
   "id": "1d50d093ffd8c6f7"
  },
  {
   "metadata": {},
   "cell_type": "code",
   "source": [
    "train['is_train'] = 1\n",
    "test['is_train'] = 0\n",
    "whole = pd.concat([train, test], axis=0, ignore_index=True).reset_index(drop=True)\n",
    "\n",
    "whole['is_train'].value_counts()"
   ],
   "id": "d2889192aab5b27f",
   "outputs": [],
   "execution_count": null
  },
  {
   "metadata": {},
   "cell_type": "markdown",
   "source": "#### Porównanie rozkładu cechy feature_2 w zbiorach Train i Test",
   "id": "34ba4f8d6a3ffec2"
  },
  {
   "metadata": {},
   "cell_type": "code",
   "source": [
    "plt.figure(figsize=(10, 6))\n",
    "sns.set_style('whitegrid')\n",
    "\n",
    "sns.histplot(\n",
    "    data=whole,\n",
    "    x='feature_2',\n",
    "    hue='is_train',\n",
    "    kde=True,\n",
    "    color='steelblue',\n",
    "    bins=20,\n",
    "    alpha=0.6\n",
    ")\n",
    "\n",
    "train.drop(columns=['feature_2'], inplace=True)\n",
    "test.drop(columns=['feature_2'], inplace=True)\n",
    "\n",
    "plt.title('Porównanie rozkładu cechy feature_2 w zbiorach Train i Test', fontsize=14)\n",
    "plt.xlabel('feature_2', fontsize=12)\n",
    "plt.ylabel('Liczba przypadków', fontsize=12)\n",
    "plt.tight_layout()\n",
    "plt.show()"
   ],
   "id": "122a91ff6641ff7d",
   "outputs": [],
   "execution_count": null
  },
  {
   "metadata": {},
   "cell_type": "markdown",
   "source": [
    "### Wykorzystanie testu U Manna Whitneya i Kolmogorova-Smirnova\n",
    "\n",
    "Co wiem:\n",
    "- Train i test są niezależnymi grupami.\n",
    "-\n",
    "do wskazania które cechy między Train, a Test różnią się najbardziej"
   ],
   "id": "d38215bc6ebfc54"
  },
  {
   "metadata": {},
   "cell_type": "code",
   "source": [
    "# statistical_tests = pd.DataFrame(\n",
    "#     data={\n",
    "#         'columns': train.columns[:-1],\n",
    "#         'umann_pvalue': [mannwhitneyu(train[column], test[column], nan_policy='omit', use_continuity=False, method='asymptotic', alternative='two-sided').pvalue for column in train.columns if column != 'is_train']\n",
    "#     }\n",
    "# )\n",
    "#\n",
    "# check_for_diff = statistical_tests.loc[statistical_tests['umann_pvalue'] <= 0.05, :].sort_values(by='umann_pvalue')\n",
    "#\n",
    "# check_for_diff"
   ],
   "id": "7b3ffe080ae06fdf",
   "outputs": [],
   "execution_count": null
  },
  {
   "metadata": {},
   "cell_type": "markdown",
   "source": "#### Porównanie wybranych kolumn",
   "id": "c2c63bffbc3b8869"
  },
  {
   "metadata": {},
   "cell_type": "code",
   "source": "# train[check_for_diff['columns']].describe()",
   "id": "ab7328fed3d559a1",
   "outputs": [],
   "execution_count": null
  },
  {
   "metadata": {},
   "cell_type": "code",
   "source": "# test[check_for_diff['columns']].describe()",
   "id": "272607b799f07f27",
   "outputs": [],
   "execution_count": null
  },
  {
   "metadata": {},
   "cell_type": "markdown",
   "source": "#### Czy są jakieś widoczne różnice między test, a train?",
   "id": "3f8c6415f99ad148"
  },
  {
   "metadata": {},
   "cell_type": "code",
   "source": [
    "# fig, ax = plt.subplots(nrows=6, ncols=2, figsize=(10, 20))\n",
    "#\n",
    "# plt.suptitle('Porównanie rozkładu wybranych cech przez testy U Manna Whitneya')\n",
    "#\n",
    "# for i, column in enumerate(check_for_diff['columns']):\n",
    "#     x, y = divmod(i, 2)\n",
    "#     sns.set_style('whitegrid')\n",
    "#     sns.histplot(\n",
    "#         data=whole,\n",
    "#         x=column,\n",
    "#         hue='is_train',\n",
    "#         kde=True,\n",
    "#         color='steelblue',\n",
    "#         bins=20,\n",
    "#         alpha=0.6,\n",
    "#         ax=ax[x, y],\n",
    "#     )\n",
    "#     ax[x, y].set_ylabel('Liczba przypadków' if y % 2 == 0 else '', fontsize=12)\n",
    "#\n",
    "# plt.tight_layout()\n",
    "# plt.show()"
   ],
   "id": "525a7ff9746b7fce",
   "outputs": [],
   "execution_count": null
  },
  {
   "metadata": {},
   "cell_type": "markdown",
   "source": "#### Zmień przedziały w train, aby się zgadzały z test",
   "id": "2c5f2e13641e7f03"
  },
  {
   "metadata": {},
   "cell_type": "code",
   "source": [
    "# def cut_ranges(column):\n",
    "#     test_min, test_max = test[column].min(), test[column].max()\n",
    "#     return train[(train[column] >= test_min) & (train[column] <= test_max)].reset_index(drop=True)\n",
    "#\n",
    "# for column in check_for_diff['columns']:\n",
    "#     train = cut_ranges(column)\n",
    "#\n",
    "# train.info()"
   ],
   "id": "f11384a40518614d",
   "outputs": [],
   "execution_count": null
  },
  {
   "metadata": {},
   "cell_type": "markdown",
   "source": "#### Połączenie zbiorów",
   "id": "7c842a8933aaae6f"
  },
  {
   "metadata": {},
   "cell_type": "code",
   "source": [
    "# train.drop(index=train.sample(n=np.abs(len(train) - len(test))).index, inplace=True)\n",
    "whole = pd.concat([train, test], axis=0, ignore_index=True).reset_index(drop=True)"
   ],
   "id": "4c3022276ddf8696",
   "outputs": [],
   "execution_count": null
  },
  {
   "metadata": {},
   "cell_type": "markdown",
   "source": "#### Proces nauki, walidacji",
   "id": "3559ecb02cb2911a"
  },
  {
   "metadata": {},
   "cell_type": "code",
   "source": [
    "X, y = whole.drop(columns=['is_train'], axis=1), whole['is_train']\n",
    "X_train, X_test, y_train, y_test = train_test_split(X, y, test_size=0.2, stratify=y, random_state=42)\n",
    "X_train = pd.DataFrame(X_train, columns=X.columns)\n",
    "X_test = pd.DataFrame(X_test, columns=X.columns)"
   ],
   "id": "e417d08fcd6a80ea",
   "outputs": [],
   "execution_count": null
  },
  {
   "metadata": {},
   "cell_type": "code",
   "source": [
    "# def define_model(trial):\n",
    "#     params = {\n",
    "#         'objective': 'binary',\n",
    "#         'boosting': 'gbdt',\n",
    "#         'device': 'cpu',\n",
    "#         'n_jobs': -1,\n",
    "#         'random_state': 42,\n",
    "#         'verbosity': -1,\n",
    "#         'max_bin': trial.suggest_int('max_bin', 70, 250),\n",
    "#         'learning_rate': trial.suggest_float('learning_rate', 1e-3, 0.1, log=True),\n",
    "#         'n_estimators': trial.suggest_int('n_estimators', 10, 150),\n",
    "#         'num_leaves': trial.suggest_int('num_leaves', 2, 128),\n",
    "#         'max_depth': trial.suggest_int('max_depth', 2, 20),\n",
    "#         'reg_alpha': trial.suggest_float('reg_alpha', 1e-2, 1, log=True),\n",
    "#         'reg_lambda': trial.suggest_float('reg_lambda', 1e-2, 1, log=True),\n",
    "#         'min_child_samples': trial.suggest_int('min_child_samples', 5, 50),\n",
    "#         'subsample': trial.suggest_float('subsample', 0.5, 1.0),\n",
    "#         'colsample_bytree': trial.suggest_float('colsample_bytree', 0.5, 1.0),\n",
    "#     }\n",
    "#     return lgb.LGBMClassifier(**params)\n",
    "#\n",
    "# def objective(trial):\n",
    "#     model = define_model(trial)\n",
    "#     skf = StratifiedKFold(n_splits=10, shuffle=True, random_state=42)\n",
    "#     scores = cross_val_score(model, X_train, y_train, cv=skf, n_jobs=-1, scoring='f1_weighted')\n",
    "#     return scores.mean()\n",
    "#\n",
    "# study_lightgbm = optuna.create_study(direction='maximize', study_name='EngineerSalaryLightGBM', sampler=optuna.samplers.TPESampler())\n",
    "# study_lightgbm.optimize(objective, n_trials=50)"
   ],
   "id": "cd2088366457fc52",
   "outputs": [],
   "execution_count": null
  },
  {
   "metadata": {},
   "cell_type": "code",
   "source": [
    "lightgbm = lgb.LGBMClassifier(**{\n",
    "    'objective': 'binary',\n",
    "    'boosting': 'gbdt',\n",
    "    'learning_rate': 0.9,\n",
    "    'n_estimators': 120,\n",
    "    'num_leaves': 160,\n",
    "    'max_depth': 30,\n",
    "    'subsample': 0.7,\n",
    "    'colsample_bytree': 0.2,\n",
    "    'n_jobs': -1,\n",
    "    'random_state': 42,\n",
    "    'verbose': -1,\n",
    "    'class_weight': 'balanced'\n",
    "}).fit(X_train, y_train)\n",
    "\n",
    "print(classification_report(y_test, lightgbm.predict(X_test)))"
   ],
   "id": "825bb0c683fb75fd",
   "outputs": [],
   "execution_count": null
  },
  {
   "metadata": {},
   "cell_type": "code",
   "source": [
    "lightgbm_importance = pd.DataFrame(\n",
    "    data={\n",
    "        'feature': lightgbm.feature_name_,\n",
    "        'importance': lightgbm.feature_importances_\n",
    "    }).sort_values(by='importance', ascending=False).head(20)\n",
    "\n",
    "plt.figure(figsize=(12, 8))\n",
    "sns.set_style('whitegrid')\n",
    "\n",
    "ax = sns.barplot(\n",
    "    data=lightgbm_importance,\n",
    "    x='importance',\n",
    "    y='feature',\n",
    "    hue='feature',\n",
    "    legend=False,\n",
    "    palette='viridis'\n",
    ")\n",
    "\n",
    "for i in ax.containers:\n",
    "    ax.bar_label(i, fmt='%g', label_type='edge', fontsize=10, padding=3)\n",
    "\n",
    "plt.title('Top 20 najważniejszych cech dla LightGBM', fontsize=16)\n",
    "plt.xlabel('Wartość istotności', fontsize=12)\n",
    "plt.ylabel('Cecha', fontsize=12)\n",
    "\n",
    "plt.xticks(fontsize=10)\n",
    "plt.yticks(fontsize=11)\n",
    "plt.tight_layout()\n",
    "plt.show()"
   ],
   "id": "fec028407b80d119",
   "outputs": [],
   "execution_count": null
  },
  {
   "metadata": {},
   "cell_type": "code",
   "source": "lgb.plot_tree(lightgbm, precision=2, figsize=(20, 12), show_info=['data_percentage'], dpi=200, orientation='vertical')",
   "id": "8dfb567308f21463",
   "outputs": [],
   "execution_count": null
  },
  {
   "metadata": {},
   "cell_type": "markdown",
   "source": "#### Macierz pomyłek",
   "id": "801e0b4695cbaa93"
  },
  {
   "metadata": {},
   "cell_type": "code",
   "source": [
    "conf_matrix = confusion_matrix(y_test, lightgbm.predict(X_test))\n",
    "sns.heatmap(\n",
    "    conf_matrix.T,\n",
    "    annot=True,\n",
    "    fmt='d',\n",
    "    cbar=False,\n",
    "    cmap='rocket',\n",
    "    annot_kws={'size': 16}\n",
    ")\n",
    "plt.xlabel('Rzeczywiste etykiety', fontdict={'fontsize': 14})\n",
    "plt.ylabel('Przewidziane etykiety', fontdict={'fontsize': 14})"
   ],
   "id": "4c941de3168909be",
   "outputs": [],
   "execution_count": null
  },
  {
   "metadata": {},
   "cell_type": "markdown",
   "source": "#### Krzywa uczenia",
   "id": "3ce6ae293babec32"
  },
  {
   "metadata": {},
   "cell_type": "code",
   "source": [
    "LearningCurveDisplay.from_estimator(\n",
    "    lightgbm,\n",
    "    X,\n",
    "    y,\n",
    "    cv=StratifiedKFold(n_splits=5),\n",
    "    n_jobs=-1,\n",
    "    random_state=42,\n",
    "    scoring='f1_weighted',\n",
    "    train_sizes=np.linspace(0.1, 1.0, 10),\n",
    "    line_kw= {'marker': 'o'}\n",
    ")"
   ],
   "id": "c64d579943c87b88",
   "outputs": [],
   "execution_count": null
  }
 ],
 "metadata": {
  "kernelspec": {
   "display_name": "Python 3",
   "language": "python",
   "name": "python3"
  },
  "language_info": {
   "codemirror_mode": {
    "name": "ipython",
    "version": 2
   },
   "file_extension": ".py",
   "mimetype": "text/x-python",
   "name": "python",
   "nbconvert_exporter": "python",
   "pygments_lexer": "ipython2",
   "version": "2.7.6"
  }
 },
 "nbformat": 4,
 "nbformat_minor": 5
}
