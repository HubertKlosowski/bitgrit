{
 "cells": [
  {
   "cell_type": "code",
   "id": "initial_id",
   "metadata": {
    "collapsed": true
   },
   "source": [
    "import pandas as pd\n",
    "import os\n",
    "import matplotlib.pyplot as plt\n",
    "import seaborn as sns"
   ],
   "outputs": [],
   "execution_count": null
  },
  {
   "metadata": {},
   "cell_type": "code",
   "source": [
    "train = pd.read_csv(os.path.join('prepared', 'train.csv'))\n",
    "test = pd.read_csv(os.path.join('prepared', 'test.csv'))\n",
    "\n",
    "test_to_drop = ['obs']\n",
    "train_to_drop = ['salary_category']\n",
    "# test_to_drop.extend(to_drop)\n",
    "# train_to_drop.extend(to_drop)\n",
    "\n",
    "test.drop(columns=test_to_drop, inplace=True)\n",
    "train.drop(columns=train_to_drop, inplace=True)"
   ],
   "id": "6ee68f63b7ca3279",
   "outputs": [],
   "execution_count": null
  },
  {
   "metadata": {},
   "cell_type": "code",
   "source": [
    "train['is_train'] = 1\n",
    "test['is_train'] = 0\n",
    "whole = pd.concat([train, test], axis=0, ignore_index=True).reset_index(drop=True)\n",
    "\n",
    "whole.info()"
   ],
   "id": "d2889192aab5b27f",
   "outputs": [],
   "execution_count": null
  },
  {
   "metadata": {},
   "cell_type": "code",
   "source": "whole['is_train'].value_counts()",
   "id": "1366da4d34e850d",
   "outputs": [],
   "execution_count": null
  },
  {
   "metadata": {},
   "cell_type": "code",
   "source": [
    "plt.figure(figsize=(10, 6))\n",
    "sns.set_style('whitegrid')\n",
    "\n",
    "sns.histplot(\n",
    "    data=whole,\n",
    "    x='feature_2',\n",
    "    hue='is_train',\n",
    "    kde=True,\n",
    "    color='steelblue',\n",
    "    bins=20,\n",
    "    alpha=0.6\n",
    ")\n",
    "\n",
    "plt.title('Porównanie rozkładu cechy feature_2 w zbiorach Train i Test', fontsize=14)\n",
    "plt.xlabel('feature_2', fontsize=12)\n",
    "plt.ylabel('Liczba przypadków', fontsize=12)\n",
    "plt.tight_layout()\n",
    "plt.show()"
   ],
   "id": "122a91ff6641ff7d",
   "outputs": [],
   "execution_count": null
  },
  {
   "metadata": {},
   "cell_type": "code",
   "source": [
    "from sklearn.model_selection import train_test_split\n",
    "\n",
    "\n",
    "X, y = whole.drop(columns=['is_train'], axis=1), whole['is_train']\n",
    "X_train, X_test, y_train, y_test = train_test_split(X, y, test_size=0.2, stratify=y, random_state=42)\n",
    "X_train = pd.DataFrame(X_train, columns=X.columns)\n",
    "X_test = pd.DataFrame(X_test, columns=X.columns)"
   ],
   "id": "e417d08fcd6a80ea",
   "outputs": [],
   "execution_count": null
  },
  {
   "metadata": {},
   "cell_type": "code",
   "source": [
    "import lightgbm as lgb\n",
    "import optuna\n",
    "from sklearn.model_selection import cross_val_score, StratifiedKFold\n",
    "\n",
    "\n",
    "def define_model(trial):\n",
    "    params = {\n",
    "        'objective': 'binary',\n",
    "        'max_bin': trial.suggest_int('max_bin', 70, 250),\n",
    "        'boosting': trial.suggest_categorical('boosting', ['gbdt', 'dart', 'goss']),\n",
    "        'learning_rate': trial.suggest_float('learning_rate', 1e-3, 0.1, log=True),\n",
    "        'n_estimators': trial.suggest_int('n_estimators', 10, 150),\n",
    "        'num_leaves': trial.suggest_int('num_leaves', 2, 256),\n",
    "        'max_depth': trial.suggest_int('max_depth', 2, 32),\n",
    "        'subsample': trial.suggest_float('subsample', 0.5, 1.0),\n",
    "        'colsample_bytree': trial.suggest_float('colsample_bytree', 0.5, 1.0),\n",
    "        'device': 'cpu',\n",
    "        'n_jobs': -1,\n",
    "        'random_state': 42,\n",
    "        'verbosity': -1,\n",
    "    }\n",
    "    return lgb.LGBMClassifier(**params)\n",
    "\n",
    "def objective(trial):\n",
    "    model = define_model(trial)\n",
    "    skf = StratifiedKFold(n_splits=5, shuffle=True, random_state=42)\n",
    "    scores = cross_val_score(model, X, y, cv=skf, n_jobs=-1, scoring='accuracy')\n",
    "    return scores.mean()"
   ],
   "id": "cd2088366457fc52",
   "outputs": [],
   "execution_count": null
  },
  {
   "metadata": {},
   "cell_type": "code",
   "source": [
    "study_lightgbm = optuna.create_study(direction='maximize', study_name='EngineerSalaryLightGBM', sampler=optuna.samplers.TPESampler())\n",
    "study_lightgbm.optimize(objective, n_trials=50)"
   ],
   "id": "34dc6d940ed2cb81",
   "outputs": [],
   "execution_count": null
  },
  {
   "metadata": {},
   "cell_type": "code",
   "source": [
    "lightgbm = define_model(study_lightgbm.best_trial)\n",
    "\n",
    "lightgbm.fit(X_train, y_train)"
   ],
   "id": "825bb0c683fb75fd",
   "outputs": [],
   "execution_count": null
  },
  {
   "metadata": {},
   "cell_type": "code",
   "source": [
    "from sklearn.metrics import classification_report\n",
    "\n",
    "\n",
    "print(classification_report(y_test, lightgbm.predict(X_test)))"
   ],
   "id": "686124fa62bf2bbb",
   "outputs": [],
   "execution_count": null
  },
  {
   "metadata": {},
   "cell_type": "code",
   "source": [
    "lightgbm_importance = pd.DataFrame(\n",
    "    data={\n",
    "        'feature': lightgbm.feature_name_,\n",
    "        'importance': lightgbm.feature_importances_\n",
    "    }).sort_values(by='importance', ascending=False).head(20)\n",
    "\n",
    "plt.figure(figsize=(12, 8))\n",
    "sns.set_style('whitegrid')\n",
    "\n",
    "ax = sns.barplot(\n",
    "    data=lightgbm_importance,\n",
    "    x='importance',\n",
    "    y='feature',\n",
    "    hue='feature',\n",
    "    legend=False,\n",
    "    palette='viridis'\n",
    ")\n",
    "\n",
    "for i in ax.containers:\n",
    "    ax.bar_label(i, fmt='%g', label_type='edge', fontsize=10, padding=3)\n",
    "\n",
    "plt.title('Top 20 najważniejszych cech dla LightGBM', fontsize=16)\n",
    "plt.xlabel('Wartość istotności', fontsize=12)\n",
    "plt.ylabel('Cecha', fontsize=12)\n",
    "\n",
    "plt.xticks(fontsize=10)\n",
    "plt.yticks(fontsize=11)\n",
    "plt.tight_layout()\n",
    "plt.show()"
   ],
   "id": "fec028407b80d119",
   "outputs": [],
   "execution_count": null
  },
  {
   "metadata": {},
   "cell_type": "code",
   "source": "lgb.plot_tree(lightgbm, precision=2, figsize=(20, 12), show_info=['data_percentage'], dpi=200, orientation='vertical')",
   "id": "8dfb567308f21463",
   "outputs": [],
   "execution_count": null
  },
  {
   "metadata": {},
   "cell_type": "code",
   "source": [
    "from sklearn.metrics import confusion_matrix\n",
    "\n",
    "\n",
    "conf_matrix = confusion_matrix(y_test, lightgbm.predict(X_test))\n",
    "sns.heatmap(\n",
    "    conf_matrix.T,\n",
    "    annot=True,\n",
    "    fmt='d',\n",
    "    cbar=False,\n",
    "    cmap='rocket',\n",
    "    annot_kws={'size': 16}\n",
    ")\n",
    "plt.xlabel('Rzeczywiste etykiety', fontdict={'fontsize': 14})\n",
    "plt.ylabel('Przewidziane etykiety', fontdict={'fontsize': 14})"
   ],
   "id": "4c941de3168909be",
   "outputs": [],
   "execution_count": null
  },
  {
   "metadata": {},
   "cell_type": "code",
   "source": [
    "from sklearn.model_selection import LearningCurveDisplay\n",
    "\n",
    "\n",
    "LearningCurveDisplay.from_estimator(lightgbm, X, y, cv=StratifiedKFold(n_splits=5), n_jobs=-1, random_state=4, scoring='accuracy')"
   ],
   "id": "c64d579943c87b88",
   "outputs": [],
   "execution_count": null
  }
 ],
 "metadata": {
  "kernelspec": {
   "display_name": "Python 3",
   "language": "python",
   "name": "python3"
  },
  "language_info": {
   "codemirror_mode": {
    "name": "ipython",
    "version": 2
   },
   "file_extension": ".py",
   "mimetype": "text/x-python",
   "name": "python",
   "nbconvert_exporter": "python",
   "pygments_lexer": "ipython2",
   "version": "2.7.6"
  }
 },
 "nbformat": 4,
 "nbformat_minor": 5
}
