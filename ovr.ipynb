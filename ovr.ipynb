{
 "cells": [
  {
   "cell_type": "code",
   "id": "initial_id",
   "metadata": {
    "collapsed": true
   },
   "source": [
    "import os\n",
    "\n",
    "import lightgbm as lgb\n",
    "import numpy as np\n",
    "import optuna\n",
    "import pandas as pd\n",
    "from sklearn.metrics import classification_report, f1_score\n",
    "from sklearn.model_selection import StratifiedKFold\n",
    "from sklearn.preprocessing import LabelEncoder\n",
    "import warnings\n",
    "\n",
    "warnings.filterwarnings('ignore')"
   ],
   "outputs": [],
   "execution_count": null
  },
  {
   "metadata": {},
   "cell_type": "code",
   "source": [
    "train = pd.read_csv(os.path.join('prepared', 'train.csv'))\n",
    "test = pd.read_csv(os.path.join('prepared', 'test.csv'))\n",
    "\n",
    "test_obs = test['obs']\n",
    "test.drop(columns=['obs'], inplace=True)\n",
    "\n",
    "my_categories = ['job_title', 'feature_1']\n",
    "train[my_categories] = train[my_categories].astype('category')\n",
    "test[my_categories] = test[my_categories].astype('category')"
   ],
   "id": "dc9c09abdbd92a97",
   "outputs": [],
   "execution_count": null
  },
  {
   "metadata": {},
   "cell_type": "markdown",
   "source": "#### Podział na 3 zbiory do klasyfikacji binarnej",
   "id": "28f2f5f79887dd3e"
  },
  {
   "metadata": {},
   "cell_type": "code",
   "source": [
    "X = train.drop(columns=['salary_category'])\n",
    "y = train['salary_category']\n",
    "\n",
    "max_size = len(X)\n",
    "train_size = 0.8\n",
    "X_train = X.iloc[:int(max_size * train_size), :]\n",
    "X_test = X.iloc[int(max_size * train_size):, :]\n",
    "\n",
    "y_high = y.copy()\n",
    "y_high[y_high != 'High'] = 'Other'\n",
    "\n",
    "y_low = y.copy()\n",
    "y_low[y_low != 'Low'] = 'Other'\n",
    "\n",
    "y_medium = y.copy()\n",
    "y_medium[y_medium != 'Medium'] = 'Other'\n",
    "\n",
    "high_encoder = LabelEncoder().fit(y_high)\n",
    "y_high_encoded = high_encoder.transform(y_high)\n",
    "y_high_train = y_high_encoded[:int(max_size * train_size)]\n",
    "y_high_test = y_high_encoded[int(max_size * train_size):]\n",
    "\n",
    "low_encoder = LabelEncoder().fit(y_low)\n",
    "y_low_encoded = low_encoder.transform(y_low)\n",
    "y_low_train = y_low_encoded[:int(max_size * train_size)]\n",
    "y_low_test = y_low_encoded[int(max_size * train_size):]\n",
    "\n",
    "medium_encoder = LabelEncoder().fit(y_medium)\n",
    "y_medium_encoded = medium_encoder.transform(y_medium)\n",
    "y_medium_train = y_medium_encoded[:int(max_size * train_size)]\n",
    "y_medium_test = y_medium_encoded[int(max_size * train_size):]"
   ],
   "id": "91fac9f6aec07850",
   "outputs": [],
   "execution_count": null
  },
  {
   "metadata": {},
   "cell_type": "code",
   "source": [
    "unique_high, counts_high = np.unique(y_high_encoded, return_counts=True)\n",
    "\n",
    "counts_high"
   ],
   "id": "554187dc42be38af",
   "outputs": [],
   "execution_count": null
  },
  {
   "metadata": {},
   "cell_type": "code",
   "source": [
    "unique_low, counts_low = np.unique(y_low_encoded, return_counts=True)\n",
    "\n",
    "counts_low"
   ],
   "id": "dcf7f9da60d09188",
   "outputs": [],
   "execution_count": null
  },
  {
   "metadata": {},
   "cell_type": "code",
   "source": [
    "unique_medium, counts_medium = np.unique(y_medium_encoded, return_counts=True)\n",
    "\n",
    "counts_medium"
   ],
   "id": "d3cc7f025749f9d3",
   "outputs": [],
   "execution_count": null
  },
  {
   "metadata": {},
   "cell_type": "markdown",
   "source": "#### Klasa High vs Rest",
   "id": "b5923d2b2c7ce9a2"
  },
  {
   "metadata": {},
   "cell_type": "code",
   "source": [
    "def custom_f1_score(preds, eval_data):\n",
    "    y_true = eval_data.get_label()\n",
    "    y_pred = (preds > 0.5).astype(int)\n",
    "    return 'f1', f1_score(y_true, y_pred), True\n",
    "\n",
    "def objective_lgb(trial):\n",
    "    dataset = lgb.Dataset(X_train, y_high_train, params={\n",
    "        'max_bin': trial.suggest_int('max_bin', 32, 256),\n",
    "        'feature_pre_filter': False\n",
    "    })\n",
    "\n",
    "    params = {\n",
    "        'objective': 'binary',\n",
    "        'boosting': 'gbdt',\n",
    "        'n_jobs': -1,\n",
    "        'metric': 'None',\n",
    "        'random_state': 81,\n",
    "        'verbose': -1,\n",
    "        'reg_alpha': 1e-3,\n",
    "        'is_unbalance': True,\n",
    "        'learning_rate': trial.suggest_float('learning_rate', 1e-2, 1, log=True),\n",
    "        'n_estimators': trial.suggest_int('n_estimators', 50, 250),\n",
    "        'num_leaves': trial.suggest_int('num_leaves', 8, 64),\n",
    "        'max_depth': trial.suggest_int('max_depth', 8, 15),\n",
    "        'min_data_in_leaf': trial.suggest_int('min_data_in_leaf', 3, 50),\n",
    "        'subsample': trial.suggest_float('subsample', 0.7, 1.0),\n",
    "        'colsample_bytree': trial.suggest_float('colsample_bytree', 0.7, 1.0),\n",
    "    }\n",
    "\n",
    "    cv_results = lgb.cv(\n",
    "        params=params,\n",
    "        train_set=dataset,\n",
    "        folds=StratifiedKFold(n_splits=10, shuffle=True, random_state=42),\n",
    "        feval=custom_f1_score,\n",
    "        metrics='None',\n",
    "        return_cvbooster=False,\n",
    "    )\n",
    "    mean_f1 = np.mean(cv_results['valid f1-mean'])\n",
    "    return mean_f1\n",
    "\n",
    "study_lgb_high = optuna.create_study(direction='maximize', study_name='EngineerSalaryLightGBM_High', sampler=optuna.samplers.TPESampler())\n",
    "study_lgb_high.optimize(objective_lgb, n_trials=100)"
   ],
   "id": "98d2d95fb4851c12",
   "outputs": [],
   "execution_count": null
  },
  {
   "metadata": {},
   "cell_type": "markdown",
   "source": "#### Wizualizacja procesu optymalizacji hiperparametrów",
   "id": "cdbb41c0873a7944"
  },
  {
   "metadata": {},
   "cell_type": "code",
   "source": "optuna.visualization.plot_optimization_history(study_lgb_high)",
   "id": "b23fe866c36123e8",
   "outputs": [],
   "execution_count": null
  },
  {
   "metadata": {},
   "cell_type": "code",
   "source": "optuna.visualization.plot_slice(study_lgb_high)",
   "id": "3f2e4031480f3982",
   "outputs": [],
   "execution_count": null
  },
  {
   "metadata": {},
   "cell_type": "code",
   "source": "optuna.visualization.plot_param_importances(study_lgb_high)",
   "id": "e1a83b061f54f74d",
   "outputs": [],
   "execution_count": null
  },
  {
   "metadata": {},
   "cell_type": "markdown",
   "source": "#### Najlepszy lgb dla klasy High",
   "id": "9b178d958c24fda6"
  },
  {
   "metadata": {},
   "cell_type": "code",
   "source": [
    "best_high_params = study_lgb_high.best_params\n",
    "\n",
    "best_high_params"
   ],
   "id": "a5726136804c53e4",
   "outputs": [],
   "execution_count": null
  },
  {
   "metadata": {},
   "cell_type": "code",
   "source": [
    "standard_params = {\n",
    "    'objective': 'binary',\n",
    "    'boosting': 'gbdt',\n",
    "    'n_jobs': -1,\n",
    "    'metric': 'None',\n",
    "    'random_state': 81,\n",
    "    'verbose': -1,\n",
    "    'reg_alpha': 1e-3,\n",
    "    'is_unbalance': True,\n",
    "}\n",
    "best_high_params = {**standard_params, **best_high_params}\n",
    "\n",
    "lightgbm_high = lgb.LGBMClassifier(**best_high_params).fit(X_train, y_high_train)\n",
    "lightgbm_high_pred = lightgbm_high.predict(X_test)\n",
    "print(classification_report(y_high_test, lightgbm_high_pred, target_names=high_encoder.inverse_transform(np.unique(y_high_test))))"
   ],
   "id": "667fdad97bbba2f8",
   "outputs": [],
   "execution_count": null
  },
  {
   "metadata": {},
   "cell_type": "markdown",
   "source": "#### Klasa Low vs Rest",
   "id": "844a1e494e08500c"
  },
  {
   "metadata": {},
   "cell_type": "code",
   "source": [
    "def objective_lgb(trial):\n",
    "    dataset = lgb.Dataset(X_train, y_low_train, params={\n",
    "        'max_bin': trial.suggest_int('max_bin', 32, 256),\n",
    "        'feature_pre_filter': False\n",
    "    })\n",
    "\n",
    "    params = {\n",
    "        'objective': 'binary',\n",
    "        'boosting': 'gbdt',\n",
    "        'n_jobs': -1,\n",
    "        'metric': 'None',\n",
    "        'random_state': 81,\n",
    "        'verbose': -1,\n",
    "        'reg_alpha': 1e-3,\n",
    "        'is_unbalance': True,\n",
    "        'learning_rate': trial.suggest_float('learning_rate', 1e-2, 1, log=True),\n",
    "        'n_estimators': trial.suggest_int('n_estimators', 50, 250),\n",
    "        'num_leaves': trial.suggest_int('num_leaves', 8, 64),\n",
    "        'max_depth': trial.suggest_int('max_depth', 8, 15),\n",
    "        'min_data_in_leaf': trial.suggest_int('min_data_in_leaf', 3, 50),\n",
    "        'subsample': trial.suggest_float('subsample', 0.7, 1.0),\n",
    "        'colsample_bytree': trial.suggest_float('colsample_bytree', 0.7, 1.0),\n",
    "    }\n",
    "\n",
    "    cv_results = lgb.cv(\n",
    "        params=params,\n",
    "        train_set=dataset,\n",
    "        folds=StratifiedKFold(n_splits=10, shuffle=True, random_state=42),\n",
    "        feval=custom_f1_score,\n",
    "        metrics='None',\n",
    "        return_cvbooster=False,\n",
    "    )\n",
    "    mean_f1 = np.mean(cv_results['valid f1-mean'])\n",
    "    return mean_f1\n",
    "\n",
    "study_lgb_low = optuna.create_study(direction='maximize', study_name='EngineerSalaryLightGBM_Low', sampler=optuna.samplers.TPESampler())\n",
    "study_lgb_low.optimize(objective_lgb, n_trials=100)"
   ],
   "id": "27006f93bede9eb7",
   "outputs": [],
   "execution_count": null
  },
  {
   "metadata": {},
   "cell_type": "markdown",
   "source": "#### Wizualizacja procesu optymalizacji hiperparametrów",
   "id": "ea2f50ed7bfe52b8"
  },
  {
   "metadata": {},
   "cell_type": "code",
   "source": "optuna.visualization.plot_optimization_history(study_lgb_low)",
   "id": "1fa9628546bfb64",
   "outputs": [],
   "execution_count": null
  },
  {
   "metadata": {},
   "cell_type": "code",
   "source": "optuna.visualization.plot_slice(study_lgb_low)",
   "id": "e3ae41d897c623d1",
   "outputs": [],
   "execution_count": null
  },
  {
   "metadata": {},
   "cell_type": "code",
   "source": "optuna.visualization.plot_param_importances(study_lgb_low)",
   "id": "5dc19c56c0c5f026",
   "outputs": [],
   "execution_count": null
  },
  {
   "metadata": {},
   "cell_type": "markdown",
   "source": "#### Najlepszy lgb dla klasy Low",
   "id": "c11c77c2ab239e02"
  },
  {
   "metadata": {},
   "cell_type": "code",
   "source": [
    "best_low_params = study_lgb_low.best_params\n",
    "\n",
    "best_low_params"
   ],
   "id": "79f62f7749381898",
   "outputs": [],
   "execution_count": null
  },
  {
   "metadata": {},
   "cell_type": "code",
   "source": [
    "standard_params = {\n",
    "    'objective': 'binary',\n",
    "    'boosting': 'gbdt',\n",
    "    'n_jobs': -1,\n",
    "    'metric': 'None',\n",
    "    'random_state': 81,\n",
    "    'verbose': -1,\n",
    "    'reg_alpha': 1e-3,\n",
    "    'is_unbalance': True,\n",
    "}\n",
    "best_low_params = {**standard_params, **best_low_params}\n",
    "\n",
    "lightgbm_low = lgb.LGBMClassifier(**best_low_params).fit(X_train, y_low_train)\n",
    "lightgbm_low_pred = lightgbm_low.predict(X_test)\n",
    "print(classification_report(y_low_test, lightgbm_low_pred, target_names=low_encoder.inverse_transform(np.unique(y_low_test))))"
   ],
   "id": "570d6f9cd7f10d3f",
   "outputs": [],
   "execution_count": null
  },
  {
   "metadata": {},
   "cell_type": "markdown",
   "source": "#### Klasa Medium vs Rest",
   "id": "c7abcffce2408505"
  },
  {
   "metadata": {},
   "cell_type": "code",
   "source": [
    "def objective_lgb(trial):\n",
    "    dataset = lgb.Dataset(X_train, y_medium_train, params={\n",
    "        'max_bin': trial.suggest_int('max_bin', 32, 256),\n",
    "        'feature_pre_filter': False\n",
    "    })\n",
    "\n",
    "    params = {\n",
    "        'objective': 'binary',\n",
    "        'boosting': 'gbdt',\n",
    "        'n_jobs': -1,\n",
    "        'metric': 'None',\n",
    "        'random_state': 81,\n",
    "        'verbose': -1,\n",
    "        'reg_alpha': 1e-3,\n",
    "        'is_unbalance': True,\n",
    "        'learning_rate': trial.suggest_float('learning_rate', 1e-2, 1, log=True),\n",
    "        'n_estimators': trial.suggest_int('n_estimators', 50, 250),\n",
    "        'num_leaves': trial.suggest_int('num_leaves', 8, 64),\n",
    "        'max_depth': trial.suggest_int('max_depth', 8, 15),\n",
    "        'min_data_in_leaf': trial.suggest_int('min_data_in_leaf', 3, 50),\n",
    "        'subsample': trial.suggest_float('subsample', 0.7, 1.0),\n",
    "        'colsample_bytree': trial.suggest_float('colsample_bytree', 0.7, 1.0),\n",
    "    }\n",
    "\n",
    "    cv_results = lgb.cv(\n",
    "        params=params,\n",
    "        train_set=dataset,\n",
    "        folds=StratifiedKFold(n_splits=10, shuffle=True, random_state=42),\n",
    "        feval=custom_f1_score,\n",
    "        metrics='None',\n",
    "        return_cvbooster=False,\n",
    "    )\n",
    "    mean_f1 = np.mean(cv_results['valid f1-mean'])\n",
    "    return mean_f1\n",
    "\n",
    "study_lgb_medium = optuna.create_study(direction='maximize', study_name='EngineerSalaryLightGBM_Medium', sampler=optuna.samplers.TPESampler())\n",
    "study_lgb_medium.optimize(objective_lgb, n_trials=100)"
   ],
   "id": "a6252a1b8c21fef",
   "outputs": [],
   "execution_count": null
  },
  {
   "metadata": {},
   "cell_type": "markdown",
   "source": "#### Wizualizacja procesu optymalizacji hiperparametrów",
   "id": "cae9cc91517fff43"
  },
  {
   "metadata": {},
   "cell_type": "code",
   "source": "optuna.visualization.plot_optimization_history(study_lgb_medium)",
   "id": "21173b4bd3007e7c",
   "outputs": [],
   "execution_count": null
  },
  {
   "metadata": {},
   "cell_type": "code",
   "source": "optuna.visualization.plot_slice(study_lgb_medium)",
   "id": "4e8e3b8fc75c8295",
   "outputs": [],
   "execution_count": null
  },
  {
   "metadata": {},
   "cell_type": "code",
   "source": "optuna.visualization.plot_param_importances(study_lgb_medium)",
   "id": "c1518aa682c0c2e7",
   "outputs": [],
   "execution_count": null
  },
  {
   "metadata": {},
   "cell_type": "markdown",
   "source": "#### Najlepszy lgb dla Medium",
   "id": "be5d985dd1f6fdc5"
  },
  {
   "metadata": {},
   "cell_type": "code",
   "source": [
    "best_medium_params = study_lgb_medium.best_params\n",
    "\n",
    "best_medium_params"
   ],
   "id": "a81661bb77e9163a",
   "outputs": [],
   "execution_count": null
  },
  {
   "metadata": {},
   "cell_type": "code",
   "source": [
    "standard_params = {\n",
    "    'objective': 'binary',\n",
    "    'boosting': 'gbdt',\n",
    "    'n_jobs': -1,\n",
    "    'metric': 'None',\n",
    "    'random_state': 81,\n",
    "    'verbose': -1,\n",
    "    'reg_alpha': 1e-3,\n",
    "    'is_unbalance': True,\n",
    "}\n",
    "best_medium_params = {**standard_params, **best_medium_params}\n",
    "\n",
    "lightgbm_medium = lgb.LGBMClassifier(**best_medium_params).fit(X_train, y_medium_train)\n",
    "lightgbm_medium_pred = lightgbm_medium.predict(X_test)\n",
    "print(classification_report(y_medium_test, lightgbm_medium_pred, target_names=medium_encoder.inverse_transform(np.unique(y_medium_test))))"
   ],
   "id": "47e372751076191d",
   "outputs": [],
   "execution_count": null
  },
  {
   "metadata": {},
   "cell_type": "markdown",
   "source": [
    "#### Pomoc w ostatecznej predykcji\n",
    "\n",
    "- wczytanie wyników poszczególnych klasyfikacji binarnych\n",
    "- wczytanie stacking\n",
    "- wykorzystanie margin sampling do oceny niepewnych przypadków klasyfikacji\n",
    "- wskazanie progu marginesu niepewności t\n",
    "-"
   ],
   "id": "5be3709fb29b7426"
  },
  {
   "metadata": {},
   "cell_type": "code",
   "source": [
    "test_high = pd.DataFrame(\n",
    "    high_encoder.inverse_transform(lightgbm_high.predict(test)),\n",
    "    columns=['lgb_high']\n",
    ")\n",
    "test_low = pd.DataFrame(\n",
    "    low_encoder.inverse_transform(lightgbm_low.predict(test)),\n",
    "    columns=['lgb_low']\n",
    ")\n",
    "test_medium = pd.DataFrame(\n",
    "    medium_encoder.inverse_transform(lightgbm_medium.predict(test)),\n",
    "    columns=['lgb_medium']\n",
    ")\n",
    "\n",
    "binary_class = pd.concat([test_high, test_low, test_medium], axis=1)\n",
    "\n",
    "binary_class"
   ],
   "id": "138d1944380cb518",
   "outputs": [],
   "execution_count": null
  },
  {
   "metadata": {},
   "cell_type": "code",
   "source": [
    "stacking_proba = pd.read_csv('be_better.csv')\n",
    "\n",
    "stacking_proba"
   ],
   "id": "61f90e04d84bad5c",
   "outputs": [],
   "execution_count": null
  },
  {
   "metadata": {},
   "cell_type": "code",
   "source": [
    "t = 0.06\n",
    "proba_array = stacking_proba.values\n",
    "sorted_proba = -np.sort(-proba_array, axis=1)\n",
    "margin = sorted_proba[:, 0] - sorted_proba[:, 1]\n",
    "\n",
    "stacking_proba['margin_sampling'] = margin\n",
    "stacking_proba = pd.concat([stacking_proba, binary_class], axis=1)\n",
    "stacking_proba['count_other'] = (stacking_proba == 'Other').sum(axis=1)"
   ],
   "id": "e4a79f9d1bd8f4a3",
   "outputs": [],
   "execution_count": null
  },
  {
   "metadata": {},
   "cell_type": "code",
   "source": [
    "salary_category_encoder = LabelEncoder().fit(train['salary_category'])\n",
    "\n",
    "def prepare_submission(predictions, name):\n",
    "    if 'submissions' not in os.listdir(os.getcwd()):\n",
    "        os.mkdir('submissions')\n",
    "    submission = pd.DataFrame(\n",
    "        data={\n",
    "            'obs': test_obs,\n",
    "            'salary_category': predictions\n",
    "        }\n",
    "    )\n",
    "    submission.to_csv(os.path.join('submissions', f'{name}.csv'), index=False)\n",
    "    return submission"
   ],
   "id": "e2ee3bec12d6e768",
   "outputs": [],
   "execution_count": null
  },
  {
   "metadata": {},
   "cell_type": "code",
   "source": "stacking_proba.loc[(stacking_proba['margin_sampling'] < t), :]",
   "id": "85f644135e97b7e3",
   "outputs": [],
   "execution_count": null
  },
  {
   "metadata": {},
   "cell_type": "code",
   "source": [
    "stacking_proba['final_pred'] = salary_category_encoder.inverse_transform(np.argmax(stacking_proba[['High', 'Low', 'Medium']], axis=1))\n",
    "stacking_proba.loc[(stacking_proba['margin_sampling'] < t) & (stacking_proba['count_other'] == 3), 'final_pred'] = salary_category_encoder.inverse_transform(np.argmin(stacking_proba.loc[(stacking_proba['margin_sampling'] < t) & (stacking_proba['count_other'] == 3), ['High', 'Low', 'Medium']], axis=1))\n",
    "stacking_proba.loc[(stacking_proba['margin_sampling'] < t) & (stacking_proba['count_other'] == 2) & (stacking_proba['lgb_high'] == 'High'), 'final_pred'] = 'High'\n",
    "stacking_proba.loc[(stacking_proba['margin_sampling'] < t) & (stacking_proba['count_other'] == 2) & (stacking_proba['lgb_low'] == 'Low'), 'final_pred'] = 'Low'\n",
    "stacking_proba.loc[(stacking_proba['margin_sampling'] < t) & (stacking_proba['count_other'] == 2) & (stacking_proba['lgb_medium'] == 'Medium'), 'final_pred'] = 'Medium'"
   ],
   "id": "4b7fae66820e7f1e",
   "outputs": [],
   "execution_count": null
  },
  {
   "metadata": {},
   "cell_type": "code",
   "source": "stacking_proba['final_pred'].value_counts()",
   "id": "79b4e95e86d2a7e3",
   "outputs": [],
   "execution_count": null
  },
  {
   "metadata": {},
   "cell_type": "code",
   "source": "prepare_submission(stacking_proba['final_pred'], 'ovr_stacking_proba')",
   "id": "fbce8f4e0155651e",
   "outputs": [],
   "execution_count": null
  }
 ],
 "metadata": {
  "kernelspec": {
   "display_name": "Python 3",
   "language": "python",
   "name": "python3"
  },
  "language_info": {
   "codemirror_mode": {
    "name": "ipython",
    "version": 2
   },
   "file_extension": ".py",
   "mimetype": "text/x-python",
   "name": "python",
   "nbconvert_exporter": "python",
   "pygments_lexer": "ipython2",
   "version": "2.7.6"
  }
 },
 "nbformat": 4,
 "nbformat_minor": 5
}
