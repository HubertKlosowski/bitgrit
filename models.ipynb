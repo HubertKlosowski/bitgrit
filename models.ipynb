{
 "cells": [
  {
   "metadata": {},
   "cell_type": "code",
   "source": [
    "import os\n",
    "from datetime import datetime\n",
    "\n",
    "import lightgbm as lgb\n",
    "import numpy as np\n",
    "import pandas as pd\n",
    "import xgboost as xgb\n",
    "from sklearn.ensemble import RandomForestClassifier\n",
    "from sklearn.metrics import classification_report\n",
    "from sklearn.model_selection import train_test_split\n",
    "from sklearn.preprocessing import LabelEncoder"
   ],
   "id": "a88b20dfb1eb5078",
   "outputs": [],
   "execution_count": null
  },
  {
   "metadata": {},
   "cell_type": "markdown",
   "source": "#### Wczytanie przygotowanych danych",
   "id": "fadafb74c9383e8c"
  },
  {
   "metadata": {},
   "cell_type": "code",
   "source": [
    "train = pd.read_csv(os.path.join('prepared', 'train.csv'))\n",
    "test = pd.read_csv(os.path.join('prepared', 'test.csv'))\n",
    "\n",
    "salary_category_encoder = LabelEncoder().fit(train['salary_category'])\n",
    "test_obs = test['obs']\n",
    "test.drop(columns=['obs'], inplace=True)"
   ],
   "id": "12b5e6638298eed0",
   "outputs": [],
   "execution_count": null
  },
  {
   "metadata": {},
   "cell_type": "markdown",
   "source": "### <center>Proces nauki, walidacji, testowania</center>",
   "id": "bc3c10c80c377144"
  },
  {
   "metadata": {},
   "cell_type": "code",
   "source": [
    "X = train.drop(columns=['salary_category'])\n",
    "y = salary_category_encoder.transform(train['salary_category'])\n",
    "\n",
    "test_size = 0.2\n",
    "X_train, X_test, y_train, y_test = train_test_split(X, y, test_size=test_size, random_state=42, stratify=y)\n",
    "X_train = pd.DataFrame(X_train, columns=X.columns)\n",
    "X_test = pd.DataFrame(X_test, columns=X.columns)"
   ],
   "id": "fb64872c8a3f9e0f",
   "outputs": [],
   "execution_count": null
  },
  {
   "metadata": {},
   "cell_type": "markdown",
   "source": "#### LightGBM",
   "id": "5d98bbc8a8ffbcce"
  },
  {
   "metadata": {},
   "cell_type": "code",
   "source": [
    "lightgbm = lgb.LGBMClassifier().fit(X_train, y_train)\n",
    "\n",
    "print(classification_report(y_test, lightgbm.predict(X_test), target_names=salary_category_encoder.inverse_transform(np.unique(y_train))))"
   ],
   "id": "3eecd9c3ac9a1dc5",
   "outputs": [],
   "execution_count": null
  },
  {
   "metadata": {},
   "cell_type": "markdown",
   "source": "#### Szukanie optymalnych hiperparametrów",
   "id": "602ac19331697e72"
  },
  {
   "metadata": {},
   "cell_type": "code",
   "source": [
    "# def define_lightgbm(trial):\n",
    "#     params = {\n",
    "#         'objective': 'multiclass',\n",
    "#         'num_class': len(np.unique(y_train)),\n",
    "#         'learning_rate': trial.suggest_float('learning_rate', 1e-3, 1, log=True),\n",
    "#         'n_estimators': trial.suggest_int('n_estimators', 10, 150),\n",
    "#         'max_depth': trial.suggest_int('max_depth', 2, 20),\n",
    "#         'min_child_samples': trial.suggest_int('min_child_samples', 1, 100),\n",
    "#         'subsample': trial.suggest_float('subsample', 0.1, 1.0),\n",
    "#         'colsample_bytree': trial.suggest_float('colsample_bytree', 0.1, 1.0)\n",
    "#     }\n",
    "#     return lgb.LGBMClassifier(**params)\n",
    "#\n",
    "# def objective_random_forest(trial):\n",
    "#     lgb_model = define_lightgbm(trial)\n",
    "#     skf = StratifiedKFold(n_splits=5, shuffle=True, random_state=42)\n",
    "#     scores = cross_val_score(lgb_model, X_train, y_train, cv=skf, n_jobs=-1, scoring='accuracy')\n",
    "#     return scores.mean()\n",
    "#\n",
    "# study_lgb = optuna.create_study(direction='maximize', study_name='EngineerSalaryLightGBM', sampler=optuna.samplers.TPESampler())\n",
    "# study_lgb.optimize(objective_random_forest, n_trials=100)"
   ],
   "id": "66322ea7fb25c3e2",
   "outputs": [],
   "execution_count": null
  },
  {
   "metadata": {},
   "cell_type": "code",
   "source": [
    "# lightgbm = define_lightgbm(study_lgb.best_trial).fit(X_train, y_train)\n",
    "#\n",
    "# print(classification_report(y_test, lightgbm.predict(X_test), target_names=salary_category_encoder.inverse_transform(np.unique(y_train))))"
   ],
   "id": "4a06ab20d53c3ee0",
   "outputs": [],
   "execution_count": null
  },
  {
   "metadata": {},
   "cell_type": "markdown",
   "source": "#### Istotność cech dla LightGBM",
   "id": "e67bbd768b5bcc59"
  },
  {
   "metadata": {},
   "cell_type": "code",
   "source": [
    "importance = pd.DataFrame(\n",
    "    data={'names': lightgbm.feature_name_, 'importance': lightgbm.feature_importances_}\n",
    ").sort_values(by='importance', ascending=False)\n",
    "\n",
    "importance"
   ],
   "id": "50f2f363bac5ded1",
   "outputs": [],
   "execution_count": null
  },
  {
   "metadata": {},
   "cell_type": "markdown",
   "source": "#### Las losowy",
   "id": "57dd4e29579023a1"
  },
  {
   "metadata": {},
   "cell_type": "code",
   "source": [
    "random_forest = RandomForestClassifier().fit(X_train, y_train)\n",
    "\n",
    "print(classification_report(y_test, random_forest.predict(X_test), target_names=salary_category_encoder.inverse_transform(np.unique(y_train))))"
   ],
   "id": "598545066577d8db",
   "outputs": [],
   "execution_count": null
  },
  {
   "metadata": {},
   "cell_type": "markdown",
   "source": "#### Istotność cech dla lasu losowego",
   "id": "f42d864bd1bd45a"
  },
  {
   "metadata": {},
   "cell_type": "code",
   "source": [
    "random_forest_importance = pd.DataFrame(\n",
    "    data={'feature': random_forest.feature_names_in_, 'importance': random_forest.feature_importances_}\n",
    ").sort_values(by='importance', ascending=False)\n",
    "\n",
    "random_forest_importance"
   ],
   "id": "57e7525ef2683ea",
   "outputs": [],
   "execution_count": null
  },
  {
   "metadata": {},
   "cell_type": "markdown",
   "source": "#### Przygotowanie submission",
   "id": "e70314447a25326"
  },
  {
   "metadata": {},
   "cell_type": "code",
   "source": [
    "rf_pred_proba = random_forest.predict_proba(X_test)\n",
    "lgb_pred_proba = lightgbm.predict_proba(X_test)\n",
    "\n",
    "avg = (rf_pred_proba + lgb_pred_proba) / 2\n",
    "\n",
    "print(classification_report(y_test, np.argmax(avg, axis=1),\n",
    "                            target_names=salary_category_encoder.inverse_transform(np.unique(y_train))))"
   ],
   "id": "862b95323873e098",
   "outputs": [],
   "execution_count": null
  },
  {
   "metadata": {},
   "cell_type": "markdown",
   "source": "#### Fit na X, y",
   "id": "5c9945338ad3e98e"
  },
  {
   "metadata": {},
   "cell_type": "code",
   "source": [
    "lightgbm.fit(X, y)\n",
    "random_forest.fit(X, y)"
   ],
   "id": "51a491ea9df5c064",
   "outputs": [],
   "execution_count": null
  },
  {
   "metadata": {},
   "cell_type": "markdown",
   "source": "### <center>Ostateczne predykcje</center>",
   "id": "d69e653b89e67e95"
  },
  {
   "metadata": {},
   "cell_type": "code",
   "source": [
    "final_rf_pred = random_forest.predict(test)\n",
    "final_lgb_pred = lightgbm.predict(test)\n",
    "final_rf_pred_proba = random_forest.predict_proba(test)\n",
    "final_lgb_pred_proba = lightgbm.predict_proba(test)\n",
    "\n",
    "final_avg = (final_rf_pred_proba + final_lgb_pred_proba) / 2\n",
    "\n",
    "final_avg"
   ],
   "id": "bea40f238ae34150",
   "outputs": [],
   "execution_count": null
  },
  {
   "metadata": {},
   "cell_type": "code",
   "source": [
    "def prepare_submission(predictions, name):\n",
    "    if 'submissions' not in os.listdir(os.getcwd()):\n",
    "        os.mkdir('submissions')\n",
    "    submission = pd.DataFrame(\n",
    "        data={\n",
    "            'obs': test_obs,\n",
    "            'salary_category': salary_category_encoder.inverse_transform(predictions)\n",
    "        }\n",
    "    )\n",
    "    submission.to_csv(os.path.join('submissions', f'{name}.csv'), index=False)\n",
    "\n",
    "prepare_submission(final_rf_pred, 'random_forest')\n",
    "prepare_submission(final_lgb_pred, 'lgb')\n",
    "prepare_submission(np.argmax(final_avg, axis=1), 'average_lgb_random_forest')"
   ],
   "id": "ab5d195660ace3c3",
   "outputs": [],
   "execution_count": null
  },
  {
   "metadata": {},
   "cell_type": "markdown",
   "source": "#### Informacje o modelach",
   "id": "14235b7ed420074f"
  },
  {
   "metadata": {
    "collapsed": true
   },
   "cell_type": "code",
   "source": [
    "if 'models' not in os.listdir(os.getcwd()):\n",
    "    os.mkdir('models')\n",
    "\n",
    "timestamp = datetime.now().strftime('%Y-%m-%d_%H-%M-%S')\n",
    "with open(os.path.join('models', f'model_info_{timestamp}.txt'), 'w') as f:\n",
    "    f.write(f'Test size: {test_size}\\n\\n')\n",
    "\n",
    "    # if job_desc_pca is not None:\n",
    "    #     f.write(f'PCA na kolumnach job_desc.\\n\\n')\n",
    "\n",
    "    f.write('Random Forest Parameters:\\n')\n",
    "    for key, value in random_forest.get_params().items():\n",
    "        f.write(f'{key}: {value}\\n')\n",
    "\n",
    "    f.write('\\nLightGBM Parameters:\\n')\n",
    "    for key, value in lightgbm.get_params().items():\n",
    "        f.write(f'{key}: {value}\\n')"
   ],
   "id": "initial_id",
   "outputs": [],
   "execution_count": null
  }
 ],
 "metadata": {
  "kernelspec": {
   "display_name": "Python 3",
   "language": "python",
   "name": "python3"
  },
  "language_info": {
   "codemirror_mode": {
    "name": "ipython",
    "version": 2
   },
   "file_extension": ".py",
   "mimetype": "text/x-python",
   "name": "python",
   "nbconvert_exporter": "python",
   "pygments_lexer": "ipython2",
   "version": "2.7.6"
  }
 },
 "nbformat": 4,
 "nbformat_minor": 5
}
