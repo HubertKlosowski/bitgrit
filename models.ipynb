{
 "cells": [
  {
   "metadata": {},
   "cell_type": "code",
   "source": [
    "import os\n",
    "from datetime import datetime\n",
    "\n",
    "import lightgbm as lgb\n",
    "import matplotlib.pyplot as plt\n",
    "import numpy as np\n",
    "import optuna\n",
    "import pandas as pd\n",
    "import seaborn as sns\n",
    "import xgboost as xgb\n",
    "from catboost import CatBoostClassifier\n",
    "from matplotlib.lines import Line2D\n",
    "from sklearn.metrics import classification_report, confusion_matrix, roc_auc_score, RocCurveDisplay, accuracy_score\n",
    "from sklearn.model_selection import StratifiedKFold, cross_val_score, train_test_split, LearningCurveDisplay\n",
    "from sklearn.preprocessing import LabelBinarizer, LabelEncoder\n",
    "import warnings\n",
    "\n",
    "warnings.filterwarnings('ignore')"
   ],
   "id": "a88b20dfb1eb5078",
   "outputs": [],
   "execution_count": null
  },
  {
   "metadata": {},
   "cell_type": "markdown",
   "source": "#### Wczytanie przygotowanych danych",
   "id": "fadafb74c9383e8c"
  },
  {
   "metadata": {},
   "cell_type": "code",
   "source": [
    "train = pd.read_csv(os.path.join('prepared', 'train.csv'))\n",
    "test = pd.read_csv(os.path.join('prepared', 'test.csv'))\n",
    "\n",
    "salary_category_encoder = LabelEncoder().fit(train['salary_category'])\n",
    "\n",
    "test_obs = test['obs']\n",
    "test.drop(columns=['obs'], inplace=True)\n",
    "\n",
    "my_categories = ['job_title', 'feature_1', 'job_state', 'job_region']\n",
    "train[my_categories] = train[my_categories].astype('category')\n",
    "test[my_categories] = test[my_categories].astype('category')"
   ],
   "id": "12b5e6638298eed0",
   "outputs": [],
   "execution_count": null
  },
  {
   "metadata": {},
   "cell_type": "code",
   "source": "train.info()",
   "id": "23af5b8f32517946",
   "outputs": [],
   "execution_count": null
  },
  {
   "metadata": {},
   "cell_type": "code",
   "source": "test.info()",
   "id": "8bc54b5696018228",
   "outputs": [],
   "execution_count": null
  },
  {
   "metadata": {},
   "cell_type": "markdown",
   "source": "### <center>Proces nauki, walidacji, testowania</center>",
   "id": "bc3c10c80c377144"
  },
  {
   "metadata": {},
   "cell_type": "code",
   "source": [
    "X = train.drop(columns=['salary_category']).reset_index(drop=True)\n",
    "y = salary_category_encoder.transform(train['salary_category'])\n",
    "\n",
    "class_labels = np.unique(y)\n",
    "\n",
    "test_size = 0.2\n",
    "X_train, X_test, y_train, y_test = train_test_split(X, y, test_size=test_size, random_state=42, stratify=y)\n",
    "X_train = pd.DataFrame(X_train, columns=X.columns)\n",
    "X_test = pd.DataFrame(X_test, columns=X.columns)"
   ],
   "id": "fb64872c8a3f9e0f",
   "outputs": [],
   "execution_count": null
  },
  {
   "metadata": {},
   "cell_type": "markdown",
   "source": "#### LightGBM",
   "id": "5d98bbc8a8ffbcce"
  },
  {
   "metadata": {},
   "cell_type": "code",
   "source": [
    "def custom_accuracy(preds, eval_data):\n",
    "    y_true = eval_data.get_label()\n",
    "    y_pred = preds.argmax(axis=1)\n",
    "    return 'accuracy', accuracy_score(y_true, y_pred), True\n",
    "\n",
    "def objective_lgb(trial):\n",
    "    dataset = lgb.Dataset(X, y, params={\n",
    "        'max_bin': trial.suggest_int('max_bin', 32, 256),\n",
    "        'feature_pre_filter': False\n",
    "    })\n",
    "\n",
    "    params = {\n",
    "        'objective': 'multiclass',\n",
    "        'num_class': len(np.unique(y)),\n",
    "        'boosting': 'gbdt',\n",
    "        'class_weight': 'balanced',\n",
    "        'n_jobs': -1,\n",
    "        'metric': 'None',\n",
    "        'random_state': 81,\n",
    "        'verbose': -1,\n",
    "        'reg_alpha': trial.suggest_float('reg_alpha', 1e-3, 1, log=True),\n",
    "        'learning_rate': trial.suggest_float('learning_rate', 1e-2, 1, log=True),\n",
    "        'n_estimators': trial.suggest_int('n_estimators', 50, 250),\n",
    "        'num_leaves': trial.suggest_int('num_leaves', 8, 64),\n",
    "        'max_depth': trial.suggest_int('max_depth', 8, 12),\n",
    "        'min_data_in_leaf': trial.suggest_int('min_data_in_leaf', 3, 50),\n",
    "        'subsample': trial.suggest_float('subsample', 0.7, 1.0),\n",
    "        'colsample_bytree': trial.suggest_float('colsample_bytree', 0.7, 1.0),\n",
    "    }\n",
    "\n",
    "    cv_results = lgb.cv(\n",
    "        params=params,\n",
    "        train_set=dataset,\n",
    "        folds=StratifiedKFold(n_splits=5, shuffle=True, random_state=42),\n",
    "        feval=custom_accuracy,\n",
    "        metrics='None',\n",
    "        return_cvbooster=False,\n",
    "    )\n",
    "    mean_accuracy = np.mean(cv_results['valid accuracy-mean'])\n",
    "    return mean_accuracy\n",
    "\n",
    "study_lgb = optuna.create_study(direction='maximize', study_name='EngineerSalaryLightGBM', sampler=optuna.samplers.TPESampler())\n",
    "study_lgb.optimize(objective_lgb, n_trials=100)"
   ],
   "id": "66322ea7fb25c3e2",
   "outputs": [],
   "execution_count": null
  },
  {
   "metadata": {},
   "cell_type": "code",
   "source": [
    "best_params = study_lgb.best_params\n",
    "\n",
    "best_params"
   ],
   "id": "2318698b18e4b192",
   "outputs": [],
   "execution_count": null
  },
  {
   "metadata": {},
   "cell_type": "code",
   "source": [
    "standard_params = {\n",
    "    'objective': 'multiclass',\n",
    "    'class_weight': 'balanced',\n",
    "    'num_class': len(np.unique(y)),\n",
    "    'boosting': 'gbdt',\n",
    "    'n_jobs': -1,\n",
    "    'metric': 'None',\n",
    "    'random_state': 81,\n",
    "    'verbose': -1,\n",
    "}\n",
    "\n",
    "best_params = {**standard_params, **best_params}\n",
    "\n",
    "lightgbm = lgb.LGBMClassifier(**best_params).fit(X_train, y_train)"
   ],
   "id": "4a06ab20d53c3ee0",
   "outputs": [],
   "execution_count": null
  },
  {
   "metadata": {},
   "cell_type": "markdown",
   "source": "#### Wizualizacja z optuną",
   "id": "f4650f080eb887c2"
  },
  {
   "metadata": {},
   "cell_type": "code",
   "source": "optuna.visualization.plot_optimization_history(study_lgb)",
   "id": "922b22ac4f1358",
   "outputs": [],
   "execution_count": null
  },
  {
   "metadata": {},
   "cell_type": "code",
   "source": "optuna.visualization.plot_slice(study_lgb)",
   "id": "1e3759aa7fe87b22",
   "outputs": [],
   "execution_count": null
  },
  {
   "metadata": {},
   "cell_type": "code",
   "source": "optuna.visualization.plot_param_importances(study_lgb)",
   "id": "812bf96639827f6d",
   "outputs": [],
   "execution_count": null
  },
  {
   "metadata": {},
   "cell_type": "code",
   "source": "compare_skf = pd.DataFrame(data={'lgb': [], 'xgb': [], 'cat': []})",
   "id": "75b6d19717dd58c",
   "outputs": [],
   "execution_count": null
  },
  {
   "metadata": {},
   "cell_type": "markdown",
   "source": "#### Jak LightGBM wypada w poszczególnych foldach",
   "id": "63cd41d218ccd826"
  },
  {
   "metadata": {},
   "cell_type": "code",
   "source": [
    "# lightgbm = lgb.LGBMClassifier(**{\n",
    "#     \"boosting_type\": 'gbdt',\n",
    "#     \"class_weight\": None,\n",
    "#     \"colsample_bytree\": 0.9333584928887282,\n",
    "#     \"importance_type\": 'split',\n",
    "#     \"learning_rate\": 0.23332896051177257,\n",
    "#     \"max_depth\": 12,\n",
    "#     \"min_child_samples\": 20,\n",
    "#     \"min_child_weight\": 0.001,\n",
    "#     \"min_split_gain\": 0.0,\n",
    "#     \"n_estimators\": 142,\n",
    "#     \"n_jobs\": -1,\n",
    "#     \"num_leaves\": 34,\n",
    "#     \"objective\": 'multiclass',\n",
    "#     \"random_state\": 81,\n",
    "#     \"reg_alpha\": 0.0,\n",
    "#     \"reg_lambda\": 1,\n",
    "#     \"subsample\": 0.9720591168744056,\n",
    "#     \"subsample_for_bin\": 200000,\n",
    "#     \"subsample_freq\": 0,\n",
    "#     \"num_class\": 3,\n",
    "#     \"boosting\": 'gbdt',\n",
    "#     \"metric\": None,\n",
    "#     \"verbose\": -1,\n",
    "#     \"min_data_in_leaf\": 6,\n",
    "# })"
   ],
   "id": "3b1b8aa1bd84b7c0",
   "outputs": [],
   "execution_count": null
  },
  {
   "metadata": {},
   "cell_type": "code",
   "source": [
    "folds = []\n",
    "stratifiedkfold = StratifiedKFold(n_splits=10, shuffle=True, random_state=42)\n",
    "for i, (train_idx, val_idx) in enumerate(stratifiedkfold.split(X, y)):\n",
    "    X_train_fold, X_val_fold = X.loc[train_idx, :], X.loc[val_idx, :]\n",
    "    y_train_fold, y_val_fold = y[train_idx], y[val_idx]\n",
    "\n",
    "    lightgbm.fit(X_train_fold, y_train_fold)\n",
    "    folds.append(accuracy_score(y_val_fold, lightgbm.predict(X_val_fold)) * 100)\n",
    "\n",
    "compare_skf['lgb'] = folds"
   ],
   "id": "53549d091447588b",
   "outputs": [],
   "execution_count": null
  },
  {
   "metadata": {},
   "cell_type": "code",
   "source": [
    "lightgbm.fit(X_train, y_train)\n",
    "lightgbm_pred = lightgbm.predict(X_test)\n",
    "print(classification_report(y_test, lightgbm_pred, target_names=salary_category_encoder.inverse_transform(np.unique(y_train))))"
   ],
   "id": "96281c68d598298a",
   "outputs": [],
   "execution_count": null
  },
  {
   "metadata": {},
   "cell_type": "markdown",
   "source": "#### Istotność cech dla LightGBM",
   "id": "e67bbd768b5bcc59"
  },
  {
   "metadata": {},
   "cell_type": "code",
   "source": [
    "lightgbm_importance = pd.DataFrame({\n",
    "    'feature': lightgbm.feature_name_,\n",
    "    'importance': lightgbm.feature_importances_\n",
    "}).sort_values(by='importance', ascending=False).head(10)\n",
    "\n",
    "plt.figure(figsize=(12, 8))\n",
    "sns.set_style('whitegrid')\n",
    "\n",
    "ax = sns.barplot(\n",
    "    data=lightgbm_importance,\n",
    "    x='importance',\n",
    "    y='feature',\n",
    "    hue='feature',\n",
    "    legend=False,\n",
    "    palette='viridis'\n",
    ")\n",
    "\n",
    "for i in ax.containers:\n",
    "    ax.bar_label(i, fmt='%g', label_type='edge', fontsize=10, padding=3)\n",
    "\n",
    "plt.title('Top 10 najważniejszych cech dla LightGBM', fontsize=16)\n",
    "plt.xlabel('Wartość istotności', fontsize=12)\n",
    "plt.ylabel('Cecha', fontsize=12)\n",
    "\n",
    "plt.xticks(fontsize=10)\n",
    "plt.yticks(fontsize=11)\n",
    "plt.tight_layout()\n",
    "plt.show()"
   ],
   "id": "50f2f363bac5ded1",
   "outputs": [],
   "execution_count": null
  },
  {
   "metadata": {},
   "cell_type": "markdown",
   "source": "#### Drzewo decyzyjne w LightGBM",
   "id": "18feefe67466d1c9"
  },
  {
   "metadata": {},
   "cell_type": "code",
   "source": [
    "fig, ax = plt.subplots(figsize=(16, 10))\n",
    "lgb.plot_tree(\n",
    "    lightgbm,\n",
    "    ax=ax,\n",
    "    show_info='data_percentage',\n",
    "    precision=2,\n",
    "    orientation='vertical',\n",
    "    dpi=500\n",
    ")"
   ],
   "id": "27989f7836929164",
   "outputs": [],
   "execution_count": null
  },
  {
   "metadata": {},
   "cell_type": "markdown",
   "source": "#### XGBoost",
   "id": "caa21dff395c8f66"
  },
  {
   "metadata": {},
   "cell_type": "code",
   "source": [
    "def define_xgb(trial):\n",
    "    params = {\n",
    "        'tree_method': 'hist',\n",
    "        'enable_categorical': True,\n",
    "        'n_estimators': trial.suggest_int('n_estimators', 50, 150),\n",
    "        'learning_rate': trial.suggest_float('learning_rate', 1e-2, 1, log=True),\n",
    "        'max_depth': trial.suggest_int('max_depth', 5, 10),\n",
    "        'subsample': trial.suggest_float('subsample', 0.5, 1.0),\n",
    "        'max_leaves': trial.suggest_int('max_leaves', 8, 32),\n",
    "        'gamma': trial.suggest_float('gamma', 0.5, 1),\n",
    "        'reg_alpha': trial.suggest_float('reg_alpha', 1e-3, 1e-1, log=True),\n",
    "        'reg_lambda': trial.suggest_float('reg_lambda', 1e-2, 1, log=True),\n",
    "        'max_bin': trial.suggest_int('max_bin', 32, 256),\n",
    "        'n_jobs': -1,\n",
    "        'objective': 'multiclass',\n",
    "        'num_class': len(np.unique(y)),\n",
    "        'random_state': 42\n",
    "    }\n",
    "    return xgb.XGBClassifier(**params)\n",
    "\n",
    "def objective_xgb(trial):\n",
    "    model = define_xgb(trial)\n",
    "    skf = StratifiedKFold(n_splits=5, shuffle=True, random_state=42)\n",
    "    scores = cross_val_score(model, X, y, cv=skf, n_jobs=-1, scoring='accuracy')\n",
    "    return scores.mean()\n",
    "\n",
    "study_xgb = optuna.create_study(direction='maximize', study_name='EngineerSalaryXGBoost', sampler=optuna.samplers.TPESampler())\n",
    "study_xgb.optimize(objective_xgb, n_trials=100)\n",
    "\n",
    "xgBoost = define_xgb(study_xgb.best_trial).fit(X_train, y_train)"
   ],
   "id": "5c3a5235b995cff5",
   "outputs": [],
   "execution_count": null
  },
  {
   "metadata": {},
   "cell_type": "code",
   "source": "study_xgb.best_params",
   "id": "3e5485a4be2baf9",
   "outputs": [],
   "execution_count": null
  },
  {
   "metadata": {},
   "cell_type": "markdown",
   "source": "#### Wizualizacji procesu optymalizacji hiperparametrów",
   "id": "7f6c2a32c63eb63f"
  },
  {
   "metadata": {},
   "cell_type": "code",
   "source": "optuna.visualization.plot_optimization_history(study_xgb)",
   "id": "96e8ca025b239131",
   "outputs": [],
   "execution_count": null
  },
  {
   "metadata": {},
   "cell_type": "code",
   "source": "optuna.visualization.plot_slice(study_xgb)",
   "id": "6d8dd9c835aa90f1",
   "outputs": [],
   "execution_count": null
  },
  {
   "metadata": {},
   "cell_type": "code",
   "source": "optuna.visualization.plot_param_importances(study_xgb)",
   "id": "b0790b5535e92d44",
   "outputs": [],
   "execution_count": null
  },
  {
   "metadata": {},
   "cell_type": "markdown",
   "source": "#### Jak wypada XGBoost w poszczególnych foldach",
   "id": "4c3eb3cf1a4ec4c1"
  },
  {
   "metadata": {},
   "cell_type": "code",
   "source": [
    "# xgBoost = xgb.XGBClassifier(**{\n",
    "#     \"objective\": 'multi:softprob',\n",
    "#     \"use_label_encoder\": None,\n",
    "#     \"base_score\": None,\n",
    "#     \"booster\": None,\n",
    "#     \"callbacks\": None,\n",
    "#     \"colsample_bylevel\": None,\n",
    "#     \"colsample_bynode\": None,\n",
    "#     \"colsample_bytree\": None,\n",
    "#     \"early_stopping_rounds\": None,\n",
    "#     \"enable_categorical\": True,\n",
    "#     \"eval_metric\": None,\n",
    "#     \"feature_types\": None,\n",
    "#     \"gamma\": 0.6551776163530296,\n",
    "#     \"gpu_id\": None,\n",
    "#     \"grow_policy\": None,\n",
    "#     \"importance_type\": None,\n",
    "#     \"interaction_constraints\": None,\n",
    "#     \"learning_rate\": 0.07315523763489679,\n",
    "#     \"max_bin\": 219,\n",
    "#     \"max_cat_threshold\": None,\n",
    "#     \"max_cat_to_onehot\": None,\n",
    "#     \"max_delta_step\": None,\n",
    "#     \"max_depth\": 10,\n",
    "#     \"max_leaves\": 23,\n",
    "#     \"min_child_weight\": None,\n",
    "#     \"monotone_constraints\": None,\n",
    "#     \"n_estimators\": 118,\n",
    "#     \"n_jobs\": -1,\n",
    "#     \"num_parallel_tree\": None,\n",
    "#     \"predictor\": None,\n",
    "#     \"random_state\": 42,\n",
    "#     \"reg_alpha\": 0.013705730913738874,\n",
    "#     \"reg_lambda\": 0.012219537217204616,\n",
    "#     \"sampling_method\": None,\n",
    "#     \"scale_pos_weight\": None,\n",
    "#     \"subsample\": 0.9988236950762315,\n",
    "#     \"tree_method\": 'hist',\n",
    "#     \"validate_parameters\": None,\n",
    "#     \"verbosity\": None,\n",
    "#     \"num_class\": 3,\n",
    "# })"
   ],
   "id": "a6d1987cf569ba55",
   "outputs": [],
   "execution_count": null
  },
  {
   "metadata": {},
   "cell_type": "code",
   "source": [
    "folds = []\n",
    "stratifiedkfold = StratifiedKFold(n_splits=10, shuffle=True, random_state=42)\n",
    "for i, (train_idx, val_idx) in enumerate(stratifiedkfold.split(X, y)):\n",
    "    X_train_fold, X_val_fold = X.loc[train_idx, :], X.loc[val_idx, :]\n",
    "    y_train_fold, y_val_fold = y[train_idx], y[val_idx]\n",
    "\n",
    "    xgBoost.fit(X_train_fold, y_train_fold)\n",
    "    folds.append(accuracy_score(y_val_fold, xgBoost.predict(X_val_fold)) * 100)\n",
    "\n",
    "compare_skf['xgb'] = folds"
   ],
   "id": "126afd5892f3ed7e",
   "outputs": [],
   "execution_count": null
  },
  {
   "metadata": {},
   "cell_type": "code",
   "source": [
    "xgBoost.fit(X_train, y_train)\n",
    "xgBoost_pred = xgBoost.predict(X_test)\n",
    "\n",
    "print(classification_report(y_test, xgBoost_pred, target_names=salary_category_encoder.inverse_transform(np.unique(y_train))))"
   ],
   "id": "42aaa50cbe3c7067",
   "outputs": [],
   "execution_count": null
  },
  {
   "metadata": {},
   "cell_type": "markdown",
   "source": "#### Istotność cech dla XGBoost",
   "id": "f86e0b63e68ca392"
  },
  {
   "metadata": {},
   "cell_type": "code",
   "source": [
    "importance_dict = xgBoost.get_booster().get_score(importance_type='weight')\n",
    "\n",
    "xgBoost_importance = pd.DataFrame({\n",
    "    'feature': list(importance_dict.keys()),\n",
    "    'importance': list(importance_dict.values())\n",
    "}).sort_values('importance', ascending=False).head(10)\n",
    "\n",
    "plt.figure(figsize=(12, 8))\n",
    "sns.set_style('whitegrid')\n",
    "\n",
    "ax = sns.barplot(\n",
    "    data=xgBoost_importance,\n",
    "    x='importance',\n",
    "    y='feature',\n",
    "    hue='feature',\n",
    "    legend=False,\n",
    "    palette='viridis'\n",
    ")\n",
    "\n",
    "for i in ax.containers:\n",
    "    ax.bar_label(i, fmt='%g', label_type='edge', fontsize=10, padding=3)\n",
    "\n",
    "plt.title('Top 10 najważniejszych cech dla XGBoost', fontsize=16)\n",
    "plt.xlabel('Wartość istotności', fontsize=12)\n",
    "plt.ylabel('Cecha', fontsize=12)\n",
    "\n",
    "plt.xticks(fontsize=10)\n",
    "plt.yticks(fontsize=11)\n",
    "plt.tight_layout()\n",
    "plt.show()"
   ],
   "id": "10c8b00fe41378f5",
   "outputs": [],
   "execution_count": null
  },
  {
   "metadata": {},
   "cell_type": "markdown",
   "source": "#### CatBoost",
   "id": "e7121a5d30a94f9b"
  },
  {
   "metadata": {},
   "cell_type": "code",
   "source": [
    "# from catboost import CatBoostClassifier\n",
    "#\n",
    "# def define_catboost(trial):\n",
    "#     params = {\n",
    "#         'iterations': trial.suggest_int('iterations', 50, 200),\n",
    "#         'learning_rate': trial.suggest_float('learning_rate', 1e-2, 1, log=True),\n",
    "#         'depth': trial.suggest_int('depth', 5, 12),\n",
    "#         'l2_leaf_reg': trial.suggest_float('l2_leaf_reg', 1e-3, 1, log=True),\n",
    "#         'bagging_temperature': trial.suggest_float('bagging_temperature', 1e-3, 1, log=True),\n",
    "#         'loss_function': 'MultiClass',\n",
    "#         'cat_features': my_categories,\n",
    "#         'random_seed': 42,\n",
    "#         'logging_level': 'Silent',\n",
    "#     }\n",
    "#     return CatBoostClassifier(**params)\n",
    "#\n",
    "# def objective_catboost(trial):\n",
    "#     model = define_catboost(trial)\n",
    "#     skf = StratifiedKFold(n_splits=5, shuffle=True, random_state=42)\n",
    "#     scores = cross_val_score(model, X, y, cv=skf, n_jobs=-1, scoring='accuracy')\n",
    "#     return scores.mean()\n",
    "#\n",
    "# study_cat = optuna.create_study(direction='maximize', study_name='EngineerSalaryCatBoost', sampler=optuna.samplers.TPESampler())\n",
    "# study_cat.optimize(objective_catboost, n_trials=100)"
   ],
   "id": "fcc83b5a54cf26e8",
   "outputs": [],
   "execution_count": null
  },
  {
   "metadata": {},
   "cell_type": "code",
   "source": "# catBoost = define_catboost(study_cat.best_trial).fit(X_train, y_train)",
   "id": "10b844fa05252a37",
   "outputs": [],
   "execution_count": null
  },
  {
   "metadata": {},
   "cell_type": "code",
   "source": "# study_cat.best_params",
   "id": "4d4e403ddb664e45",
   "outputs": [],
   "execution_count": null
  },
  {
   "metadata": {},
   "cell_type": "code",
   "source": "# optuna.visualization.plot_optimization_history(study_cat)",
   "id": "ec3edb4dc59ce0fe",
   "outputs": [],
   "execution_count": null
  },
  {
   "metadata": {},
   "cell_type": "code",
   "source": "# optuna.visualization.plot_slice(study_cat)",
   "id": "db7a444cced302c0",
   "outputs": [],
   "execution_count": null
  },
  {
   "metadata": {},
   "cell_type": "code",
   "source": "# optuna.visualization.plot_param_importances(study_cat)",
   "id": "4a942bd4944862a6",
   "outputs": [],
   "execution_count": null
  },
  {
   "metadata": {},
   "cell_type": "markdown",
   "source": "#### Jak wypada CatBoost w poszczególnych foldach",
   "id": "6dc38aab7f4a1f0b"
  },
  {
   "metadata": {},
   "cell_type": "code",
   "source": [
    "catBoost = CatBoostClassifier(**{\n",
    "    \"iterations\": 137,\n",
    "    \"learning_rate\": 0.10095947308778701,\n",
    "    \"depth\": 7,\n",
    "    \"l2_leaf_reg\": 0.01124311885824868,\n",
    "    \"loss_function\": 'MultiClass',\n",
    "    \"random_seed\": 42,\n",
    "    \"bagging_temperature\": 1.0,\n",
    "    \"early_stopping_rounds\": 3,\n",
    "    'cat_features': my_categories,\n",
    "    'logging_level': 'Silent'\n",
    "})"
   ],
   "id": "f2afae9c0d690845",
   "outputs": [],
   "execution_count": null
  },
  {
   "metadata": {},
   "cell_type": "code",
   "source": [
    "folds = []\n",
    "stratifiedkfold = StratifiedKFold(n_splits=10, shuffle=True, random_state=42)\n",
    "for i, (train_idx, val_idx) in enumerate(stratifiedkfold.split(X, y)):\n",
    "    X_train_fold, X_val_fold = X.loc[train_idx, :], X.loc[val_idx, :]\n",
    "    y_train_fold, y_val_fold = y[train_idx], y[val_idx]\n",
    "\n",
    "    catBoost.fit(X_train_fold, y_train_fold)\n",
    "    folds.append(accuracy_score(y_val_fold, catBoost.predict(X_val_fold)) * 100)\n",
    "\n",
    "compare_skf['cat'] = folds"
   ],
   "id": "e25776ba5cc2369c",
   "outputs": [],
   "execution_count": null
  },
  {
   "metadata": {},
   "cell_type": "code",
   "source": [
    "catBoost.fit(X_train, y_train)\n",
    "catBoost_pred = catBoost.predict(X_test)\n",
    "print(classification_report(y_test, catBoost_pred, target_names=salary_category_encoder.inverse_transform(np.unique(y_train))))"
   ],
   "id": "1ffca1a5e9b8f17a",
   "outputs": [],
   "execution_count": null
  },
  {
   "metadata": {},
   "cell_type": "markdown",
   "source": "#### Istotność cech dla CatBoost",
   "id": "b5ad36691692add7"
  },
  {
   "metadata": {},
   "cell_type": "code",
   "source": [
    "catBoost_importance = pd.DataFrame({\n",
    "    'feature': X.columns,\n",
    "    'importance': catBoost.get_feature_importance()\n",
    "}).sort_values(by='importance', ascending=False).head(10)\n",
    "\n",
    "plt.figure(figsize=(12, 8))\n",
    "sns.set_style('whitegrid')\n",
    "\n",
    "ax = sns.barplot(\n",
    "    data=catBoost_importance,\n",
    "    x='importance',\n",
    "    y='feature',\n",
    "    hue='feature',\n",
    "    legend=False,\n",
    "    palette='viridis'\n",
    ")\n",
    "\n",
    "for i in ax.containers:\n",
    "    ax.bar_label(i, fmt='%g', label_type='edge', fontsize=10, padding=3)\n",
    "\n",
    "plt.title('Top 10 najważniejszych cech dla CatBoost', fontsize=16)\n",
    "plt.xlabel('Wartość istotności', fontsize=12)\n",
    "plt.ylabel('Cecha', fontsize=12)\n",
    "\n",
    "plt.xticks(fontsize=10)\n",
    "plt.yticks(fontsize=11)\n",
    "plt.tight_layout()\n",
    "plt.show()"
   ],
   "id": "6641c6bc51b6cdb1",
   "outputs": [],
   "execution_count": null
  },
  {
   "metadata": {},
   "cell_type": "markdown",
   "source": "#### Prawdopodobieństwa poszczególnych modeli",
   "id": "22a9fdc93c222a0d"
  },
  {
   "metadata": {},
   "cell_type": "code",
   "source": [
    "catBoost_pred_proba = catBoost.predict_proba(X_test)\n",
    "lgb_pred_proba = lightgbm.predict_proba(X_test)\n",
    "xgBoost_pred_proba = xgBoost.predict_proba(X_test)"
   ],
   "id": "e9f54c98bad51227",
   "outputs": [],
   "execution_count": null
  },
  {
   "metadata": {},
   "cell_type": "markdown",
   "source": "#### Porównanie StratifiedKFold dla modeli",
   "id": "5f72bb82c6989cd1"
  },
  {
   "metadata": {},
   "cell_type": "code",
   "source": "compare_skf",
   "id": "b445c304ba3cc366",
   "outputs": [],
   "execution_count": null
  },
  {
   "metadata": {},
   "cell_type": "code",
   "source": [
    "intresting_fold = [(train_idx, val_idx) for i, (train_idx, val_idx) in enumerate(stratifiedkfold.split(X, y)) if i == 9]\n",
    "intresting_fold = intresting_fold[0]\n",
    "\n",
    "X_train_fold, X_val_fold = X.loc[intresting_fold[0], :], X.loc[intresting_fold[1], :]\n",
    "y_train_fold, y_val_fold = y[intresting_fold[0]], y[intresting_fold[1]]"
   ],
   "id": "b8dadae92bc593b9",
   "outputs": [],
   "execution_count": null
  },
  {
   "metadata": {},
   "cell_type": "code",
   "source": "X_train_fold.describe()",
   "id": "79cf8839f0ea7d66",
   "outputs": [],
   "execution_count": null
  },
  {
   "metadata": {},
   "cell_type": "code",
   "source": "X_val_fold.describe()",
   "id": "33109f59c0683c3a",
   "outputs": [],
   "execution_count": null
  },
  {
   "metadata": {},
   "cell_type": "code",
   "source": "X_val_fold",
   "id": "652977f83b53351c",
   "outputs": [],
   "execution_count": null
  },
  {
   "metadata": {},
   "cell_type": "markdown",
   "source": "#### StackingClassifier",
   "id": "1a6c4b61ed0e2053"
  },
  {
   "metadata": {},
   "cell_type": "code",
   "source": [
    "from sklearn.ensemble import StackingClassifier\n",
    "from sklearn.linear_model import LogisticRegression\n",
    "\n",
    "\n",
    "stacking = StackingClassifier(\n",
    "    estimators=[\n",
    "        ('cat', catBoost),\n",
    "        ('lgb', lightgbm),\n",
    "        ('xgBoost', xgBoost),\n",
    "    ],\n",
    "    final_estimator=LogisticRegression(\n",
    "        penalty='l2',\n",
    "        C=0.01,\n",
    "        class_weight='balanced',\n",
    "        solver='lbfgs',\n",
    "        max_iter=100,\n",
    "        random_state=42,\n",
    "        multi_class='multinomial'\n",
    "    ),\n",
    "    cv=5,\n",
    "    n_jobs=-1,\n",
    "    passthrough=False,\n",
    "    stack_method='predict_proba'\n",
    ").fit(X_train, y_train)\n",
    "\n",
    "stacking_pred = stacking.predict(X_test)\n",
    "stacking_pred_proba = stacking.predict_proba(X_test)\n",
    "\n",
    "print(classification_report(y_test, stacking_pred, target_names=salary_category_encoder.inverse_transform(np.unique(y_train))))"
   ],
   "id": "dbcbfb4dbddebb97",
   "outputs": [],
   "execution_count": null
  },
  {
   "metadata": {},
   "cell_type": "markdown",
   "source": "#### Współczynniki LogisticRegression",
   "id": "9e5666a1c89e0766"
  },
  {
   "metadata": {},
   "cell_type": "code",
   "source": [
    "coefficients = stacking.final_estimator_.coef_\n",
    "\n",
    "proba_ticks = [f'cat_{salary_category_encoder.inverse_transform([i % 3])[0]}' for i in range(coefficients.shape[1])]\n",
    "proba_ticks[3:6] = [f'lgb_{salary_category_encoder.inverse_transform([i % 3])[0]}' for i in range(coefficients.shape[1] // 3)]\n",
    "proba_ticks[6:9] = [f'xgb_{salary_category_encoder.inverse_transform([i % 3])[0]}' for i in range(coefficients.shape[1] // 3)]\n",
    "\n",
    "plt.figure(figsize=(12, 8))\n",
    "sns.heatmap(\n",
    "    coefficients,\n",
    "    yticklabels=salary_category_encoder.classes_,\n",
    "    xticklabels=proba_ticks,\n",
    "    annot=True,\n",
    "    fmt='.2f',\n",
    "    cbar=False,\n",
    "    cmap='viridis'\n",
    ")\n",
    "\n",
    "plt.title('Moc wpływu składowych klas modeli na ostateczne predykcje dla StackingClassifier', fontsize=16)\n",
    "plt.xlabel('Klasa modeli bazowych', fontsize=12)\n",
    "plt.ylabel('Ostateczna klasa', fontsize=12)"
   ],
   "id": "57f01f609f973457",
   "outputs": [],
   "execution_count": null
  },
  {
   "metadata": {},
   "cell_type": "markdown",
   "source": "#### Wizualizacja regresji logistycznej",
   "id": "1c65ac1b46490cb5"
  },
  {
   "metadata": {},
   "cell_type": "code",
   "source": [
    "from matplotlib.patches import Patch\n",
    "\n",
    "log_reg_pred = pd.DataFrame(data=stacking_pred_proba, columns=salary_category_encoder.inverse_transform([0, 1, 2]))\n",
    "log_reg_pred['true'] = salary_category_encoder.inverse_transform(y_test)\n",
    "\n",
    "colors = ['red', 'green', 'blue']\n",
    "classes = salary_category_encoder.inverse_transform([0, 1, 2])\n",
    "palette = dict(zip(classes, colors))\n",
    "g = sns.pairplot(log_reg_pred, hue='true', palette=palette)\n",
    "g._legend.remove()\n",
    "\n",
    "handles = [Patch(color=colors[i], label=cls) for i, cls in enumerate(classes)]\n",
    "\n",
    "plt.legend(handles=handles, title='Prawdziwa klasa', bbox_to_anchor=(1.05, 1), loc='upper left')\n",
    "\n",
    "plt.suptitle('Predykcje regresji logistycznej, a rzeczywisty podział klas', y=1.02)\n",
    "plt.show()"
   ],
   "id": "93e44d3986862c93",
   "outputs": [],
   "execution_count": null
  },
  {
   "metadata": {},
   "cell_type": "markdown",
   "source": "### <center>Macierze pomyłek</center>",
   "id": "2e54d07bd5a25423"
  },
  {
   "metadata": {},
   "cell_type": "code",
   "source": [
    "fig, ax = plt.subplots(nrows=2, ncols=2, figsize=(10, 12))\n",
    "\n",
    "fig.suptitle('Macierze pomyłek dla wybranych klasyfikatorów', fontsize=16, fontweight='bold')\n",
    "\n",
    "pred = [catBoost_pred, lightgbm_pred, xgBoost_pred, stacking_pred]\n",
    "titles = ['CatBoost', 'LightGBM', 'XGBoost', 'StackingClassifier']\n",
    "\n",
    "sns.set_style('white')\n",
    "\n",
    "for i in range(len(titles)):\n",
    "    xc, yc = divmod(i, 2)\n",
    "    conf_matrix = confusion_matrix(y_test, pred[i])\n",
    "    sns.heatmap(\n",
    "        conf_matrix.T,\n",
    "        annot=True,\n",
    "        fmt='d',\n",
    "        cbar=False,\n",
    "        xticklabels=salary_category_encoder.classes_,\n",
    "        yticklabels=salary_category_encoder.classes_,\n",
    "        ax=ax[xc, yc],\n",
    "        cmap='rocket',\n",
    "        annot_kws={'size': 16}\n",
    "    )\n",
    "    ax[xc, yc].set_title(f'{titles[i]}', fontsize=16, pad=12)\n",
    "    ax[xc, yc].set_xlabel('Rzeczywiste etykiety' if xc == 1 else '', fontdict={'fontsize': 14})\n",
    "    ax[xc, yc].set_ylabel('Przewidziane etykiety' if i % 2 == 0 else '', fontdict={'fontsize': 14})\n",
    "    ax[xc, yc].grid(False)\n",
    "\n",
    "\n",
    "plt.tight_layout(rect=[0, 0, 1, 0.97])\n",
    "plt.show()"
   ],
   "id": "80ea14a4be5e3811",
   "outputs": [],
   "execution_count": null
  },
  {
   "metadata": {},
   "cell_type": "markdown",
   "source": "### <center>Krzywe ROC</center>",
   "id": "2b1ee622fa1e341d"
  },
  {
   "metadata": {},
   "cell_type": "code",
   "source": [
    "label_binarizer = LabelBinarizer().fit(y_train)\n",
    "y_onehot_test = label_binarizer.transform(y_test)\n",
    "\n",
    "class_of_interest = salary_category_encoder.inverse_transform(class_labels)\n",
    "\n",
    "fig, ax = plt.subplots(nrows=3, ncols=4, figsize=(16, 12))\n",
    "fig.suptitle('Krzywe ROC One-vs-Rest dla wszystkich klasyfikatorów', fontsize=16, fontweight='bold')\n",
    "colors = ['#1f77b4', '#ff7f0e', '#2ca02c', '#d62728', '#9467bd', '#8c564b', '#17becf']\n",
    "\n",
    "model_pred_proba = [catBoost_pred_proba, lgb_pred_proba, xgBoost_pred_proba, stacking_pred_proba]\n",
    "titles = ['CatBoost', 'LightGBM', 'XGBoost', 'StackingClassifier']\n",
    "\n",
    "for mi in range(len(titles)):\n",
    "    model_auc_scores = [roc_auc_score(y_onehot_test[:, i], model_pred_proba[mi][:, i]) for i in range(len(class_labels))]\n",
    "    legend_elements = [Line2D([0], [0], color=colors[i], label=f'{class_of_interest[i]} (AUC = {model_auc_scores[i]:.3f})') for i in range(len(class_of_interest))]\n",
    "    legend_elements.append(Line2D([0], [0], linestyle='dashed', color='black', label=f'Losowy wybór (AUC = 0.5)'))\n",
    "    for class_id in range(len(class_labels)):\n",
    "        RocCurveDisplay.from_predictions(\n",
    "            y_onehot_test[:, class_id],\n",
    "            model_pred_proba[mi][:, class_id],\n",
    "            name=f'{class_of_interest[class_id]} vs Rest',\n",
    "            plot_chance_level=True,\n",
    "            ax=ax[class_id, mi],\n",
    "            color=colors[class_id],\n",
    "        )\n",
    "        ax[class_id, mi].grid(True)\n",
    "        ax[class_id, mi].set_label(class_of_interest[class_id])\n",
    "        ax[class_id, mi].set_title(f'{class_of_interest[class_id]} vs Rest', fontsize=14)\n",
    "        ax[class_id, mi].set_xlabel('False Positive Rate')\n",
    "        ax[class_id, mi].set_ylabel('True Positive Rate')\n",
    "        ax[class_id, mi].get_legend().remove()\n",
    "\n",
    "    ax[0, mi].legend(handles=legend_elements, loc='lower center', bbox_to_anchor=(0.5, 1.3), fontsize=10, title='Klasa (One-vs-Rest)', title_fontsize=11, frameon=True)\n",
    "    ax[0, mi].text(0.5, 2, f'{titles[mi]}', ha='center', va='center', fontsize=17)\n",
    "\n",
    "plt.tight_layout(rect=[0, 0, 1, 0.97])\n",
    "plt.show()"
   ],
   "id": "78d6c28cf1f86c7a",
   "outputs": [],
   "execution_count": null
  },
  {
   "metadata": {},
   "cell_type": "markdown",
   "source": "### <center>Krzywe uczenia</center>",
   "id": "f623b06b640ffd8d"
  },
  {
   "metadata": {},
   "cell_type": "code",
   "source": [
    "# fig, ax = plt.subplots(nrows=2, ncols=2, figsize=(18, 20), sharex=True, sharey=True)\n",
    "#\n",
    "# plt.suptitle('Krzywe uczenia dla wybranych klasyfikatorów', fontsize=16, fontweight='bold')\n",
    "# models = [catBoost, lightgbm, xgBoost, stacking]\n",
    "# titles = ['CatBoost', 'LightGBM', 'XGBoost', 'StackingClassifier']\n",
    "# for i in range(len(titles)):\n",
    "#     x1, y1 = divmod(i, 2)\n",
    "#     LearningCurveDisplay.from_estimator(\n",
    "#         estimator=models[i],\n",
    "#         X=X,\n",
    "#         y=y,\n",
    "#         cv=5,\n",
    "#         scoring='accuracy',\n",
    "#         train_sizes=np.linspace(0.1, 1.0, 10),\n",
    "#         line_kw= {'marker': 'o'},\n",
    "#         ax=ax[x1, y1],\n",
    "#         n_jobs=-1\n",
    "#     )\n",
    "#     ax[x1, y1].grid(True)\n",
    "#     ax[x1, y1].set_title(titles[i], fontsize=16, pad=10)\n",
    "#     ax[x1, y1].set_ylabel('Wartość dokładności')\n",
    "#     ax[x1, y1].set_xlabel('Liczba danych zbioru treningowego' if i == len(titles) - 1 else '')\n",
    "#\n",
    "# plt.tight_layout(rect=[0, 0, 1, 0.97])\n",
    "# plt.show()"
   ],
   "id": "59b940a61e17470c",
   "outputs": [],
   "execution_count": null
  },
  {
   "metadata": {},
   "cell_type": "markdown",
   "source": "#### Fit na X, y",
   "id": "5c9945338ad3e98e"
  },
  {
   "metadata": {},
   "cell_type": "code",
   "source": [
    "lightgbm.fit(X, y)\n",
    "catBoost.fit(X, y)\n",
    "xgBoost.fit(X, y)\n",
    "stacking.fit(X, y)"
   ],
   "id": "51a491ea9df5c064",
   "outputs": [],
   "execution_count": null
  },
  {
   "metadata": {},
   "cell_type": "markdown",
   "source": "### <center>Ostateczne predykcje</center>",
   "id": "d69e653b89e67e95"
  },
  {
   "metadata": {},
   "cell_type": "code",
   "source": [
    "final_stacking_pred = stacking.predict(test)\n",
    "final_stacking_pred_proba = stacking.predict_proba(test)\n",
    "\n",
    "final_stacking_pred_proba"
   ],
   "id": "1f681e289cee24ca",
   "outputs": [],
   "execution_count": null
  },
  {
   "metadata": {},
   "cell_type": "code",
   "source": [
    "def prepare_submission(predictions, name):\n",
    "    if 'submissions' not in os.listdir(os.getcwd()):\n",
    "        os.mkdir('submissions')\n",
    "    submission = pd.DataFrame(\n",
    "        data={\n",
    "            'obs': test_obs,\n",
    "            'salary_category': salary_category_encoder.inverse_transform(predictions)\n",
    "        }\n",
    "    )\n",
    "    submission.to_csv(os.path.join('submissions', f'{name}.csv'), index=False)\n",
    "    return submission\n",
    "\n",
    "st = prepare_submission(final_stacking_pred, 'stacking_lgb_xgb_cat')\n",
    "the_best = pd.read_csv('the_best.csv')"
   ],
   "id": "ab5d195660ace3c3",
   "outputs": [],
   "execution_count": null
  },
  {
   "metadata": {},
   "cell_type": "code",
   "source": "st['salary_category'].value_counts()",
   "id": "ad641e05b72638b9",
   "outputs": [],
   "execution_count": null
  },
  {
   "metadata": {},
   "cell_type": "code",
   "source": "the_best['salary_category'].value_counts()",
   "id": "390aa5fd399eea8d",
   "outputs": [],
   "execution_count": null
  },
  {
   "metadata": {},
   "cell_type": "code",
   "source": [
    "st.rename(columns={'salary_category': 'new_sub'}, inplace=True)\n",
    "the_best.rename(columns={'salary_category': 'old_sub'}, inplace=True)\n",
    "\n",
    "compare = pd.merge(st, the_best, on='obs', how='inner')"
   ],
   "id": "34e4c31d56f91e59",
   "outputs": [],
   "execution_count": null
  },
  {
   "metadata": {},
   "cell_type": "code",
   "source": "prepare_submission(lightgbm.predict(test), 'lgb')['salary_category'].value_counts()",
   "id": "fe3882ed17e05dd3",
   "outputs": [],
   "execution_count": null
  },
  {
   "metadata": {},
   "cell_type": "code",
   "source": "prepare_submission(xgBoost.predict(test), 'xgb')['salary_category'].value_counts()",
   "id": "7b722100449e4411",
   "outputs": [],
   "execution_count": null
  },
  {
   "metadata": {},
   "cell_type": "code",
   "source": "prepare_submission(catBoost.predict(test), 'cat')['salary_category'].value_counts()",
   "id": "d5fef5daf870f740",
   "outputs": [],
   "execution_count": null
  },
  {
   "metadata": {},
   "cell_type": "code",
   "source": "len(compare.loc[compare['new_sub'] != compare['old_sub'], 'obs'].to_numpy())",
   "id": "684240de685ed80c",
   "outputs": [],
   "execution_count": null
  },
  {
   "metadata": {},
   "cell_type": "code",
   "source": "compare.loc[compare['new_sub'] != compare['old_sub'], 'obs'].to_numpy()",
   "id": "130f9b622ecb5245",
   "outputs": [],
   "execution_count": null
  },
  {
   "metadata": {},
   "cell_type": "code",
   "source": "compare.loc[compare['new_sub'] != compare['old_sub'], :]",
   "id": "1c9a9b26e8ebf060",
   "outputs": [],
   "execution_count": null
  },
  {
   "metadata": {},
   "cell_type": "markdown",
   "source": "#### Informacje o modelach",
   "id": "14235b7ed420074f"
  },
  {
   "metadata": {
    "collapsed": true
   },
   "cell_type": "code",
   "source": [
    "if 'models' not in os.listdir(os.getcwd()):\n",
    "    os.mkdir('models')\n",
    "\n",
    "timestamp = datetime.now().strftime('%Y-%m-%d_%H-%M-%S')\n",
    "with open(os.path.join('models', f'model_info_{timestamp}.txt'), 'w') as f:\n",
    "    f.write(f'Test size: {test_size}\\n\\n')\n",
    "\n",
    "    f.write('CatBoost Parameters:\\n')\n",
    "    for key, value in catBoost.get_params().items():\n",
    "        f.write(f'\"{key}\": {value},\\n')\n",
    "\n",
    "    f.write('\\nLightGBM Parameters:\\n')\n",
    "    for key, value in lightgbm.get_params().items():\n",
    "        f.write(f'\"{key}\": {value},\\n')\n",
    "\n",
    "    f.write('\\nXGBoost Parameters:\\n')\n",
    "    for key, value in xgBoost.get_params().items():\n",
    "        f.write(f'\"{key}\": {value},\\n')"
   ],
   "id": "initial_id",
   "outputs": [],
   "execution_count": null
  }
 ],
 "metadata": {
  "kernelspec": {
   "display_name": "Python 3",
   "language": "python",
   "name": "python3"
  },
  "language_info": {
   "codemirror_mode": {
    "name": "ipython",
    "version": 2
   },
   "file_extension": ".py",
   "mimetype": "text/x-python",
   "name": "python",
   "nbconvert_exporter": "python",
   "pygments_lexer": "ipython2",
   "version": "2.7.6"
  }
 },
 "nbformat": 4,
 "nbformat_minor": 5
}
